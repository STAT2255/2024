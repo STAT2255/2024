{
 "cells": [
  {
   "cell_type": "markdown",
   "metadata": {},
   "source": [
    "# Homework 2"
   ]
  },
  {
   "cell_type": "markdown",
   "metadata": {},
   "source": [
    "# Problem 1"
   ]
  },
  {
   "cell_type": "markdown",
   "metadata": {},
   "source": [
    "## (a)  5 pts\n",
    "Create a list that contains all the integers between 501 to 600 that are divisible by 5."
   ]
  },
  {
   "cell_type": "code",
   "execution_count": null,
   "metadata": {},
   "outputs": [],
   "source": []
  },
  {
   "cell_type": "markdown",
   "metadata": {},
   "source": [
    "## (b)  5 pts\n",
    "\n",
    "Create a list that contains all the odd integers between 501 to 600 that\n",
    "are divisible by 3."
   ]
  },
  {
   "cell_type": "code",
   "execution_count": null,
   "metadata": {},
   "outputs": [],
   "source": []
  },
  {
   "cell_type": "markdown",
   "metadata": {},
   "source": [
    "## (c)  5 pts\n",
    "\n",
    "Create a list that contains all the integers between 501 to 600 that\n",
    "are divisible by both 6 and 9. "
   ]
  },
  {
   "cell_type": "code",
   "execution_count": null,
   "metadata": {},
   "outputs": [],
   "source": []
  },
  {
   "attachments": {},
   "cell_type": "markdown",
   "metadata": {},
   "source": [
    "# Problem 2\n",
    "\n",
    "Define 2 lists such that\n",
    "\n",
    "```python\n",
    "L1 = list(range(1, 101))\n",
    "L2 = [2, 3, 3, 4, 4, 5, 5, 5, 6, 6, 6]\n",
    "```"
   ]
  },
  {
   "cell_type": "code",
   "execution_count": null,
   "metadata": {},
   "outputs": [],
   "source": []
  },
  {
   "cell_type": "markdown",
   "metadata": {},
   "source": [
    "## (a)  5 pts\n",
    "\n",
    "Using list index to get all the even number from L1 in decreasing order."
   ]
  },
  {
   "cell_type": "code",
   "execution_count": null,
   "metadata": {},
   "outputs": [],
   "source": []
  },
  {
   "cell_type": "markdown",
   "metadata": {},
   "source": [
    "## (b)  5 pts\n",
    "\n",
    "Use dictionary to generate a frequency table of **L2**. Each number as the key and its corresponding frequency as the value, i.g. {3:2} means number 3 appears 2 times."
   ]
  },
  {
   "cell_type": "code",
   "execution_count": null,
   "metadata": {},
   "outputs": [],
   "source": []
  },
  {
   "cell_type": "markdown",
   "metadata": {},
   "source": [
    "## (c) 5 pts\n",
    "\n",
    "If randomly select a number from L2, what is the probability that the number is even? Use a simulation to approximate the probability and compare it with the theoretical value.\n",
    "\n",
    "For simulation, you can use the `sample` function from `random` to simulate the task of randomly select a number from `L2`, e.g.\n",
    "use\n",
    "```python\n",
    "import random\n",
    "random.seed(2255)\n",
    "```\n",
    "to import the `random` and fixed the random seed. Then\n",
    "```python\n",
    "random.sample(L2, 1)[0]\n",
    "```\n",
    "gives you a randomly selected number from `L2`."
   ]
  },
  {
   "cell_type": "code",
   "execution_count": null,
   "metadata": {},
   "outputs": [],
   "source": [
    "import random\n",
    "random.seed(2255)\n",
    "# Do not remove the above two lines. Put your code below\n"
   ]
  },
  {
   "cell_type": "markdown",
   "metadata": {},
   "source": [
    "## (d) 5 pts\n",
    "\n",
    "Use list compression to create a list that contains the keys with highest frequency from the dictionary in part (b)"
   ]
  },
  {
   "cell_type": "code",
   "execution_count": null,
   "metadata": {},
   "outputs": [],
   "source": []
  },
  {
   "attachments": {},
   "cell_type": "markdown",
   "metadata": {},
   "source": [
    "# Problem 3\n",
    "\n",
    "Data sets are frequently provided as a CSV file. We want to \"open\" that file in our script and put the data in a Python list. The function ```open()``` gives you a file object. **Make sure that you download the data.csv file to the same folder of the hw02.ypvnb file**.\n",
    "\n",
    "```python\n",
    "f = open('data.csv')\n",
    "```\n",
    "\n",
    "There are all sorts of methods you can give to files.\n",
    "* ```f.close()``` - Closes the file. Just like **File -> Save**.\n",
    "* ```f.read()``` - Reads the contents of the file. You can assign the result to a variable.\n",
    "* ```f.readline()``` - Reads just one line of a text file.\n",
    "* ```f.write(stuff)``` - Writes stuff to the file.\n",
    "\n",
    "These are the important methods you need to know for now. Some of them take parameters, but we don't really care about that."
   ]
  },
  {
   "cell_type": "markdown",
   "metadata": {},
   "source": [
    "## (a) 5 pts\n",
    "\n",
    "Open the **data.csv** file, read the contents, and assign it to a variable called **contents**. Type **contents** to see what is the output.\n"
   ]
  },
  {
   "cell_type": "code",
   "execution_count": null,
   "metadata": {},
   "outputs": [],
   "source": []
  },
  {
   "cell_type": "markdown",
   "metadata": {},
   "source": [
    "What is the type of the variable?"
   ]
  },
  {
   "cell_type": "code",
   "execution_count": null,
   "metadata": {},
   "outputs": [],
   "source": []
  },
  {
   "cell_type": "markdown",
   "metadata": {},
   "source": [
    "## (b)  5 pts\n",
    "\n",
    "In a string, an escape character is a character that takes on an alternative meaning in a string. Many\n",
    "programming languages use the ⧵ (backslash) as an escape character. For example, **⧵n**\n",
    "indicates new line (white spaces until next line), **⧵t** means tab, and so on.\n",
    "\n",
    "As we discussed in the lecture, we can apply the ```.split()``` function to **str** typed object to split a string into a list of strings after breaking the given string by the specified delimiter. If the delimiter is not provided, any white space is a separator. Use the ```.split()``` method and print the returned list."
   ]
  },
  {
   "cell_type": "code",
   "execution_count": null,
   "metadata": {},
   "outputs": [],
   "source": []
  },
  {
   "attachments": {},
   "cell_type": "markdown",
   "metadata": {},
   "source": [
    "## (c)  5 pts\n",
    "\n",
    "We've imported the CSV file into Python as a list, but the values are strings, not floats. We can coerce a variable to a specific type (not always). For example, ```fake_pi = '3.141592'``` is a string, but it can be coerced to a float by running ```real_pi = float(fake_pi)``` .\n",
    "Use the ```float()``` function in a list comprehension to coerce all elements to floats.\n",
    "<!-- \n",
    "Recall the list comprehension syntax\n",
    "```python\n",
    "['expression involving item' for item in List if condition == True]\n",
    "``` -->"
   ]
  },
  {
   "cell_type": "code",
   "execution_count": null,
   "metadata": {},
   "outputs": [],
   "source": []
  },
  {
   "cell_type": "markdown",
   "metadata": {},
   "source": [
    "# Problem 4\n",
    "Create the following lists that you will use for testing your functions:\n",
    "```python\n",
    "L1 = [2, 2, 5, 5]\n",
    "L2 = [2, 2, 5, 6, 9]\n",
    "L3 = [1, 2, 2, 3]\n",
    "L4 = [1, 3, 3, 4, 4, 5, 5]\n",
    "L5 = [1, 3, 3, 4, 4, 5, 5]\n",
    "```"
   ]
  },
  {
   "cell_type": "code",
   "execution_count": null,
   "metadata": {},
   "outputs": [],
   "source": []
  },
  {
   "cell_type": "markdown",
   "metadata": {},
   "source": [
    "## (a)  15 pts\n",
    "\n",
    "Create a function called **FizzBuzz** that takes 3 arguments n, a, b\n",
    "as input. The function should satisfy the followings:\n",
    "* Set the default values for a = 3 and b = 5.\n",
    "* If n is divisible by a, return string \"Fizz\".\n",
    "* If n is divisible by b, return string \"Buzz\".\n",
    "* If n is divisible by both a and b, return string \"FizzBuzz\".\n",
    "* If none of the above is true, return n.\n",
    "\n",
    "Verify your function using values of n from 1 to 50."
   ]
  },
  {
   "cell_type": "code",
   "execution_count": null,
   "metadata": {},
   "outputs": [],
   "source": []
  },
  {
   "cell_type": "markdown",
   "metadata": {},
   "source": [
    "## (b)  5 pts\n",
    "\n",
    "Write a function called **my_mean** that takes a list of numbers as input and return their mean (Do not import any module). Test it with \n",
    "`L1-L5`."
   ]
  },
  {
   "cell_type": "code",
   "execution_count": null,
   "metadata": {},
   "outputs": [],
   "source": []
  },
  {
   "cell_type": "markdown",
   "metadata": {},
   "source": [
    "## (c)  10 pts\n",
    "\n",
    "Write a function called **my_median** that takes a list of numbers as input and return their median (Do not import any module). Test it with `L1-L5`."
   ]
  },
  {
   "cell_type": "code",
   "execution_count": null,
   "metadata": {},
   "outputs": [],
   "source": []
  },
  {
   "cell_type": "markdown",
   "metadata": {},
   "source": [
    "## (d)  10 pts\n",
    "\n",
    "Write a function called **my_mode** that takes a list of numbers as\n",
    "input and return their mode. In the case of multiple modes, return the smallest\n",
    "among them (Do not import any module). Test it with `L1-L5`."
   ]
  },
  {
   "cell_type": "code",
   "execution_count": null,
   "metadata": {},
   "outputs": [],
   "source": []
  },
  {
   "cell_type": "markdown",
   "metadata": {},
   "source": [
    "## (e)  10 pts\n",
    "\n",
    "Use the functions in the previous part, write a function called\n",
    "**my_stat** that takes a list of numbers as input and return a dictionary with\n",
    "key:value pairs corresponding to the mean, median, mode of the\n",
    "input list (Do not import any module). Test it with `L1-L5`."
   ]
  },
  {
   "cell_type": "code",
   "execution_count": null,
   "metadata": {},
   "outputs": [],
   "source": []
  }
 ],
 "metadata": {
  "kernelspec": {
   "display_name": "Python 3 (ipykernel)",
   "language": "python",
   "name": "python3"
  },
  "language_info": {
   "codemirror_mode": {
    "name": "ipython",
    "version": 3
   },
   "file_extension": ".py",
   "mimetype": "text/x-python",
   "name": "python",
   "nbconvert_exporter": "python",
   "pygments_lexer": "ipython3",
   "version": "3.11.4"
  }
 },
 "nbformat": 4,
 "nbformat_minor": 4
}
