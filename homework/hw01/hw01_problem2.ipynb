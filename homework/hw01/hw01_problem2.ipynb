{
 "cells": [
  {
   "cell_type": "markdown",
   "metadata": {},
   "source": [
    "STAT 2255: Homework 01\n",
    "===============================\n",
    "\n"
   ]
  },
  {
   "cell_type": "markdown",
   "metadata": {},
   "source": [
    "## Problem 2 (stat2255)\n",
    "\n"
   ]
  },
  {
   "cell_type": "markdown",
   "metadata": {},
   "source": [
    "1. Create the virtual environment `stat2255` from the file environment.yaml in the notes folder. This will be used for the rest of the semester.\n",
    "2. Start `jupyter notebook` from the `stat2255` virtual environment, open this notebook, and run the code in the following shell.\n",
    "5. Export with the outputs as a pdf file to submit in HuskyCT together with this notebook."
   ]
  },
  {
   "cell_type": "markdown",
   "metadata": {},
   "source": [
    "### Run the codes in Jupyter notebook\n",
    "\n"
   ]
  },
  {
   "cell_type": "code",
   "execution_count": null,
   "metadata": {
    "scrolled": true
   },
   "outputs": [],
   "source": [
    "import platform, notebook, matplotlib, pandas, scipy, statsmodels, seaborn, numpy\n",
    "\n",
    "print('Python version: ', platform.python_version())\n",
    "print('Jupyter notebook version: ', notebook.__version__)\n",
    "print('Matplotlib version: ', matplotlib.__version__)\n",
    "print('Pandas version: ', pandas.__version__)\n",
    "print('Scipy version: ', scipy.__version__)\n",
    "print('Statsmodels version: ', statsmodels.__version__)\n",
    "print('Seaborn version: ', seaborn.__version__)\n",
    "print('Numpy version: ', numpy.__version__)"
   ]
  }
 ],
 "metadata": {
  "kernelspec": {
   "display_name": "Python 3 (ipykernel)",
   "language": "python",
   "name": "python3"
  },
  "language_info": {
   "codemirror_mode": {
    "name": "ipython",
    "version": 3
   },
   "file_extension": ".py",
   "mimetype": "text/x-python",
   "name": "python",
   "nbconvert_exporter": "python",
   "pygments_lexer": "ipython3",
   "version": "3.12.4"
  },
  "org": null
 },
 "nbformat": 4,
 "nbformat_minor": 4
}
