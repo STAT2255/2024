{
 "cells": [
  {
   "cell_type": "markdown",
   "id": "74d76532",
   "metadata": {},
   "source": [
    "# Running Time Analysis\n",
    "Our major goal in programming is to write code that is **readable**, **correct**, and **efficient**.\n",
    "* The Python's indentation syntax makes the first part easier, but you still need to be careful when writting your code. \n",
    "* To make sure the code is correct, we talked about how to write a test to see if it returns what we expect."
   ]
  },
  {
   "cell_type": "markdown",
   "id": "9ae878c2",
   "metadata": {},
   "source": [
    "# How about efficiency?\n",
    "\n",
    "When talking about efficiency, usually, the first thing comes to mind is how fast is our program."
   ]
  },
  {
   "cell_type": "markdown",
   "id": "60dd35e7",
   "metadata": {},
   "source": [
    "# Example\n",
    "\n",
    "- Let's first see some examples of the difference in times for different functions that do the same thing.\n",
    "- To time our function, we will use the ```time``` function from the ```time``` package."
   ]
  },
  {
   "cell_type": "code",
   "execution_count": 1,
   "id": "657da0c1",
   "metadata": {},
   "outputs": [],
   "source": [
    "import time"
   ]
  },
  {
   "cell_type": "code",
   "execution_count": 4,
   "id": "11445d42-a99e-4e78-b5fe-a1dfcd9784fa",
   "metadata": {},
   "outputs": [
    {
     "data": {
      "text/plain": [
       "1727964736.431477"
      ]
     },
     "execution_count": 4,
     "metadata": {},
     "output_type": "execute_result"
    }
   ],
   "source": [
    "start = time.time()\n",
    "start"
   ]
  },
  {
   "cell_type": "code",
   "execution_count": 5,
   "id": "4125967a-2d8b-4d83-96b5-33709d391bc0",
   "metadata": {},
   "outputs": [
    {
     "data": {
      "text/plain": [
       "34.86612606048584"
      ]
     },
     "execution_count": 5,
     "metadata": {},
     "output_type": "execute_result"
    }
   ],
   "source": [
    "time.time() - start"
   ]
  },
  {
   "cell_type": "markdown",
   "id": "f8fb101a",
   "metadata": {},
   "source": [
    "## Example 1. Check duplicates in a list\n",
    "\n",
    "Suppose we want a function that takes a list as input; it returns ```True``` if there are any duplicates and ```False``` otherwise."
   ]
  },
  {
   "cell_type": "markdown",
   "id": "383807ee",
   "metadata": {},
   "source": [
    "### First solution"
   ]
  },
  {
   "cell_type": "code",
   "execution_count": 6,
   "id": "a0d18a70",
   "metadata": {},
   "outputs": [],
   "source": [
    "def duplicates1(L):\n",
    "    n = len(L)\n",
    "    for i in range(n):\n",
    "        for j in range(n):\n",
    "            if i != j and L[i] == L[j]:\n",
    "                return True\n",
    "    return False"
   ]
  },
  {
   "cell_type": "code",
   "execution_count": 7,
   "id": "a4978e8b",
   "metadata": {},
   "outputs": [
    {
     "data": {
      "text/plain": [
       "True"
      ]
     },
     "execution_count": 7,
     "metadata": {},
     "output_type": "execute_result"
    }
   ],
   "source": [
    "duplicates1([1,2,3,5,2,5,7,8,4,2,4,6,7])"
   ]
  },
  {
   "cell_type": "code",
   "execution_count": 8,
   "id": "3dedc219",
   "metadata": {},
   "outputs": [
    {
     "data": {
      "text/plain": [
       "False"
      ]
     },
     "execution_count": 8,
     "metadata": {},
     "output_type": "execute_result"
    }
   ],
   "source": [
    "duplicates1([1,2,3,4,5])"
   ]
  },
  {
   "cell_type": "markdown",
   "id": "e4b3c6ec",
   "metadata": {},
   "source": [
    "How long does this function take to run? Let's measure the time on a list with length 1000."
   ]
  },
  {
   "cell_type": "code",
   "execution_count": 15,
   "id": "fb9894f2-972d-454a-8db5-ef6f2c457ce5",
   "metadata": {},
   "outputs": [
    {
     "name": "stdout",
     "output_type": "stream",
     "text": [
      "0.03869891166687012\n"
     ]
    }
   ],
   "source": [
    "start = time.time()\n",
    "duplicates1(list(range(1000)))\n",
    "timetaken = time.time() - start\n",
    "print(timetaken)"
   ]
  },
  {
   "cell_type": "markdown",
   "id": "110b7610-32e9-414e-ab0c-d383be1949a2",
   "metadata": {},
   "source": [
    "Let's run the same function call a few times."
   ]
  },
  {
   "cell_type": "code",
   "execution_count": 16,
   "id": "3040e94a-066e-4939-b640-26c4e4513ab1",
   "metadata": {},
   "outputs": [
    {
     "name": "stdout",
     "output_type": "stream",
     "text": [
      "Time taken for n =  1000 :  0.044801950454711914\n",
      "Time taken for n =  1000 :  0.06795692443847656\n",
      "Time taken for n =  1000 :  0.028955936431884766\n",
      "Time taken for n =  1000 :  0.029108047485351562\n",
      "Time taken for n =  1000 :  0.028781652450561523\n"
     ]
    }
   ],
   "source": [
    "n = 1000\n",
    "L = list(range(n))\n",
    "for i in range(5):\n",
    "    start = time.time()\n",
    "    duplicates1(L)\n",
    "    timetaken = time.time() - start\n",
    "    print(\"Time taken for n = \", n, \": \", timetaken)"
   ]
  },
  {
   "cell_type": "markdown",
   "id": "835df1d8",
   "metadata": {},
   "source": [
    "Notice even for the same program, there are some variation in the time required.\n",
    "\n",
    "* This is caused by many factors, but the main reason is that the computer is performing many other tasks at the same time.\n",
    "* You can also expect the results to be very different if run on different computers.\n",
    "* The input may also have a significant impact."
   ]
  },
  {
   "cell_type": "code",
   "execution_count": 17,
   "id": "3754fb09",
   "metadata": {},
   "outputs": [
    {
     "name": "stdout",
     "output_type": "stream",
     "text": [
      "Time taken for n =  1000 :  2.1457672119140625e-06\n",
      "Time taken for n =  1000 :  9.5367431640625e-07\n",
      "Time taken for n =  1000 :  0.0\n",
      "Time taken for n =  1000 :  9.5367431640625e-07\n",
      "Time taken for n =  1000 :  9.5367431640625e-07\n"
     ]
    }
   ],
   "source": [
    "n = 1000\n",
    "L = [1] * n\n",
    "for i in range(5):\n",
    "    start = time.time()\n",
    "    duplicates1(L)\n",
    "    timetaken = time.time() - start\n",
    "    print(\"Time taken for n = \", n, \": \", timetaken)"
   ]
  },
  {
   "cell_type": "markdown",
   "id": "638f0c2b",
   "metadata": {},
   "source": [
    "To get a more accurate timing, let run it multiple times and take the average."
   ]
  },
  {
   "cell_type": "code",
   "execution_count": 18,
   "id": "9e2e23fc",
   "metadata": {},
   "outputs": [],
   "source": [
    "def timetrials(func, n, trials = 10):\n",
    "    totaltime = 0\n",
    "    L = list(range(n))\n",
    "    for i in range(trials):\n",
    "        start = time.time() \n",
    "        func(L)\n",
    "        time_for_one_run = time.time() - start\n",
    "        totaltime += time_for_one_run\n",
    "    print(\"average = %10.7f for n = %d\" % (totaltime/trials, n))"
   ]
  },
  {
   "cell_type": "markdown",
   "id": "e0f55fb7-20bf-45f3-acd8-2baa19444220",
   "metadata": {},
   "source": [
    "Here, `%10.7f` and `%d` specify the format of the numerical values."
   ]
  },
  {
   "cell_type": "code",
   "execution_count": 19,
   "id": "9793d2a3",
   "metadata": {},
   "outputs": [
    {
     "name": "stdout",
     "output_type": "stream",
     "text": [
      "average =  0.0000886 for n = 50\n",
      "average =  0.0002905 for n = 100\n",
      "average =  0.0011335 for n = 200\n",
      "average =  0.0042386 for n = 400\n",
      "average =  0.0216347 for n = 800\n",
      "average =  0.0776905 for n = 1600\n",
      "average =  0.3142747 for n = 3200\n"
     ]
    }
   ],
   "source": [
    "for n in [50, 100, 200, 400, 800, 1600, 3200]:\n",
    "    timetrials(duplicates1, n)"
   ]
  },
  {
   "cell_type": "markdown",
   "id": "ef61ed7f",
   "metadata": {},
   "source": [
    "Notice that the average running time **goes up** as n increases (here, n is the input size). "
   ]
  },
  {
   "cell_type": "markdown",
   "id": "b24a0e47",
   "metadata": {},
   "source": [
    "### Second solution\n",
    "\n",
    "Notice that in the first solution, we compared each pair twice because both ```i``` and ```j``` range over all n indices. "
   ]
  },
  {
   "cell_type": "code",
   "execution_count": 20,
   "id": "ae416e54",
   "metadata": {
    "scrolled": true
   },
   "outputs": [
    {
     "name": "stdout",
     "output_type": "stream",
     "text": [
      "average =  0.0000521 for n = 50\n",
      "average =  0.0002050 for n = 100\n",
      "average =  0.0006990 for n = 200\n",
      "average =  0.0022912 for n = 400\n",
      "average =  0.0104064 for n = 800\n",
      "average =  0.0289077 for n = 1600\n",
      "average =  0.1215052 for n = 3200\n"
     ]
    }
   ],
   "source": [
    "def duplicates2(L):\n",
    "    n = len(L)\n",
    "    for i in range(1,n):\n",
    "        for j in range(i):\n",
    "            if L[i] == L[j]:\n",
    "                return True\n",
    "    return False\n",
    "\n",
    "for n in [50, 100, 200, 400, 800, 1600, 3200]:\n",
    "    timetrials(duplicates2, n)"
   ]
  },
  {
   "cell_type": "markdown",
   "id": "9cd7e77a",
   "metadata": {},
   "source": [
    "### Third solution\n",
    "\n",
    "The ```any``` function takes a collection of booleans and returns True if any of the booleans are true."
   ]
  },
  {
   "cell_type": "code",
   "execution_count": 21,
   "id": "90cc2107",
   "metadata": {},
   "outputs": [],
   "source": [
    "def duplicates3(L):\n",
    "    n = len(L)\n",
    "    return any(L[i] == L[j] for i in range(1,n) for j in range(i))"
   ]
  },
  {
   "cell_type": "code",
   "execution_count": 22,
   "id": "987a4f12",
   "metadata": {
    "scrolled": true
   },
   "outputs": [
    {
     "name": "stdout",
     "output_type": "stream",
     "text": [
      "average =  0.0001139 for n = 50\n",
      "average =  0.0004610 for n = 100\n",
      "average =  0.0013005 for n = 200\n",
      "average =  0.0070762 for n = 400\n",
      "average =  0.0127748 for n = 800\n",
      "average =  0.0572413 for n = 1600\n",
      "average =  0.2199222 for n = 3200\n"
     ]
    }
   ],
   "source": [
    "for n in [50, 100, 200, 400, 800, 1600, 3200]:\n",
    "    timetrials(duplicates3, n)"
   ]
  },
  {
   "cell_type": "markdown",
   "id": "bd5a2760",
   "metadata": {},
   "source": [
    "## Example 2. Add first k numbers"
   ]
  },
  {
   "cell_type": "markdown",
   "id": "28000f1e",
   "metadata": {},
   "source": [
    "## First solution"
   ]
  },
  {
   "cell_type": "code",
   "execution_count": 2,
   "id": "9ace63f3",
   "metadata": {},
   "outputs": [],
   "source": [
    "def sumk(k):\n",
    "    start = time.time()\n",
    "    total = 0\n",
    "    for i in range(k+1):\n",
    "        total = total + i\n",
    "    end = time.time()\n",
    "    return total, end - start\n",
    "\n",
    "def timetrials(func, k, trials = 10):\n",
    "    totaltime = 0\n",
    "    for i in range(trials):\n",
    "        totaltime += func(k)[1]\n",
    "    print(\"average =%10.7f for k = %d\" % (totaltime/trials, k))"
   ]
  },
  {
   "cell_type": "code",
   "execution_count": 3,
   "id": "568d3747",
   "metadata": {},
   "outputs": [
    {
     "name": "stdout",
     "output_type": "stream",
     "text": [
      "average = 0.0005491 for k = 10000\n",
      "average = 0.0060370 for k = 100000\n",
      "average = 0.0615365 for k = 1000000\n",
      "average = 0.5908055 for k = 10000000\n"
     ]
    }
   ],
   "source": [
    "timetrials(sumk, 10000)\n",
    "timetrials(sumk, 100000)\n",
    "timetrials(sumk, 1000000)\n",
    "timetrials(sumk, 10000000)"
   ]
  },
  {
   "cell_type": "markdown",
   "id": "3a25c914",
   "metadata": {},
   "source": [
    "### Second solution\n",
    "\n",
    "Use the fact that $\\sum_{i=1}^k  i= 1+2+3+\\dots+k = \\frac{k(k+1)}{2}$."
   ]
  },
  {
   "cell_type": "code",
   "execution_count": 4,
   "id": "d0b67bbc",
   "metadata": {},
   "outputs": [],
   "source": [
    "def sumk2(k):\n",
    "    start = time.time()\n",
    "    total = k * (k + 1) // 2\n",
    "    end = time.time()\n",
    "    return total, end-start"
   ]
  },
  {
   "cell_type": "code",
   "execution_count": 5,
   "id": "36120fd3",
   "metadata": {},
   "outputs": [
    {
     "name": "stdout",
     "output_type": "stream",
     "text": [
      "average = 0.0000005 for k = 10000\n",
      "average = 0.0000004 for k = 100000\n",
      "average = 0.0000002 for k = 1000000\n",
      "average = 0.0000002 for k = 10000000\n",
      "average = 0.0000002 for k = 100000000\n"
     ]
    }
   ],
   "source": [
    "timetrials(sumk2, 10000)\n",
    "timetrials(sumk2, 100000)\n",
    "timetrials(sumk2, 1000000)\n",
    "timetrials(sumk2, 10000000)\n",
    "timetrials(sumk2, 100000000)"
   ]
  },
  {
   "cell_type": "markdown",
   "id": "270a2413",
   "metadata": {},
   "source": [
    "# Measure Efficiency of the Program\n",
    "\n",
    "The take away from above is that\n",
    "\n",
    "* The time depends on how large is the input.\n",
    "* The time depends on how fast is your computer. \n",
    "* The time **does not** depend on the length of your program.\n",
    "\n",
    "So, using absolute time to describe efficiency of your program is less informative. An appropriate description of the efficiency of our program should adapt to **different inputs** and **different computers**. "
   ]
  },
  {
   "cell_type": "markdown",
   "id": "dc0b35c6",
   "metadata": {},
   "source": [
    "## So, how do we measure?\n",
    "\n",
    "The technique we are going to introduce describes and summarizes the number of operations required to run the program.\n",
    "\n",
    "So, if we have two programs that do the same thing, for the same input, the one that required less operations is more efficient."
   ]
  },
  {
   "cell_type": "markdown",
   "id": "9c4e100c",
   "metadata": {},
   "source": [
    "## Atomic Operations\n",
    "\n",
    "Formally, the operations refer to atomic operations that can all be performed in a small number of clock cycles on your CPU and so correspond to a real amount of time. This is the unit we will use to describe the running time of our program.\n",
    "\n",
    "Atomic operations include:\n",
    "\n",
    "* arithmetic and boolean operations\n",
    "* variable assignment\n",
    "* accessing the value of a variable from its name\n",
    "* calling a function\n",
    "* returning from a function"
   ]
  },
  {
   "cell_type": "markdown",
   "id": "a30fd5d1",
   "metadata": {},
   "source": [
    "## Example\n",
    "\n",
    "![list operation](figures/list_operations.png)"
   ]
  },
  {
   "cell_type": "markdown",
   "id": "a4801094",
   "metadata": {},
   "source": [
    "## Asymptotic Analysis\n",
    "\n",
    "- As we see above, the running time of the program should be a function of our input size.\n",
    "- Let say our input is size n, the running time can be write as a mathematical function of $n$, say $f(n) = 3n^2+2n+1$.\n",
    "- When measure efficiency of our program, the goal is not to predict exactly how much time an algorithm will take, but rather to predict the order of growth of the time as the input size grows.\n",
    "- So, we usually are more interested in the running time of our program as $n$ is getting very large.\n",
    "- Also, when measure efficiency, we should always consider the **worst scenario**."
   ]
  },
  {
   "cell_type": "markdown",
   "id": "a90f9582",
   "metadata": {},
   "source": [
    "## The big-O notation\n",
    "\n",
    "The formal mathematical definition that allows us to ignore constant factors is called the **big-O notation**. \n",
    "\n",
    "> Given (nondecreasing) functions $f$ and $g$, we say $f(n) = O(g(n))$ if there exist constants $c$ and $n_0$ such that for all $n > n_0$ we have $f(n) \\le cg(n)$."
   ]
  },
  {
   "cell_type": "markdown",
   "id": "398afe6c",
   "metadata": {},
   "source": [
    "Using the example above, we can see that $f(n) = O(n^2)$, when $n_0=4$ and $c = 4$."
   ]
  },
  {
   "cell_type": "markdown",
   "id": "8464f664",
   "metadata": {},
   "source": [
    "## Features of big-O notation\n",
    "\n",
    "* The big-O hides constant factors. Any term that does not depend on the size of the input is considered a constant and will be suppressed in the big-O.\n",
    "* The big-O tells us about what will eventually be true when the input is **sufficiently large**."
   ]
  },
  {
   "cell_type": "markdown",
   "id": "a45b9dc2",
   "metadata": {},
   "source": [
    "## Use of big-O notation\n",
    "\n",
    "So, the big-O is going to be the term we will use to describe the running time of program and can be used to compare efficiancy of different programs.\n",
    "\n"
   ]
  },
  {
   "cell_type": "code",
   "execution_count": null,
   "id": "41b9e2fe",
   "metadata": {},
   "outputs": [],
   "source": [
    "def exf1(L): \n",
    "    x = 0 # 1, assign\n",
    "    for i in L: # loop n times\n",
    "        for j in L: # loop n times\n",
    "            x += i * j #, 3, two arithmetic operations and one assignment \n",
    "    return x # 1"
   ]
  },
  {
   "cell_type": "markdown",
   "id": "7d47b5ec",
   "metadata": {},
   "source": [
    "So, the total atomic operation is $3n^2+2$. We will report this as $O(n^2)$."
   ]
  },
  {
   "cell_type": "code",
   "execution_count": null,
   "id": "4dbb1574",
   "metadata": {},
   "outputs": [],
   "source": [
    "def exf2(L): \n",
    "    x=0 # 1\n",
    "    for j in range(1, len(L)): # loops n-1 times \n",
    "        for i in range(j): # loops j times\n",
    "            x += L[i] * L[j] # 5 two list accesses, two arithmetic operations, and one assignment\n",
    "    return x # 1"
   ]
  },
  {
   "cell_type": "markdown",
   "id": "d2b33da2",
   "metadata": {},
   "source": [
    "The total cost is $2+5\\sum_{i=1}^{n-1} i = 2+\\frac{5n(n-1)}{2} = O(n^2)$"
   ]
  },
  {
   "cell_type": "markdown",
   "id": "ee0ee09d",
   "metadata": {},
   "source": [
    "* Constant-time Functions, O(1)\n",
    "* Logarithmic-time Functions, $O(\\log n)$\n",
    "* Linear-time Functions, $O(n)$\n",
    "* n Log n, $O(n\\log n)$\n",
    "* Quadratic-time Functions, $O(n^2)$\n",
    "* Polynomial-time Functions, $O(n^k)$ for some constant k.\n",
    "* Exponential-time Functions, $O(2^n)$ \n",
    "* Factorial-time Functions, $O(n!)$\n"
   ]
  },
  {
   "cell_type": "markdown",
   "id": "6579588a",
   "metadata": {},
   "source": [
    "## Check if a number is in a sorted list"
   ]
  },
  {
   "cell_type": "code",
   "execution_count": 6,
   "id": "43060d25",
   "metadata": {},
   "outputs": [],
   "source": [
    "def check1(L, item):\n",
    "    for i in range(len(L)):\n",
    "        if item == L[i]:\n",
    "            return True\n",
    "    return False"
   ]
  },
  {
   "cell_type": "code",
   "execution_count": 7,
   "id": "303e0790",
   "metadata": {},
   "outputs": [],
   "source": [
    "def timetrials2(func, k, trials = 10):\n",
    "    totaltime = 0\n",
    "    L = list(range(k))\n",
    "    for i in range(trials):\n",
    "        start = time.time() \n",
    "        func(L, -1)\n",
    "        totaltime += time.time() - start\n",
    "    print(\"average =%10.7f for k = %d\" % (totaltime/trials, k))"
   ]
  },
  {
   "cell_type": "code",
   "execution_count": 8,
   "id": "61c98272",
   "metadata": {},
   "outputs": [
    {
     "name": "stdout",
     "output_type": "stream",
     "text": [
      "average = 0.0048778 for k = 100000\n",
      "average = 0.0469959 for k = 1000000\n",
      "average = 0.4836507 for k = 10000000\n"
     ]
    }
   ],
   "source": [
    "for n in [10**5, 10**6, 10**7]:\n",
    "    timetrials2(check1, n)"
   ]
  },
  {
   "cell_type": "code",
   "execution_count": 11,
   "id": "293fa56c",
   "metadata": {},
   "outputs": [],
   "source": [
    "def check2(L, item, left = 0, right = None):\n",
    "    if right is None: \n",
    "        right = len(L)\n",
    "    if right - left == 0: # empty list\n",
    "        return False\n",
    "    if right - left == 1: # list of a single element\n",
    "        return L[left] == item\n",
    "    median = (right + left) // 2\n",
    "    if item < L[median]:\n",
    "        return check2(L, item, left, median)\n",
    "    else:\n",
    "        return check2(L, item, median, right)"
   ]
  },
  {
   "cell_type": "code",
   "execution_count": 12,
   "id": "564d38a5",
   "metadata": {},
   "outputs": [
    {
     "name": "stdout",
     "output_type": "stream",
     "text": [
      "average = 0.0000092 for k = 100000\n",
      "average = 0.0000075 for k = 1000000\n",
      "average = 0.0000078 for k = 10000000\n"
     ]
    }
   ],
   "source": [
    "for n in [10**5, 10**6, 10**7]:\n",
    "    timetrials2(check2, n)"
   ]
  },
  {
   "cell_type": "code",
   "execution_count": 9,
   "id": "5e2258f1",
   "metadata": {},
   "outputs": [],
   "source": [
    "def check3(L, item):\n",
    "    if len(L) == 0: \n",
    "        return False\n",
    "    median = len(L) // 2\n",
    "    if item == L[median]:\n",
    "        return True\n",
    "    elif item < L[median]:\n",
    "        return check3(L[:median], item)\n",
    "    else:\n",
    "        return check3(L[median + 1:], item)"
   ]
  },
  {
   "cell_type": "code",
   "execution_count": 10,
   "id": "cc54352a",
   "metadata": {},
   "outputs": [
    {
     "name": "stdout",
     "output_type": "stream",
     "text": [
      "average = 0.0007069 for k = 100000\n",
      "average = 0.0183275 for k = 1000000\n",
      "average = 0.2005847 for k = 10000000\n"
     ]
    }
   ],
   "source": [
    "for n in [10**5, 10**6, 10**7]:\n",
    "    timetrials2(check3, n)"
   ]
  },
  {
   "cell_type": "markdown",
   "id": "d4fcd432",
   "metadata": {},
   "source": [
    "# Last note\n",
    "\n",
    "> \"I have a Python Program that I need to run everyday. It takes about 1.5s to run. I spent 6 hours re-writing this program and now it only takes 0.06s to run. So, after 41 years 24 days, the 6 hours I spent on re-writing finally paid back.\"\n"
   ]
  }
 ],
 "metadata": {
  "kernelspec": {
   "display_name": "stat2255",
   "language": "python",
   "name": "python3"
  },
  "language_info": {
   "codemirror_mode": {
    "name": "ipython",
    "version": 3
   },
   "file_extension": ".py",
   "mimetype": "text/x-python",
   "name": "python",
   "nbconvert_exporter": "python",
   "pygments_lexer": "ipython3",
   "version": "3.12.4"
  }
 },
 "nbformat": 4,
 "nbformat_minor": 5
}
