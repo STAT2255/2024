{
 "cells": [
  {
   "cell_type": "markdown",
   "id": "96fe9af9-4284-47a8-9206-854e29902198",
   "metadata": {},
   "source": [
    "2 == 3"
   ]
  },
  {
   "cell_type": "markdown",
   "id": "7ad45a29",
   "metadata": {},
   "source": [
    "# Heading"
   ]
  },
  {
   "cell_type": "markdown",
   "id": "06ab7705-8dc8-49f3-9d28-3ff91d888a72",
   "metadata": {},
   "source": [
    "# Heading 1\n",
    "## Heading 2\n",
    "### Heading 3\n",
    "#### Heading 4"
   ]
  },
  {
   "cell_type": "markdown",
   "id": "6b1885f9",
   "metadata": {},
   "source": [
    "# Headi\n",
    "## Heading 2\n",
    "### Heading 3\n",
    "#### Heading 4"
   ]
  },
  {
   "cell_type": "markdown",
   "id": "7ea81c71",
   "metadata": {},
   "source": [
    "# List"
   ]
  },
  {
   "cell_type": "markdown",
   "id": "884c3b0f",
   "metadata": {},
   "source": [
    "```\n",
    "* This is a bullet list\n",
    "* This is a bullet list\n",
    "* This is a bullet list\n",
    "\n",
    "\n",
    "1. And you can also create ordered lists\n",
    "2. by using numbers\n",
    "3. and listing new items in the lists \n",
    "4. on their own lines\n",
    "```\n",
    "\n",
    "For inline code use this: `inline code`."
   ]
  },
  {
   "cell_type": "markdown",
   "id": "07b47f24",
   "metadata": {},
   "source": [
    "* This is a bullet list\n",
    "* This is a bullet list\n",
    "* This is a bullet list\n",
    "\n",
    "- another list\n",
    "- another list\n",
    "\n",
    "1. And you can also create ordered lists\n",
    "2. by using numbers\n",
    "3. and listing new items in the lists\n",
    "   * level 2\n",
    "   * level 2\n",
    "     1. level 3\n",
    "     2. level 3\n",
    "5. on their own line"
   ]
  },
  {
   "cell_type": "markdown",
   "id": "87e4a0bb",
   "metadata": {},
   "source": [
    "# Bold and Italic"
   ]
  },
  {
   "cell_type": "markdown",
   "id": "0fac02a3",
   "metadata": {},
   "source": [
    "* This is `**bold text **`\n",
    "* This is `*italic text*`"
   ]
  },
  {
   "cell_type": "markdown",
   "id": "54e2536c",
   "metadata": {},
   "source": [
    "* This is **bold text**   `anything`\n",
    "* This is *italic text*"
   ]
  },
  {
   "cell_type": "markdown",
   "id": "e337d8da",
   "metadata": {},
   "source": [
    "# Table"
   ]
  },
  {
   "cell_type": "markdown",
   "id": "a7660fa0",
   "metadata": {},
   "source": [
    "```\n",
    "| Height | Weight|\n",
    "|--------|-------|\n",
    "|   180  |   80  |\n",
    "```"
   ]
  },
  {
   "cell_type": "markdown",
   "id": "3b42530f",
   "metadata": {},
   "source": [
    "| Height | Weight|\n",
    "|--------|-------|\n",
    "|   180  |   80  |\n",
    "| 90| 8|\n",
    "| 90| 9|"
   ]
  },
  {
   "cell_type": "markdown",
   "id": "7baea5dd",
   "metadata": {},
   "source": [
    "# Links"
   ]
  },
  {
   "cell_type": "markdown",
   "id": "7154976a",
   "metadata": {},
   "source": [
    "Tutorial for Python can be found `[here](https://wiki.python.org/moin/BeginnersGuide)`"
   ]
  },
  {
   "cell_type": "markdown",
   "id": "6d9fba2c",
   "metadata": {},
   "source": [
    "Tutorial for Python can be found [here](https://wiki.python.org/moin/BeginnersGuide)"
   ]
  },
  {
   "cell_type": "markdown",
   "id": "23001a2d",
   "metadata": {},
   "source": [
    "# Image"
   ]
  },
  {
   "cell_type": "markdown",
   "id": "91ea04d9",
   "metadata": {},
   "source": [
    "`![husky](figures/husky.jpeg)`"
   ]
  },
  {
   "cell_type": "markdown",
   "id": "fab886e1",
   "metadata": {},
   "source": [
    "![husky](./figures/husky.jpeg)"
   ]
  },
  {
   "cell_type": "markdown",
   "id": "7f742693",
   "metadata": {},
   "source": [
    "# Equation"
   ]
  },
  {
   "cell_type": "markdown",
   "id": "77427929",
   "metadata": {},
   "source": [
    "`$f(x;\\mu, \\sigma) = \\frac{1}{\\sqrt{2\\pi\\sigma^2}}e^{-\\frac{(x-\\mu)^2}{2\\sigma^2}}$`"
   ]
  },
  {
   "cell_type": "markdown",
   "id": "745d4193",
   "metadata": {},
   "source": [
    "$f(x;\\mu, \\sigma) = \\frac{1}{\\sqrt{2\\pi\\sigma^2}}e^{-\\frac{(x-\\mu)^2}{2\\sigma^2}}$"
   ]
  },
  {
   "cell_type": "markdown",
   "id": "f347b220-be29-41ce-9279-a448b0d58487",
   "metadata": {},
   "source": [
    "```python\n",
    "a = 3\n",
    "a\n",
    "```"
   ]
  }
 ],
 "metadata": {
  "kernelspec": {
   "display_name": "Python 3 (ipykernel)",
   "language": "python",
   "name": "python3"
  },
  "language_info": {
   "codemirror_mode": {
    "name": "ipython",
    "version": 3
   },
   "file_extension": ".py",
   "mimetype": "text/x-python",
   "name": "python",
   "nbconvert_exporter": "python",
   "pygments_lexer": "ipython3",
   "version": "3.12.4"
  }
 },
 "nbformat": 4,
 "nbformat_minor": 5
}
