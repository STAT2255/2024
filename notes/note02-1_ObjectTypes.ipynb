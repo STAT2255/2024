{
 "cells": [
  {
   "cell_type": "code",
   "execution_count": null,
   "id": "6f619e6f-a996-4197-915d-e29fcf65830c",
   "metadata": {
    "jupyter": {
     "source_hidden": true
    }
   },
   "outputs": [],
   "source": [
    "# Some configuations\n",
    "# This cell defines a magic command to ensure that the script doesn't stop due\n",
    "# to any error arising in that cell.\n",
    "from IPython.core.magic import register_cell_magic\n",
    "@register_cell_magic('handle')\n",
    "def handle(line, cell):\n",
    "    try:\n",
    "#         exec(cell)  # doesn't return the cell output though\n",
    "        return eval(cell)\n",
    "    except Exception as exc:\n",
    "        print(f\"\\033[1;31m{exc.__class__.__name__} : \\033[1;31;47m{exc}\\033[0m\")\n",
    "        # raise # if you want the full trace-back in the notebook"
   ]
  },
  {
   "cell_type": "markdown",
   "id": "1fe60189-48c4-4ed0-8c68-89311b8db0c9",
   "metadata": {},
   "source": [
    "# Overall Picture \n",
    "```\n",
    "Programs                           \n",
    " └──Modules                                                     \n",
    "     └──Statements                                \n",
    "         └──Expressions\n",
    "```"
   ]
  },
  {
   "cell_type": "markdown",
   "id": "266a618b",
   "metadata": {
    "tags": [
     "hide-cell"
    ]
   },
   "source": [
    "# Expressions and Evaluation\n",
    "\n",
    "Expressions create and process objects. In an informal sense, \n",
    ">\"we do **things** with **stuffs**\""
   ]
  },
  {
   "cell_type": "code",
   "execution_count": null,
   "id": "d9d0180f-fe98-42e5-af32-c502161e2a19",
   "metadata": {},
   "outputs": [],
   "source": [
    "2 + 2"
   ]
  },
  {
   "attachments": {},
   "cell_type": "markdown",
   "id": "253cdc3d-39cb-47e7-96aa-2768f6fdf611",
   "metadata": {},
   "source": [
    "* **Things** take the form of **operations** such as addition and concatenation.\n",
    "* **Stuffs** refer to the **objects** on which we perform those operations.\n",
    "* Expressions get evaluated and produce a value (object).\n",
    "\n",
    "> everything is an **object** in a Python script.\n",
    "\n",
    "Objects are essentially just pieces of memory, with values and sets of associated oper- ations."
   ]
  },
  {
   "cell_type": "markdown",
   "id": "4fdf8149",
   "metadata": {},
   "source": [
    "# Object Types\n",
    "\n",
    "Here we go over some of the Python's core data types. Although this is not complete because everything we process in Python programs is a kind of object, they will suffice for our course.\n",
    "```\n",
    "Object Types\n",
    "       ├──Numbers\n",
    "       ├──String\n",
    "       ├──Lists\n",
    "       ├──Tuples\n",
    "       ├──Dictionaries\n",
    "       └──Sets\n",
    "```"
   ]
  },
  {
   "cell_type": "markdown",
   "id": "0cbf4c05",
   "metadata": {},
   "source": [
    "## Numbers\n",
    "\n",
    "* integers\n",
    "* floating-point numbers\n",
    "* complex numbers"
   ]
  },
  {
   "cell_type": "code",
   "execution_count": null,
   "id": "6518e990",
   "metadata": {},
   "outputs": [],
   "source": [
    "365 + 10"
   ]
  },
  {
   "cell_type": "code",
   "execution_count": null,
   "id": "c059e3bd-e94c-4ceb-a6f2-9a044c4da505",
   "metadata": {},
   "outputs": [],
   "source": [
    "22 + 55"
   ]
  },
  {
   "cell_type": "code",
   "execution_count": null,
   "id": "2cb4b41a-a3ef-404e-853c-ed639b3e7bfa",
   "metadata": {},
   "outputs": [],
   "source": [
    "2 * 4"
   ]
  },
  {
   "cell_type": "markdown",
   "id": "4480b671",
   "metadata": {},
   "source": [
    "### Operations involving mixed types\n",
    "\n",
    "1. Python first converts operands up to the type of the most complicated operand\n",
    "2. and then performs the math on same-type operands"
   ]
  },
  {
   "cell_type": "code",
   "execution_count": null,
   "id": "2654f66c",
   "metadata": {},
   "outputs": [],
   "source": [
    "200 + 1.3"
   ]
  },
  {
   "cell_type": "code",
   "execution_count": null,
   "id": "744866fb",
   "metadata": {},
   "outputs": [],
   "source": [
    "5 * (1 + 3) / (6 - 1)"
   ]
  },
  {
   "cell_type": "code",
   "execution_count": 159,
   "id": "9b891139-d478-4c38-92e6-b0ccdbe2f608",
   "metadata": {},
   "outputs": [
    {
     "data": {
      "text/plain": [
       "0.3333333333333333"
      ]
     },
     "execution_count": 159,
     "metadata": {},
     "output_type": "execute_result"
    }
   ],
   "source": [
    "1/3"
   ]
  },
  {
   "cell_type": "code",
   "execution_count": 160,
   "id": "1a691440",
   "metadata": {
    "slideshow": {
     "slide_type": "-"
    }
   },
   "outputs": [
    {
     "data": {
      "text/plain": [
       "(1+3j)"
      ]
     },
     "execution_count": 160,
     "metadata": {},
     "output_type": "execute_result"
    }
   ],
   "source": [
    "1 + 3j"
   ]
  },
  {
   "cell_type": "code",
   "execution_count": null,
   "id": "7cd6a234-4cf1-4d66-8841-86893ec77fce",
   "metadata": {
    "slideshow": {
     "slide_type": "-"
    }
   },
   "outputs": [],
   "source": [
    "type(1 + 3j)"
   ]
  },
  {
   "attachments": {},
   "cell_type": "markdown",
   "id": "8f3b6389-7fc6-4798-b96e-1475ffb6ef73",
   "metadata": {},
   "source": [
    "### More operations\n",
    "<!-- Calculate $x^y$. -->"
   ]
  },
  {
   "cell_type": "code",
   "execution_count": 161,
   "id": "ab99de0f",
   "metadata": {},
   "outputs": [
    {
     "data": {
      "text/plain": [
       "16"
      ]
     },
     "execution_count": 161,
     "metadata": {},
     "output_type": "execute_result"
    }
   ],
   "source": [
    "4**2 # ** are used for exponentiation."
   ]
  },
  {
   "cell_type": "code",
   "execution_count": 162,
   "id": "70fd3047",
   "metadata": {},
   "outputs": [
    {
     "data": {
      "text/plain": [
       "32"
      ]
     },
     "execution_count": 162,
     "metadata": {},
     "output_type": "execute_result"
    }
   ],
   "source": [
    "pow(2, 5) # 2**5"
   ]
  },
  {
   "cell_type": "code",
   "execution_count": 163,
   "id": "8ce95020",
   "metadata": {},
   "outputs": [
    {
     "data": {
      "text/plain": [
       "3.142"
      ]
     },
     "execution_count": 163,
     "metadata": {},
     "output_type": "execute_result"
    }
   ],
   "source": [
    "round(3.14153, 3)"
   ]
  },
  {
   "cell_type": "code",
   "execution_count": 164,
   "id": "3e7906c8",
   "metadata": {},
   "outputs": [
    {
     "data": {
      "text/plain": [
       "1.5"
      ]
     },
     "execution_count": 164,
     "metadata": {},
     "output_type": "execute_result"
    }
   ],
   "source": [
    "abs(-1.5)"
   ]
  },
  {
   "cell_type": "code",
   "execution_count": 165,
   "id": "78ae5024",
   "metadata": {
    "scrolled": true
   },
   "outputs": [
    {
     "data": {
      "text/plain": [
       "1"
      ]
     },
     "execution_count": 165,
     "metadata": {},
     "output_type": "execute_result"
    }
   ],
   "source": [
    "5 % 2 # modulo operation"
   ]
  },
  {
   "cell_type": "code",
   "execution_count": 166,
   "id": "c8652930-c76e-4a4f-a9f0-a21d266188b5",
   "metadata": {
    "scrolled": true
   },
   "outputs": [
    {
     "data": {
      "text/plain": [
       "4"
      ]
     },
     "execution_count": 166,
     "metadata": {},
     "output_type": "execute_result"
    }
   ],
   "source": [
    "9 % 5 # modulo operation"
   ]
  },
  {
   "cell_type": "code",
   "execution_count": 167,
   "id": "11bd50b8",
   "metadata": {},
   "outputs": [
    {
     "data": {
      "text/plain": [
       "2"
      ]
     },
     "execution_count": 167,
     "metadata": {},
     "output_type": "execute_result"
    }
   ],
   "source": [
    "5 // 2 # floor division which truncates the result down to its floor, \n",
    "       # which means the closest whole number below the true result."
   ]
  },
  {
   "cell_type": "code",
   "execution_count": 168,
   "id": "79a8ce70",
   "metadata": {},
   "outputs": [
    {
     "data": {
      "text/plain": [
       "-3"
      ]
     },
     "execution_count": 168,
     "metadata": {},
     "output_type": "execute_result"
    }
   ],
   "source": [
    "5//-2 # why?"
   ]
  },
  {
   "cell_type": "code",
   "execution_count": 171,
   "id": "c85e7202",
   "metadata": {},
   "outputs": [
    {
     "data": {
      "text/plain": [
       "False"
      ]
     },
     "execution_count": 171,
     "metadata": {},
     "output_type": "execute_result"
    }
   ],
   "source": [
    "5 <= 2 # <, >, <=, >="
   ]
  },
  {
   "cell_type": "code",
   "execution_count": 172,
   "id": "4f4807f0",
   "metadata": {},
   "outputs": [
    {
     "data": {
      "text/plain": [
       "True"
      ]
     },
     "execution_count": 172,
     "metadata": {},
     "output_type": "execute_result"
    }
   ],
   "source": [
    "5 == 5 # ==, !="
   ]
  },
  {
   "cell_type": "code",
   "execution_count": 173,
   "id": "69fd7aaa-1e88-4498-a1b4-40b4aa593bc5",
   "metadata": {},
   "outputs": [
    {
     "data": {
      "text/plain": [
       "True"
      ]
     },
     "execution_count": 173,
     "metadata": {},
     "output_type": "execute_result"
    }
   ],
   "source": [
    "5 == 5.0"
   ]
  },
  {
   "cell_type": "code",
   "execution_count": 174,
   "id": "edfcd62d-9e92-482c-9ab0-cced848f7a7e",
   "metadata": {},
   "outputs": [
    {
     "data": {
      "text/plain": [
       "False"
      ]
     },
     "execution_count": 174,
     "metadata": {},
     "output_type": "execute_result"
    }
   ],
   "source": [
    "5 != 5 # ==, !="
   ]
  },
  {
   "cell_type": "code",
   "execution_count": 176,
   "id": "f4c06e1c",
   "metadata": {},
   "outputs": [
    {
     "data": {
      "text/plain": [
       "True"
      ]
     },
     "execution_count": 176,
     "metadata": {},
     "output_type": "execute_result"
    }
   ],
   "source": [
    "5 > 4 > 3"
   ]
  },
  {
   "cell_type": "code",
   "execution_count": 177,
   "id": "dca15298",
   "metadata": {},
   "outputs": [
    {
     "data": {
      "text/plain": [
       "True"
      ]
     },
     "execution_count": 177,
     "metadata": {},
     "output_type": "execute_result"
    }
   ],
   "source": [
    "5 > 4 and 4 > 3 # and, or"
   ]
  },
  {
   "cell_type": "code",
   "execution_count": 178,
   "id": "f8c7df68",
   "metadata": {},
   "outputs": [
    {
     "data": {
      "text/plain": [
       "True"
      ]
     },
     "execution_count": 178,
     "metadata": {},
     "output_type": "execute_result"
    }
   ],
   "source": [
    "5 == 6 or 5 < 6"
   ]
  },
  {
   "cell_type": "code",
   "execution_count": 179,
   "id": "155730e9-a9c1-43e4-995a-99d462effc7f",
   "metadata": {},
   "outputs": [
    {
     "data": {
      "text/plain": [
       "True"
      ]
     },
     "execution_count": 179,
     "metadata": {},
     "output_type": "execute_result"
    }
   ],
   "source": [
    "5 <= 6"
   ]
  },
  {
   "cell_type": "markdown",
   "id": "d5fddf88",
   "metadata": {},
   "source": [
    "**More from the `math` modules.** \n",
    "\n",
    "**modules** are packages of additional tools that we import to use."
   ]
  },
  {
   "cell_type": "code",
   "execution_count": 180,
   "id": "c21f943c-ea6c-411d-b388-9076e106f4f1",
   "metadata": {},
   "outputs": [
    {
     "data": {
      "text/plain": [
       "3.141592653589793"
      ]
     },
     "execution_count": 180,
     "metadata": {},
     "output_type": "execute_result"
    }
   ],
   "source": [
    "%%handle\n",
    "math.pi"
   ]
  },
  {
   "cell_type": "code",
   "execution_count": 181,
   "id": "331423d7",
   "metadata": {},
   "outputs": [],
   "source": [
    "import math"
   ]
  },
  {
   "cell_type": "code",
   "execution_count": 182,
   "id": "58cb2ec3",
   "metadata": {},
   "outputs": [
    {
     "data": {
      "text/plain": [
       "3.141592653589793"
      ]
     },
     "execution_count": 182,
     "metadata": {},
     "output_type": "execute_result"
    }
   ],
   "source": [
    "math.pi"
   ]
  },
  {
   "cell_type": "code",
   "execution_count": 183,
   "id": "ac32f92d",
   "metadata": {},
   "outputs": [
    {
     "data": {
      "text/plain": [
       "16.444646771097048"
      ]
     },
     "execution_count": 183,
     "metadata": {},
     "output_type": "execute_result"
    }
   ],
   "source": [
    "math.exp(2.8)"
   ]
  },
  {
   "cell_type": "code",
   "execution_count": 184,
   "id": "4cd51350",
   "metadata": {},
   "outputs": [
    {
     "data": {
      "text/plain": [
       "1.4142135623730951"
      ]
     },
     "execution_count": 184,
     "metadata": {},
     "output_type": "execute_result"
    }
   ],
   "source": [
    "math.sqrt(2)"
   ]
  },
  {
   "cell_type": "code",
   "execution_count": 186,
   "id": "8b8ac43a-9dd6-4ecd-b5db-970a591626b5",
   "metadata": {},
   "outputs": [
    {
     "data": {
      "text/plain": [
       "4"
      ]
     },
     "execution_count": 186,
     "metadata": {},
     "output_type": "execute_result"
    }
   ],
   "source": [
    "math.ceil(3.4)"
   ]
  },
  {
   "cell_type": "markdown",
   "id": "bc1be228",
   "metadata": {},
   "source": [
    "### Booleans\n",
    "\n",
    "Boolean type, **bool**, is numeric in nature because its two values, `True` and `False`, are just customized versions of the integers 1 and 0 that print themselves differently."
   ]
  },
  {
   "cell_type": "code",
   "execution_count": 187,
   "id": "0a79b9d4",
   "metadata": {},
   "outputs": [
    {
     "data": {
      "text/plain": [
       "bool"
      ]
     },
     "execution_count": 187,
     "metadata": {},
     "output_type": "execute_result"
    }
   ],
   "source": [
    "type(True)"
   ]
  },
  {
   "cell_type": "code",
   "execution_count": 188,
   "id": "8df7689f",
   "metadata": {},
   "outputs": [
    {
     "data": {
      "text/plain": [
       "True"
      ]
     },
     "execution_count": 188,
     "metadata": {},
     "output_type": "execute_result"
    }
   ],
   "source": [
    "True == 1"
   ]
  },
  {
   "cell_type": "code",
   "execution_count": 190,
   "id": "01198a6f",
   "metadata": {},
   "outputs": [
    {
     "data": {
      "text/plain": [
       "6.0"
      ]
     },
     "execution_count": 190,
     "metadata": {},
     "output_type": "execute_result"
    }
   ],
   "source": [
    "True + 5.0"
   ]
  },
  {
   "cell_type": "code",
   "execution_count": 191,
   "id": "3d116736",
   "metadata": {},
   "outputs": [
    {
     "data": {
      "text/plain": [
       "1"
      ]
     },
     "execution_count": 191,
     "metadata": {},
     "output_type": "execute_result"
    }
   ],
   "source": [
    "True + False"
   ]
  },
  {
   "cell_type": "code",
   "execution_count": 195,
   "id": "67c154bf-24bb-4ff9-83fd-9dfcc4af04d1",
   "metadata": {},
   "outputs": [
    {
     "data": {
      "text/plain": [
       "True"
      ]
     },
     "execution_count": 195,
     "metadata": {},
     "output_type": "execute_result"
    }
   ],
   "source": [
    "True == 1.0"
   ]
  },
  {
   "cell_type": "markdown",
   "id": "45b4b73e",
   "metadata": {},
   "source": [
    "## Strings\n",
    "\n",
    "* Strings are used to record textual information.\n",
    "* Strings are sequences of one-character strings.\n",
    "* They are our first example of what in Python we call a **sequence**—a positionally ordered collection of other objects. \n",
    "* Their items are stored and fetched by their relative positions"
   ]
  },
  {
   "cell_type": "code",
   "execution_count": 196,
   "id": "6e1ca5b0",
   "metadata": {},
   "outputs": [
    {
     "data": {
      "text/plain": [
       "'Hello'"
      ]
     },
     "execution_count": 196,
     "metadata": {},
     "output_type": "execute_result"
    }
   ],
   "source": [
    "\"Hello\""
   ]
  },
  {
   "cell_type": "code",
   "execution_count": 197,
   "id": "eac4e3f4",
   "metadata": {},
   "outputs": [
    {
     "data": {
      "text/plain": [
       "'world'"
      ]
     },
     "execution_count": 197,
     "metadata": {},
     "output_type": "execute_result"
    }
   ],
   "source": [
    "'world'"
   ]
  },
  {
   "cell_type": "code",
   "execution_count": 198,
   "id": "f0529b8d",
   "metadata": {},
   "outputs": [
    {
     "data": {
      "text/plain": [
       "'Python'"
      ]
     },
     "execution_count": 198,
     "metadata": {},
     "output_type": "execute_result"
    }
   ],
   "source": [
    "S = 'Python'\n",
    "S"
   ]
  },
  {
   "cell_type": "markdown",
   "id": "e64319f2",
   "metadata": {},
   "source": [
    "- The above is an assignment statement that assigns string 'Python' to variable named 'S'.\n",
    "- We will talk more about statement later.\n",
    "- The equals sign is doing something (assignment) rather than describing something (equality). \n",
    "  - The right hand side of `=` is an expression that gets evaluated first.\n",
    "  - Only later does the assignment happen.\n",
    "  - If the left hand side of the assignment is a variable name that already exist, it is overwritten.\n",
    "  - If it doesn’t already exist, it is created."
   ]
  },
  {
   "cell_type": "markdown",
   "id": "fb2ea868",
   "metadata": {},
   "source": [
    "### Sequence Operation\n",
    "#### Indexing"
   ]
  },
  {
   "cell_type": "code",
   "execution_count": 199,
   "id": "f4a36520",
   "metadata": {},
   "outputs": [
    {
     "data": {
      "text/plain": [
       "6"
      ]
     },
     "execution_count": 199,
     "metadata": {},
     "output_type": "execute_result"
    }
   ],
   "source": [
    "len(S) # length of S"
   ]
  },
  {
   "cell_type": "code",
   "execution_count": 200,
   "id": "0ae7bd27",
   "metadata": {},
   "outputs": [
    {
     "data": {
      "text/plain": [
       "'P'"
      ]
     },
     "execution_count": 200,
     "metadata": {},
     "output_type": "execute_result"
    }
   ],
   "source": [
    "S[0] # String indexing in Python is zero-based"
   ]
  },
  {
   "cell_type": "code",
   "execution_count": 201,
   "id": "55dd04e3-0441-4098-8874-f38307f3d530",
   "metadata": {},
   "outputs": [
    {
     "data": {
      "text/plain": [
       "'P'"
      ]
     },
     "execution_count": 201,
     "metadata": {},
     "output_type": "execute_result"
    }
   ],
   "source": [
    "S[-6]"
   ]
  },
  {
   "cell_type": "code",
   "execution_count": null,
   "id": "07cb4be7",
   "metadata": {},
   "outputs": [],
   "source": [
    "S[2]"
   ]
  },
  {
   "cell_type": "markdown",
   "id": "817a474a",
   "metadata": {},
   "source": [
    "Negative indices count backwards from the end of the list"
   ]
  },
  {
   "cell_type": "code",
   "execution_count": 202,
   "id": "a6bcd6c6",
   "metadata": {},
   "outputs": [
    {
     "data": {
      "text/plain": [
       "'n'"
      ]
     },
     "execution_count": 202,
     "metadata": {},
     "output_type": "execute_result"
    }
   ],
   "source": [
    "S[-1] # The last item from S"
   ]
  },
  {
   "cell_type": "code",
   "execution_count": 203,
   "id": "340d50e4",
   "metadata": {},
   "outputs": [
    {
     "data": {
      "text/plain": [
       "'o'"
      ]
     },
     "execution_count": 203,
     "metadata": {},
     "output_type": "execute_result"
    }
   ],
   "source": [
    "S[-2]# The second last item from S"
   ]
  },
  {
   "cell_type": "markdown",
   "id": "c3fe14fd",
   "metadata": {},
   "source": [
    "<img src=\"figures/python-string.png\"\n",
    "     align=\"left\"\n",
    "     width = 500/>"
   ]
  },
  {
   "cell_type": "markdown",
   "id": "ec443e35",
   "metadata": {},
   "source": [
    "To fetch multiple items, the general form is `S[i:j]`.\n",
    "- It will give us items from the (`i+1`)th position up to but **not** including the (`j+1`)th position;\n",
    "- So, from (`i+1`)th to `j`.\n"
   ]
  },
  {
   "cell_type": "code",
   "execution_count": 204,
   "id": "2d5dae5c",
   "metadata": {},
   "outputs": [
    {
     "data": {
      "text/plain": [
       "'tho'"
      ]
     },
     "execution_count": 204,
     "metadata": {},
     "output_type": "execute_result"
    }
   ],
   "source": [
    "S[2:5] # give us from 3th to 5th"
   ]
  },
  {
   "cell_type": "code",
   "execution_count": 205,
   "id": "702725dc",
   "metadata": {},
   "outputs": [
    {
     "data": {
      "text/plain": [
       "'ython'"
      ]
     },
     "execution_count": 205,
     "metadata": {},
     "output_type": "execute_result"
    }
   ],
   "source": [
    "S[1:] # from 2nd to the last"
   ]
  },
  {
   "cell_type": "code",
   "execution_count": 206,
   "id": "8a875387",
   "metadata": {},
   "outputs": [
    {
     "data": {
      "text/plain": [
       "'Pyth'"
      ]
     },
     "execution_count": 206,
     "metadata": {},
     "output_type": "execute_result"
    }
   ],
   "source": [
    "S[:4] # same as S[0:4], from the beginning up to 4th"
   ]
  },
  {
   "cell_type": "code",
   "execution_count": 207,
   "id": "f901b956-1cfb-42e2-9db9-83369bfb2cad",
   "metadata": {},
   "outputs": [
    {
     "data": {
      "text/plain": [
       "'Pyth'"
      ]
     },
     "execution_count": 207,
     "metadata": {},
     "output_type": "execute_result"
    }
   ],
   "source": [
    "S[0:4]"
   ]
  },
  {
   "cell_type": "code",
   "execution_count": 208,
   "id": "ec7be79d",
   "metadata": {},
   "outputs": [
    {
     "data": {
      "text/plain": [
       "'Pytho'"
      ]
     },
     "execution_count": 208,
     "metadata": {},
     "output_type": "execute_result"
    }
   ],
   "source": [
    "S[:-1] # Everything but the last"
   ]
  },
  {
   "cell_type": "code",
   "execution_count": 209,
   "id": "42d5156c-76cd-4f64-9eb8-4a474488f538",
   "metadata": {},
   "outputs": [
    {
     "data": {
      "text/plain": [
       "'on'"
      ]
     },
     "execution_count": 209,
     "metadata": {},
     "output_type": "execute_result"
    }
   ],
   "source": [
    "S[-2:] # from the second last to the last"
   ]
  },
  {
   "cell_type": "code",
   "execution_count": 211,
   "id": "2623918a-5878-48e3-be2d-4257401166db",
   "metadata": {},
   "outputs": [
    {
     "data": {
      "text/plain": [
       "'Python'"
      ]
     },
     "execution_count": 211,
     "metadata": {},
     "output_type": "execute_result"
    }
   ],
   "source": [
    "S[::]"
   ]
  },
  {
   "cell_type": "code",
   "execution_count": 212,
   "id": "25a0c1f6",
   "metadata": {},
   "outputs": [
    {
     "data": {
      "text/plain": [
       "'Pto'"
      ]
     },
     "execution_count": 212,
     "metadata": {},
     "output_type": "execute_result"
    }
   ],
   "source": [
    "S[::2] # from the beginning to the end with step of 2"
   ]
  },
  {
   "cell_type": "code",
   "execution_count": 213,
   "id": "0f77e6fa",
   "metadata": {},
   "outputs": [
    {
     "data": {
      "text/plain": [
       "'nt'"
      ]
     },
     "execution_count": 213,
     "metadata": {},
     "output_type": "execute_result"
    }
   ],
   "source": [
    "S[::-3] # from the end to the beginning with step of 3"
   ]
  },
  {
   "cell_type": "markdown",
   "id": "9ad14cf1-4917-40a2-91e1-d2d2cd25d0d4",
   "metadata": {},
   "source": [
    "The general form is\n",
    "```python\n",
    "S[begin:end:step]\n",
    "```"
   ]
  },
  {
   "cell_type": "code",
   "execution_count": 214,
   "id": "ead40d47-f999-4fd6-88af-9b9411b05b0a",
   "metadata": {},
   "outputs": [
    {
     "data": {
      "text/plain": [
       "'nh'"
      ]
     },
     "execution_count": 214,
     "metadata": {},
     "output_type": "execute_result"
    }
   ],
   "source": [
    "S[5:1:-2]"
   ]
  },
  {
   "cell_type": "code",
   "execution_count": 215,
   "id": "f6c51136-597b-4eaf-906e-a9552de68c26",
   "metadata": {},
   "outputs": [
    {
     "data": {
      "text/plain": [
       "''"
      ]
     },
     "execution_count": 215,
     "metadata": {},
     "output_type": "execute_result"
    }
   ],
   "source": [
    "S[1:5:-2]"
   ]
  },
  {
   "cell_type": "markdown",
   "id": "5198d2d2",
   "metadata": {},
   "source": [
    "#### Concatenation"
   ]
  },
  {
   "cell_type": "code",
   "execution_count": 216,
   "id": "321f2295",
   "metadata": {},
   "outputs": [
    {
     "data": {
      "text/plain": [
       "'Helloworld'"
      ]
     },
     "execution_count": 216,
     "metadata": {},
     "output_type": "execute_result"
    }
   ],
   "source": [
    "'Hello' + 'world'"
   ]
  },
  {
   "cell_type": "code",
   "execution_count": 217,
   "id": "d82f1408",
   "metadata": {},
   "outputs": [
    {
     "data": {
      "text/plain": [
       "'Pythonxyz'"
      ]
     },
     "execution_count": 217,
     "metadata": {},
     "output_type": "execute_result"
    }
   ],
   "source": [
    "S + 'xyz'"
   ]
  },
  {
   "cell_type": "markdown",
   "id": "d1687fed",
   "metadata": {},
   "source": [
    "#### repetition"
   ]
  },
  {
   "cell_type": "code",
   "execution_count": 218,
   "id": "48df9e3d",
   "metadata": {},
   "outputs": [
    {
     "data": {
      "text/plain": [
       "'HelloHelloHelloHello'"
      ]
     },
     "execution_count": 218,
     "metadata": {},
     "output_type": "execute_result"
    }
   ],
   "source": [
    "'Hello' + 'Hello' + 'Hello' + 'Hello'"
   ]
  },
  {
   "cell_type": "code",
   "execution_count": 219,
   "id": "c3345d64-a9bd-46a7-b5d1-5676aad73071",
   "metadata": {},
   "outputs": [
    {
     "data": {
      "text/plain": [
       "'HelloHelloHelloHello'"
      ]
     },
     "execution_count": 219,
     "metadata": {},
     "output_type": "execute_result"
    }
   ],
   "source": [
    "'Hello' * 4"
   ]
  },
  {
   "attachments": {},
   "cell_type": "markdown",
   "id": "e074db46-e6f2-49ce-badf-8176a1f04529",
   "metadata": {},
   "source": [
    "- Notice the `+` and `*` mean different things for different objects.\n",
    "- This is called *polymorphism*, which is the meaning that **an operation depends on the objects being operated upon**. \n",
    "- Those string operations (indexing, concatenation and repetition) we have seen so far is really **sequence operation**.\n",
    "- They also work on other sequences in Python as well, including **lists** and **tuples**."
   ]
  },
  {
   "cell_type": "markdown",
   "id": "8663d1a0",
   "metadata": {},
   "source": [
    "### string type specific operations"
   ]
  },
  {
   "cell_type": "code",
   "execution_count": 221,
   "id": "7f55bde0",
   "metadata": {},
   "outputs": [
    {
     "data": {
      "text/plain": [
       "1"
      ]
     },
     "execution_count": 221,
     "metadata": {},
     "output_type": "execute_result"
    }
   ],
   "source": [
    "S.find(\"y\") # find index of y"
   ]
  },
  {
   "cell_type": "code",
   "execution_count": 222,
   "id": "153cd728",
   "metadata": {},
   "outputs": [
    {
     "data": {
      "text/plain": [
       "'Pyhton'"
      ]
     },
     "execution_count": 222,
     "metadata": {},
     "output_type": "execute_result"
    }
   ],
   "source": [
    "S.replace('th', 'ht')"
   ]
  },
  {
   "cell_type": "code",
   "execution_count": 223,
   "id": "33f1d191",
   "metadata": {},
   "outputs": [
    {
     "data": {
      "text/plain": [
       "'Python'"
      ]
     },
     "execution_count": 223,
     "metadata": {},
     "output_type": "execute_result"
    }
   ],
   "source": [
    "S"
   ]
  },
  {
   "cell_type": "markdown",
   "id": "0860ba32",
   "metadata": {},
   "source": [
    "- Notice the original string S was not changed.\n",
    "- The `.replace` operation just create new string as result.\n",
    "- This is because a string is immutable, which we will talk about later."
   ]
  },
  {
   "cell_type": "code",
   "execution_count": 224,
   "id": "35fa26d5",
   "metadata": {},
   "outputs": [
    {
     "data": {
      "text/plain": [
       "['aaa', 'bbb', 'sss']"
      ]
     },
     "execution_count": 224,
     "metadata": {},
     "output_type": "execute_result"
    }
   ],
   "source": [
    "line = 'aaa,bbb,sss'\n",
    "line.split(\",\") # Split on a delimiter into a list of substrings"
   ]
  },
  {
   "cell_type": "code",
   "execution_count": 225,
   "id": "2bef2e27",
   "metadata": {},
   "outputs": [
    {
     "data": {
      "text/plain": [
       "'PYTHON'"
      ]
     },
     "execution_count": 225,
     "metadata": {},
     "output_type": "execute_result"
    }
   ],
   "source": [
    "S.upper() # Upper- and lowercase conversions"
   ]
  },
  {
   "cell_type": "code",
   "execution_count": 226,
   "id": "3ac72a97-1613-4f3b-89b0-dbaae51fbc8c",
   "metadata": {},
   "outputs": [
    {
     "data": {
      "text/plain": [
       "'Python'"
      ]
     },
     "execution_count": 226,
     "metadata": {},
     "output_type": "execute_result"
    }
   ],
   "source": [
    "S"
   ]
  },
  {
   "cell_type": "code",
   "execution_count": 227,
   "id": "85b30ba2",
   "metadata": {},
   "outputs": [
    {
     "name": "stdout",
     "output_type": "stream",
     "text": [
      "aaa,bbb,ccccc,dd\t\n",
      " end\n"
     ]
    }
   ],
   "source": [
    "line = 'aaa,bbb,ccccc,dd\\t\\n end'\n",
    "print(line)"
   ]
  },
  {
   "cell_type": "code",
   "execution_count": 232,
   "id": "4ec57f19-2aca-43a0-a588-a2a78679b7e0",
   "metadata": {},
   "outputs": [
    {
     "name": "stdout",
     "output_type": "stream",
     "text": [
      "aaa,bbb,ccccc,dd\n",
      "\t \t h\t        \n"
     ]
    }
   ],
   "source": [
    "print('aaa,bbb,ccccc,dd\\n\\t \\t h\\t        ')"
   ]
  },
  {
   "cell_type": "code",
   "execution_count": 235,
   "id": "5d03d0e1-9420-4524-93ab-bca67b5d8f6b",
   "metadata": {},
   "outputs": [
    {
     "name": "stdout",
     "output_type": "stream",
     "text": [
      "aaa,bbb,ccccc,dd\n",
      "\t \t h\n"
     ]
    }
   ],
   "source": [
    "line = 'aaa,bbb,ccccc,dd\\n\\t \\t h\\t          '\n",
    "print(line.rstrip()) # Remove whitespace characters on the right side"
   ]
  },
  {
   "cell_type": "code",
   "execution_count": 236,
   "id": "b5c61001-957d-4101-a0e1-0862ff29eae5",
   "metadata": {},
   "outputs": [
    {
     "data": {
      "text/plain": [
       "False"
      ]
     },
     "execution_count": 236,
     "metadata": {},
     "output_type": "execute_result"
    }
   ],
   "source": [
    "line.rstrip() == line"
   ]
  },
  {
   "cell_type": "markdown",
   "id": "74fea642",
   "metadata": {},
   "source": [
    "- There are many more yet to be covered.\n",
    "- Use `dir(S)` to see all the attributes and functions for object type associated with variable S (string) here. "
   ]
  },
  {
   "cell_type": "code",
   "execution_count": 237,
   "id": "09091bae",
   "metadata": {
    "scrolled": true
   },
   "outputs": [
    {
     "data": {
      "text/plain": [
       "['__add__',\n",
       " '__class__',\n",
       " '__contains__',\n",
       " '__delattr__',\n",
       " '__dir__',\n",
       " '__doc__',\n",
       " '__eq__',\n",
       " '__format__',\n",
       " '__ge__',\n",
       " '__getattribute__',\n",
       " '__getitem__',\n",
       " '__getnewargs__',\n",
       " '__getstate__',\n",
       " '__gt__',\n",
       " '__hash__',\n",
       " '__init__',\n",
       " '__init_subclass__',\n",
       " '__iter__',\n",
       " '__le__',\n",
       " '__len__',\n",
       " '__lt__',\n",
       " '__mod__',\n",
       " '__mul__',\n",
       " '__ne__',\n",
       " '__new__',\n",
       " '__reduce__',\n",
       " '__reduce_ex__',\n",
       " '__repr__',\n",
       " '__rmod__',\n",
       " '__rmul__',\n",
       " '__setattr__',\n",
       " '__sizeof__',\n",
       " '__str__',\n",
       " '__subclasshook__',\n",
       " 'capitalize',\n",
       " 'casefold',\n",
       " 'center',\n",
       " 'count',\n",
       " 'encode',\n",
       " 'endswith',\n",
       " 'expandtabs',\n",
       " 'find',\n",
       " 'format',\n",
       " 'format_map',\n",
       " 'index',\n",
       " 'isalnum',\n",
       " 'isalpha',\n",
       " 'isascii',\n",
       " 'isdecimal',\n",
       " 'isdigit',\n",
       " 'isidentifier',\n",
       " 'islower',\n",
       " 'isnumeric',\n",
       " 'isprintable',\n",
       " 'isspace',\n",
       " 'istitle',\n",
       " 'isupper',\n",
       " 'join',\n",
       " 'ljust',\n",
       " 'lower',\n",
       " 'lstrip',\n",
       " 'maketrans',\n",
       " 'partition',\n",
       " 'removeprefix',\n",
       " 'removesuffix',\n",
       " 'replace',\n",
       " 'rfind',\n",
       " 'rindex',\n",
       " 'rjust',\n",
       " 'rpartition',\n",
       " 'rsplit',\n",
       " 'rstrip',\n",
       " 'split',\n",
       " 'splitlines',\n",
       " 'startswith',\n",
       " 'strip',\n",
       " 'swapcase',\n",
       " 'title',\n",
       " 'translate',\n",
       " 'upper',\n",
       " 'zfill']"
      ]
     },
     "execution_count": 237,
     "metadata": {},
     "output_type": "execute_result"
    }
   ],
   "source": [
    "dir(S)"
   ]
  },
  {
   "cell_type": "code",
   "execution_count": 238,
   "id": "4d3c4e1c",
   "metadata": {},
   "outputs": [
    {
     "name": "stdout",
     "output_type": "stream",
     "text": [
      "Help on built-in function zfill:\n",
      "\n",
      "zfill(width, /) method of builtins.str instance\n",
      "    Pad a numeric string with zeros on the left, to fill a field of the given width.\n",
      "\n",
      "    The string is never truncated.\n",
      "\n"
     ]
    }
   ],
   "source": [
    "help(S.zfill)"
   ]
  },
  {
   "cell_type": "code",
   "execution_count": 239,
   "id": "c4f83caa-88cd-4fcc-b5a4-e43b4e4195a1",
   "metadata": {},
   "outputs": [
    {
     "data": {
      "text/plain": [
       "'00Python'"
      ]
     },
     "execution_count": 239,
     "metadata": {},
     "output_type": "execute_result"
    }
   ],
   "source": [
    "S.zfill(8)"
   ]
  },
  {
   "cell_type": "markdown",
   "id": "d2017613",
   "metadata": {},
   "source": [
    "## Lists\n",
    "- The Python list object is the most general **sequence** provided by the language.\n",
    "- Lists are positionally ordered collections of **arbitrarily** typed objects, and they have no fixed size."
   ]
  },
  {
   "cell_type": "code",
   "execution_count": 240,
   "id": "bb7facd8",
   "metadata": {},
   "outputs": [
    {
     "data": {
      "text/plain": [
       "[1, 2, 'Python', 2.22, 3.14]"
      ]
     },
     "execution_count": 240,
     "metadata": {},
     "output_type": "execute_result"
    }
   ],
   "source": [
    "L = [1, 2, 'Python', 2.22, 3.14]\n",
    "L"
   ]
  },
  {
   "cell_type": "markdown",
   "id": "6d9219b9",
   "metadata": {},
   "source": [
    "### Sequence Operations\n",
    "\n",
    "- Because they are sequences, lists support all the sequence operations we discussed for strings; \n",
    "- the only difference is that the results are usually lists instead of strings"
   ]
  },
  {
   "cell_type": "code",
   "execution_count": 241,
   "id": "017344bb",
   "metadata": {},
   "outputs": [
    {
     "data": {
      "text/plain": [
       "5"
      ]
     },
     "execution_count": 241,
     "metadata": {},
     "output_type": "execute_result"
    }
   ],
   "source": [
    "len(L)"
   ]
  },
  {
   "cell_type": "code",
   "execution_count": 244,
   "id": "fbf418cd",
   "metadata": {},
   "outputs": [
    {
     "data": {
      "text/plain": [
       "2"
      ]
     },
     "execution_count": 244,
     "metadata": {},
     "output_type": "execute_result"
    }
   ],
   "source": [
    "L[1]"
   ]
  },
  {
   "cell_type": "code",
   "execution_count": 245,
   "id": "49bd79df-fe92-4699-9d6f-e310353756ea",
   "metadata": {},
   "outputs": [
    {
     "data": {
      "text/plain": [
       "[2]"
      ]
     },
     "execution_count": 245,
     "metadata": {},
     "output_type": "execute_result"
    }
   ],
   "source": [
    "L[1:2]"
   ]
  },
  {
   "cell_type": "code",
   "execution_count": 243,
   "id": "33424548",
   "metadata": {},
   "outputs": [
    {
     "data": {
      "text/plain": [
       "['Python', 2.22]"
      ]
     },
     "execution_count": 243,
     "metadata": {},
     "output_type": "execute_result"
    }
   ],
   "source": [
    "L[2:4]"
   ]
  },
  {
   "cell_type": "code",
   "execution_count": 246,
   "id": "3f1f97a9",
   "metadata": {},
   "outputs": [
    {
     "data": {
      "text/plain": [
       "[1, 'Python', 3.14]"
      ]
     },
     "execution_count": 246,
     "metadata": {},
     "output_type": "execute_result"
    }
   ],
   "source": [
    "L[::2]"
   ]
  },
  {
   "cell_type": "code",
   "execution_count": 247,
   "id": "48fc4b38",
   "metadata": {},
   "outputs": [
    {
     "data": {
      "text/plain": [
       "[3.14, 'Python', 1]"
      ]
     },
     "execution_count": 247,
     "metadata": {},
     "output_type": "execute_result"
    }
   ],
   "source": [
    "L[::-2]"
   ]
  },
  {
   "cell_type": "markdown",
   "id": "cbec01f7",
   "metadata": {},
   "source": [
    "### List Type-Specific Operations"
   ]
  },
  {
   "cell_type": "markdown",
   "id": "525bf434",
   "metadata": {},
   "source": [
    "#### Append\n",
    "\n",
    "`append` method expands the list’s size and inserts an item at the end."
   ]
  },
  {
   "cell_type": "code",
   "execution_count": 248,
   "id": "6aa0e0d4-60db-4dee-ab83-874a3f2f5014",
   "metadata": {},
   "outputs": [
    {
     "data": {
      "text/plain": [
       "[1, 2, 'Python', 2.22, 3.14]"
      ]
     },
     "execution_count": 248,
     "metadata": {},
     "output_type": "execute_result"
    }
   ],
   "source": [
    "L"
   ]
  },
  {
   "cell_type": "code",
   "execution_count": 249,
   "id": "faa0b1f0",
   "metadata": {},
   "outputs": [
    {
     "data": {
      "text/plain": [
       "[1, 2, 'Python', 2.22, 3.14, 8]"
      ]
     },
     "execution_count": 249,
     "metadata": {},
     "output_type": "execute_result"
    }
   ],
   "source": [
    "L.append(8)\n",
    "L"
   ]
  },
  {
   "cell_type": "markdown",
   "id": "5b6ba870",
   "metadata": {},
   "source": [
    "#### Pop\n",
    "\n",
    "`pop` method removes an item at a given index and return the value that is removed."
   ]
  },
  {
   "cell_type": "code",
   "execution_count": 250,
   "id": "ea16f44e",
   "metadata": {},
   "outputs": [
    {
     "data": {
      "text/plain": [
       "8"
      ]
     },
     "execution_count": 250,
     "metadata": {},
     "output_type": "execute_result"
    }
   ],
   "source": [
    "L.pop(-1)"
   ]
  },
  {
   "cell_type": "code",
   "execution_count": 251,
   "id": "84d5142c-393e-4fe3-bd28-7cc8b3eee913",
   "metadata": {},
   "outputs": [
    {
     "data": {
      "text/plain": [
       "[1, 2, 'Python', 2.22, 3.14]"
      ]
     },
     "execution_count": 251,
     "metadata": {},
     "output_type": "execute_result"
    }
   ],
   "source": [
    "L"
   ]
  },
  {
   "cell_type": "markdown",
   "id": "ee485e86",
   "metadata": {},
   "source": [
    "#### Insert\n",
    "\n",
    "`insert` method insert an item at any given position"
   ]
  },
  {
   "cell_type": "code",
   "execution_count": 252,
   "id": "5203cb4c",
   "metadata": {},
   "outputs": [
    {
     "data": {
      "text/plain": [
       "[1, 2, 'hello', 'Python', 2.22, 3.14]"
      ]
     },
     "execution_count": 252,
     "metadata": {},
     "output_type": "execute_result"
    }
   ],
   "source": [
    "L.insert(2, 'hello')\n",
    "L"
   ]
  },
  {
   "cell_type": "markdown",
   "id": "8615f362",
   "metadata": {},
   "source": [
    "#### Remove\n",
    "\n",
    "`remove` method removes a value in a list."
   ]
  },
  {
   "cell_type": "code",
   "execution_count": 253,
   "id": "2d35d7da",
   "metadata": {},
   "outputs": [
    {
     "data": {
      "text/plain": [
       "[1, 2, 'Python', 2.22, 3.14]"
      ]
     },
     "execution_count": 253,
     "metadata": {},
     "output_type": "execute_result"
    }
   ],
   "source": [
    "L.remove('hello')\n",
    "L"
   ]
  },
  {
   "cell_type": "markdown",
   "id": "a6fdb8ba",
   "metadata": {},
   "source": [
    "#### Sort\n",
    "\n",
    "`sort` method sort a list. "
   ]
  },
  {
   "cell_type": "code",
   "execution_count": null,
   "id": "dca08fdf",
   "metadata": {},
   "outputs": [],
   "source": [
    "help(L.sort)"
   ]
  },
  {
   "cell_type": "code",
   "execution_count": 254,
   "id": "d7d0d260",
   "metadata": {},
   "outputs": [
    {
     "data": {
      "text/plain": [
       "[1, 2, 3, 5, 6, 7]"
      ]
     },
     "execution_count": 254,
     "metadata": {},
     "output_type": "execute_result"
    }
   ],
   "source": [
    "L_number = [1, 7, 5, 6, 2, 3]\n",
    "L_number.sort()\n",
    "L_number"
   ]
  },
  {
   "cell_type": "code",
   "execution_count": 255,
   "id": "bc51fb73",
   "metadata": {
    "scrolled": true
   },
   "outputs": [
    {
     "data": {
      "text/plain": [
       "[7, 6, 5, 3, 2, 1]"
      ]
     },
     "execution_count": 255,
     "metadata": {},
     "output_type": "execute_result"
    }
   ],
   "source": [
    "L_number.sort(reverse=True)\n",
    "L_number"
   ]
  },
  {
   "cell_type": "markdown",
   "id": "75113374",
   "metadata": {},
   "source": [
    "#### Nesting\n",
    "\n",
    "You can nest a list in another list"
   ]
  },
  {
   "cell_type": "code",
   "execution_count": 256,
   "id": "6c7c7163",
   "metadata": {},
   "outputs": [
    {
     "data": {
      "text/plain": [
       "[[1, 2, 3], [4, 5, 6], [7, 8, 9]]"
      ]
     },
     "execution_count": 256,
     "metadata": {},
     "output_type": "execute_result"
    }
   ],
   "source": [
    "M = [[1, 2, 3], [4, 5, 6], [7, 8, 9]]\n",
    "M"
   ]
  },
  {
   "cell_type": "markdown",
   "id": "e1854c87",
   "metadata": {},
   "source": [
    "#### List Comprehension\n",
    "\n",
    "List comprehension is useful if you want to create a new list based on an existing list\n",
    "\n",
    "`newlist = [expression for item (can be anything) in iterable (existing list name) if condition == True]`"
   ]
  },
  {
   "cell_type": "code",
   "execution_count": 257,
   "id": "0ee32c43-e66d-4955-8fb6-3b6bc04e3372",
   "metadata": {},
   "outputs": [
    {
     "data": {
      "text/plain": [
       "[7, 6, 5, 3, 2, 1]"
      ]
     },
     "execution_count": 257,
     "metadata": {},
     "output_type": "execute_result"
    }
   ],
   "source": [
    "L_number"
   ]
  },
  {
   "cell_type": "code",
   "execution_count": 258,
   "id": "f9f50344",
   "metadata": {},
   "outputs": [
    {
     "data": {
      "text/plain": [
       "[14, 12, 10]"
      ]
     },
     "execution_count": 258,
     "metadata": {},
     "output_type": "execute_result"
    }
   ],
   "source": [
    "new_L_number = [2 * item for item in L_number if item > 3] # get all the items in L_number that are greater than 3\n",
    "new_L_number"
   ]
  },
  {
   "cell_type": "code",
   "execution_count": 260,
   "id": "3ca6d4a1-92ad-43c7-93eb-a96e4c651514",
   "metadata": {},
   "outputs": [
    {
     "data": {
      "text/plain": [
       "[[1, 2, 3], [4, 5, 6], [7, 8, 9]]"
      ]
     },
     "execution_count": 260,
     "metadata": {},
     "output_type": "execute_result"
    }
   ],
   "source": [
    "M"
   ]
  },
  {
   "cell_type": "code",
   "execution_count": 262,
   "id": "3657c999",
   "metadata": {},
   "outputs": [
    {
     "data": {
      "text/plain": [
       "[2, 5, 8]"
      ]
     },
     "execution_count": 262,
     "metadata": {},
     "output_type": "execute_result"
    }
   ],
   "source": [
    "second_item = [i[1] for i in M] # get the second item from each nested list from M and create a new list\n",
    "second_item"
   ]
  },
  {
   "cell_type": "markdown",
   "id": "6805296b",
   "metadata": {},
   "source": [
    "#### range\n",
    "\n",
    "`range(start, stop, step)` is a Python built-in that generate successive integers, and requires a surrounding list to display all its values"
   ]
  },
  {
   "cell_type": "code",
   "execution_count": 263,
   "id": "464b682b",
   "metadata": {
    "scrolled": true
   },
   "outputs": [
    {
     "name": "stdout",
     "output_type": "stream",
     "text": [
      "Help on class range in module builtins:\n",
      "\n",
      "class range(object)\n",
      " |  range(stop) -> range object\n",
      " |  range(start, stop[, step]) -> range object\n",
      " |\n",
      " |  Return an object that produces a sequence of integers from start (inclusive)\n",
      " |  to stop (exclusive) by step.  range(i, j) produces i, i+1, i+2, ..., j-1.\n",
      " |  start defaults to 0, and stop is omitted!  range(4) produces 0, 1, 2, 3.\n",
      " |  These are exactly the valid indices for a list of 4 elements.\n",
      " |  When step is given, it specifies the increment (or decrement).\n",
      " |\n",
      " |  Methods defined here:\n",
      " |\n",
      " |  __bool__(self, /)\n",
      " |      True if self else False\n",
      " |\n",
      " |  __contains__(self, key, /)\n",
      " |      Return bool(key in self).\n",
      " |\n",
      " |  __eq__(self, value, /)\n",
      " |      Return self==value.\n",
      " |\n",
      " |  __ge__(self, value, /)\n",
      " |      Return self>=value.\n",
      " |\n",
      " |  __getattribute__(self, name, /)\n",
      " |      Return getattr(self, name).\n",
      " |\n",
      " |  __getitem__(self, key, /)\n",
      " |      Return self[key].\n",
      " |\n",
      " |  __gt__(self, value, /)\n",
      " |      Return self>value.\n",
      " |\n",
      " |  __hash__(self, /)\n",
      " |      Return hash(self).\n",
      " |\n",
      " |  __iter__(self, /)\n",
      " |      Implement iter(self).\n",
      " |\n",
      " |  __le__(self, value, /)\n",
      " |      Return self<=value.\n",
      " |\n",
      " |  __len__(self, /)\n",
      " |      Return len(self).\n",
      " |\n",
      " |  __lt__(self, value, /)\n",
      " |      Return self<value.\n",
      " |\n",
      " |  __ne__(self, value, /)\n",
      " |      Return self!=value.\n",
      " |\n",
      " |  __reduce__(...)\n",
      " |      Helper for pickle.\n",
      " |\n",
      " |  __repr__(self, /)\n",
      " |      Return repr(self).\n",
      " |\n",
      " |  __reversed__(...)\n",
      " |      Return a reverse iterator.\n",
      " |\n",
      " |  count(...)\n",
      " |      rangeobject.count(value) -> integer -- return number of occurrences of value\n",
      " |\n",
      " |  index(...)\n",
      " |      rangeobject.index(value) -> integer -- return index of value.\n",
      " |      Raise ValueError if the value is not present.\n",
      " |\n",
      " |  ----------------------------------------------------------------------\n",
      " |  Static methods defined here:\n",
      " |\n",
      " |  __new__(*args, **kwargs)\n",
      " |      Create and return a new object.  See help(type) for accurate signature.\n",
      " |\n",
      " |  ----------------------------------------------------------------------\n",
      " |  Data descriptors defined here:\n",
      " |\n",
      " |  start\n",
      " |\n",
      " |  step\n",
      " |\n",
      " |  stop\n",
      "\n"
     ]
    }
   ],
   "source": [
    "help(range)"
   ]
  },
  {
   "cell_type": "code",
   "execution_count": 264,
   "id": "c134943e",
   "metadata": {},
   "outputs": [
    {
     "data": {
      "text/plain": [
       "range(0, 10)"
      ]
     },
     "execution_count": 264,
     "metadata": {},
     "output_type": "execute_result"
    }
   ],
   "source": [
    "range(10)"
   ]
  },
  {
   "cell_type": "code",
   "execution_count": 265,
   "id": "f7492cec-1867-4e74-afae-0b58e9b0c371",
   "metadata": {},
   "outputs": [
    {
     "data": {
      "text/plain": [
       "[0, 1, 2, 3, 4, 5, 6, 7, 8, 9]"
      ]
     },
     "execution_count": 265,
     "metadata": {},
     "output_type": "execute_result"
    }
   ],
   "source": [
    "list(range(10)) # default is start from 0, to 10 (not including) - [start, stop) half open"
   ]
  },
  {
   "cell_type": "code",
   "execution_count": 266,
   "id": "8fa81642",
   "metadata": {},
   "outputs": [
    {
     "data": {
      "text/plain": [
       "[-10, -8, -6, -4, -2, 0, 2, 4, 6, 8]"
      ]
     },
     "execution_count": 266,
     "metadata": {},
     "output_type": "execute_result"
    }
   ],
   "source": [
    "list(range(-10, 10, 2)) # from 1 to 10 (not including) with step of 2"
   ]
  },
  {
   "cell_type": "code",
   "execution_count": 267,
   "id": "cae85613",
   "metadata": {},
   "outputs": [
    {
     "data": {
      "text/plain": [
       "[[3, 4], [5, 6], [7, 8], [9, 10]]"
      ]
     },
     "execution_count": 267,
     "metadata": {},
     "output_type": "execute_result"
    }
   ],
   "source": [
    "[[item+1, item+2] for item in range(-10, 10, 2) if item > 0]"
   ]
  },
  {
   "cell_type": "markdown",
   "id": "71a499b1",
   "metadata": {},
   "source": [
    "## Tuples\n",
    "- The tuple object is roughly like a list that cannot be changed.\n",
    "- Tuples are sequences, like lists, but they are immutable, like strings."
   ]
  },
  {
   "cell_type": "code",
   "execution_count": 268,
   "id": "1d31f3a9",
   "metadata": {},
   "outputs": [
    {
     "data": {
      "text/plain": [
       "(1, 2, 3, 4)"
      ]
     },
     "execution_count": 268,
     "metadata": {},
     "output_type": "execute_result"
    }
   ],
   "source": [
    "T = (1, 2, 3, 4)\n",
    "T"
   ]
  },
  {
   "cell_type": "code",
   "execution_count": 269,
   "id": "b73a1b3c",
   "metadata": {},
   "outputs": [
    {
     "data": {
      "text/plain": [
       "(1, 2, 3, 4, 2, 3)"
      ]
     },
     "execution_count": 269,
     "metadata": {},
     "output_type": "execute_result"
    }
   ],
   "source": [
    "T + (2, 3)"
   ]
  },
  {
   "cell_type": "code",
   "execution_count": 270,
   "id": "99916633-7f43-4463-8be3-150eebf9cfc1",
   "metadata": {},
   "outputs": [
    {
     "data": {
      "text/plain": [
       "(1, 2, 3, 4, 1, 2, 3, 4, 1, 2, 3, 4)"
      ]
     },
     "execution_count": 270,
     "metadata": {},
     "output_type": "execute_result"
    }
   ],
   "source": [
    "T * 3"
   ]
  },
  {
   "cell_type": "code",
   "execution_count": 271,
   "id": "635ae4d3",
   "metadata": {},
   "outputs": [
    {
     "data": {
      "text/plain": [
       "4"
      ]
     },
     "execution_count": 271,
     "metadata": {},
     "output_type": "execute_result"
    }
   ],
   "source": [
    "len(T)"
   ]
  },
  {
   "cell_type": "code",
   "execution_count": 272,
   "id": "e0f91a02",
   "metadata": {},
   "outputs": [
    {
     "data": {
      "text/plain": [
       "2"
      ]
     },
     "execution_count": 272,
     "metadata": {},
     "output_type": "execute_result"
    }
   ],
   "source": [
    "T[1]"
   ]
  },
  {
   "cell_type": "code",
   "execution_count": 273,
   "id": "7ece3842-666a-4e57-9908-23b4c26f98c8",
   "metadata": {},
   "outputs": [
    {
     "data": {
      "text/plain": [
       "(2,)"
      ]
     },
     "execution_count": 273,
     "metadata": {},
     "output_type": "execute_result"
    }
   ],
   "source": [
    "T[1:2]"
   ]
  },
  {
   "cell_type": "code",
   "execution_count": 274,
   "id": "0b1cb554-877e-4d7f-a6d0-1e33dfedb066",
   "metadata": {},
   "outputs": [
    {
     "data": {
      "text/plain": [
       "(2, 3)"
      ]
     },
     "execution_count": 274,
     "metadata": {},
     "output_type": "execute_result"
    }
   ],
   "source": [
    "T[1:3]"
   ]
  },
  {
   "cell_type": "code",
   "execution_count": 275,
   "id": "8ddf1c02-46bd-4b02-aa64-d9657aca0308",
   "metadata": {},
   "outputs": [
    {
     "name": "stdout",
     "output_type": "stream",
     "text": [
      "\u001b[1;31mSyntaxError : \u001b[1;31;47minvalid syntax (<string>, line 1)\u001b[0m\n"
     ]
    }
   ],
   "source": [
    "%%handle\n",
    "T[0] = 9"
   ]
  },
  {
   "cell_type": "code",
   "execution_count": 276,
   "id": "89903542-4e33-41ac-9bbc-8eb2038172ce",
   "metadata": {},
   "outputs": [
    {
     "name": "stdout",
     "output_type": "stream",
     "text": [
      "\u001b[1;31mAttributeError : \u001b[1;31;47m'tuple' object has no attribute 'append'\u001b[0m\n"
     ]
    }
   ],
   "source": [
    "%%handle\n",
    "T.append(3)"
   ]
  },
  {
   "cell_type": "code",
   "execution_count": null,
   "id": "7693438e-362c-4ccc-9c38-4b159a589302",
   "metadata": {},
   "outputs": [],
   "source": [
    "dir(T)"
   ]
  },
  {
   "cell_type": "code",
   "execution_count": 317,
   "id": "8beeafda-849a-4705-b52b-d52f7da5989e",
   "metadata": {},
   "outputs": [
    {
     "data": {
      "text/plain": [
       "tuple"
      ]
     },
     "execution_count": 317,
     "metadata": {},
     "output_type": "execute_result"
    }
   ],
   "source": [
    "T = (2, 3)\n",
    "type(T)"
   ]
  },
  {
   "cell_type": "code",
   "execution_count": 318,
   "id": "6e02a6e0-910d-4ecd-8370-8d2d64227da5",
   "metadata": {},
   "outputs": [
    {
     "data": {
      "text/plain": [
       "(2, 3)"
      ]
     },
     "execution_count": 318,
     "metadata": {},
     "output_type": "execute_result"
    }
   ],
   "source": [
    "2, 3"
   ]
  },
  {
   "cell_type": "markdown",
   "id": "bef5a6da",
   "metadata": {},
   "source": [
    "## Dictionaries\n",
    "\n",
    "* Dictionaries are also collections of other objects, but they store **key:value** pairs. \n",
    "* Dictionaries are not sequences because they have no fixed ordering. \n",
    "* Dictionaries are coded in curly braces and consist of a series of “key: value” pairs.\n",
    "* The name comes from the idea that in a real dictionary (book), a word (the key) allows you to find its definition (the value).\n",
    "* Dictionaries are useful anytime we need to associate a set of values with keys—to describe the properties of something"
   ]
  },
  {
   "cell_type": "markdown",
   "id": "9d1f5825",
   "metadata": {},
   "source": [
    "### Creating a dictionary"
   ]
  },
  {
   "cell_type": "code",
   "execution_count": 277,
   "id": "e5d1e772",
   "metadata": {},
   "outputs": [
    {
     "data": {
      "text/plain": [
       "{'color': 'pink', 'food': 'Spam', 'quantity': 4}"
      ]
     },
     "execution_count": 277,
     "metadata": {},
     "output_type": "execute_result"
    }
   ],
   "source": [
    "D1 = {'color': 'pink', 'food': 'Spam', 'quantity': 4} \n",
    "D1"
   ]
  },
  {
   "cell_type": "code",
   "execution_count": 278,
   "id": "5f543e54-0410-4a4d-b986-cb669c6a682c",
   "metadata": {},
   "outputs": [
    {
     "data": {
      "text/plain": [
       "{'food': 'Spam', 'quantity': 4, 'color': 'pink'}"
      ]
     },
     "execution_count": 278,
     "metadata": {},
     "output_type": "execute_result"
    }
   ],
   "source": [
    "D = {'food': 'Spam', 'quantity': 4, 'color': 'pink'} \n",
    "# key and pairs can be any type, but the keys have to be unique.\n",
    "D"
   ]
  },
  {
   "cell_type": "code",
   "execution_count": 279,
   "id": "07676478-669e-461c-bb57-faec72ab5a82",
   "metadata": {},
   "outputs": [
    {
     "data": {
      "text/plain": [
       "True"
      ]
     },
     "execution_count": 279,
     "metadata": {},
     "output_type": "execute_result"
    }
   ],
   "source": [
    "D == D1"
   ]
  },
  {
   "cell_type": "markdown",
   "id": "04a35521",
   "metadata": {},
   "source": [
    "To fetch the values, instead of using the index, we need to use keys."
   ]
  },
  {
   "cell_type": "code",
   "execution_count": 280,
   "id": "44e6d1ef",
   "metadata": {},
   "outputs": [
    {
     "data": {
      "text/plain": [
       "'Spam'"
      ]
     },
     "execution_count": 280,
     "metadata": {},
     "output_type": "execute_result"
    }
   ],
   "source": [
    "D['food']"
   ]
  },
  {
   "cell_type": "code",
   "execution_count": 281,
   "id": "b28a27b0-6298-4e02-a757-c32f192209b2",
   "metadata": {},
   "outputs": [
    {
     "name": "stdout",
     "output_type": "stream",
     "text": [
      "\u001b[1;31mKeyError : \u001b[1;31;47m1\u001b[0m\n"
     ]
    }
   ],
   "source": [
    "%%handle\n",
    "D[1]"
   ]
  },
  {
   "cell_type": "markdown",
   "id": "81a09f48",
   "metadata": {},
   "source": [
    "### Creating a dictionary by starting with an empty Dictionary"
   ]
  },
  {
   "cell_type": "code",
   "execution_count": 282,
   "id": "9a89b57e",
   "metadata": {},
   "outputs": [
    {
     "data": {
      "text/plain": [
       "{}"
      ]
     },
     "execution_count": 282,
     "metadata": {},
     "output_type": "execute_result"
    }
   ],
   "source": [
    "D = {} # creating an empty dictionary\n",
    "D"
   ]
  },
  {
   "cell_type": "code",
   "execution_count": 283,
   "id": "9bdb1e61",
   "metadata": {},
   "outputs": [
    {
     "data": {
      "text/plain": [
       "{}"
      ]
     },
     "execution_count": 283,
     "metadata": {},
     "output_type": "execute_result"
    }
   ],
   "source": [
    "D = dict() # another way of creating an empty dictionary\n",
    "D"
   ]
  },
  {
   "cell_type": "code",
   "execution_count": 284,
   "id": "2a8d8f74",
   "metadata": {},
   "outputs": [
    {
     "data": {
      "text/plain": [
       "{'name': 'Tom', 'job': 'engineer', 'age': 40}"
      ]
     },
     "execution_count": 284,
     "metadata": {},
     "output_type": "execute_result"
    }
   ],
   "source": [
    "D['name'] = 'Tom'\n",
    "D['job'] = 'engineer'\n",
    "D['age'] = 40\n",
    "D"
   ]
  },
  {
   "cell_type": "code",
   "execution_count": 285,
   "id": "82ef2466-3ae5-4f6e-8327-39759c7e2bbe",
   "metadata": {},
   "outputs": [
    {
     "data": {
      "text/plain": [
       "{'name': 'Tom', 'job': 'engineer', 'age': 40, 'gender': 'Male'}"
      ]
     },
     "execution_count": 285,
     "metadata": {},
     "output_type": "execute_result"
    }
   ],
   "source": [
    "D['gender'] = \"Male\"\n",
    "D"
   ]
  },
  {
   "cell_type": "code",
   "execution_count": null,
   "id": "1388746c-4574-4f09-b527-a96438705b46",
   "metadata": {},
   "outputs": [],
   "source": [
    "dir(D)"
   ]
  },
  {
   "cell_type": "code",
   "execution_count": 286,
   "id": "bea5989b-ac36-42b5-b9bb-2460781924c9",
   "metadata": {},
   "outputs": [
    {
     "name": "stdout",
     "output_type": "stream",
     "text": [
      "Help on built-in function pop:\n",
      "\n",
      "pop(...) method of builtins.dict instance\n",
      "    D.pop(k[,d]) -> v, remove specified key and return the corresponding value.\n",
      "\n",
      "    If the key is not found, return the default if given; otherwise,\n",
      "    raise a KeyError.\n",
      "\n"
     ]
    }
   ],
   "source": [
    "help(D.pop)"
   ]
  },
  {
   "cell_type": "code",
   "execution_count": 287,
   "id": "3c22b448-2396-4510-865c-601065036f82",
   "metadata": {},
   "outputs": [
    {
     "data": {
      "text/plain": [
       "'Male'"
      ]
     },
     "execution_count": 287,
     "metadata": {},
     "output_type": "execute_result"
    }
   ],
   "source": [
    "D.pop('gender')"
   ]
  },
  {
   "cell_type": "code",
   "execution_count": 288,
   "id": "1595a8ad-18b1-480e-8cf6-423ca87edaee",
   "metadata": {},
   "outputs": [
    {
     "data": {
      "text/plain": [
       "{'name': 'Tom', 'job': 'engineer', 'age': 40}"
      ]
     },
     "execution_count": 288,
     "metadata": {},
     "output_type": "execute_result"
    }
   ],
   "source": [
    "D"
   ]
  },
  {
   "cell_type": "code",
   "execution_count": 289,
   "id": "e9180c6e-6706-4566-93c4-04d158ee9abe",
   "metadata": {},
   "outputs": [
    {
     "data": {
      "text/plain": [
       "{'name': 'Tom', 'job': 'engineer', 'age': 40, 0: 9}"
      ]
     },
     "execution_count": 289,
     "metadata": {},
     "output_type": "execute_result"
    }
   ],
   "source": [
    "D[0] = 9\n",
    "D"
   ]
  },
  {
   "cell_type": "markdown",
   "id": "83e7a8d2",
   "metadata": {},
   "source": [
    "### Nesting in dictionary"
   ]
  },
  {
   "cell_type": "code",
   "execution_count": 290,
   "id": "83e6add1",
   "metadata": {},
   "outputs": [
    {
     "data": {
      "text/plain": [
       "{'name': {'first': 'Lebron', 'last': 'James'},\n",
       " 'teams': ['Cavaliers', 'Heats', 'Lakers'],\n",
       " 'age': 37}"
      ]
     },
     "execution_count": 290,
     "metadata": {},
     "output_type": "execute_result"
    }
   ],
   "source": [
    "Player1 = {'name': {'first': 'Lebron', 'last': 'James'},\n",
    "'teams': ['Cavaliers', 'Heats', 'Lakers'],\n",
    "'age': 37}\n",
    "Player1"
   ]
  },
  {
   "cell_type": "code",
   "execution_count": 291,
   "id": "666b45eb-6244-4665-b05d-78370978536a",
   "metadata": {},
   "outputs": [
    {
     "data": {
      "text/plain": [
       "['Cavaliers', 'Heats', 'Lakers']"
      ]
     },
     "execution_count": 291,
     "metadata": {},
     "output_type": "execute_result"
    }
   ],
   "source": [
    "Player1['teams']"
   ]
  },
  {
   "cell_type": "code",
   "execution_count": 292,
   "id": "57db3c9d",
   "metadata": {},
   "outputs": [
    {
     "data": {
      "text/plain": [
       "'Cavaliers'"
      ]
     },
     "execution_count": 292,
     "metadata": {},
     "output_type": "execute_result"
    }
   ],
   "source": [
    "Player1['teams'][0]"
   ]
  },
  {
   "cell_type": "code",
   "execution_count": 293,
   "id": "5546b74a",
   "metadata": {},
   "outputs": [
    {
     "data": {
      "text/plain": [
       "{'first': 'Lebron', 'last': 'James'}"
      ]
     },
     "execution_count": 293,
     "metadata": {},
     "output_type": "execute_result"
    }
   ],
   "source": [
    "Player1['name']"
   ]
  },
  {
   "cell_type": "code",
   "execution_count": 294,
   "id": "c2b6ba1f-5405-4fcf-b542-5e62a4dcd974",
   "metadata": {},
   "outputs": [
    {
     "data": {
      "text/plain": [
       "'Lebron'"
      ]
     },
     "execution_count": 294,
     "metadata": {},
     "output_type": "execute_result"
    }
   ],
   "source": [
    "Player1['name']['first']"
   ]
  },
  {
   "cell_type": "markdown",
   "id": "cf65006b",
   "metadata": {},
   "source": [
    "### Test if a given key is in a dictionary"
   ]
  },
  {
   "cell_type": "code",
   "execution_count": 295,
   "id": "fea70278",
   "metadata": {},
   "outputs": [],
   "source": [
    "D = {'a':1, 'b':2, 'c':3}"
   ]
  },
  {
   "cell_type": "code",
   "execution_count": 296,
   "id": "a7da64f6",
   "metadata": {},
   "outputs": [
    {
     "name": "stdout",
     "output_type": "stream",
     "text": [
      "\u001b[1;31mKeyError : \u001b[1;31;47m'f'\u001b[0m\n"
     ]
    }
   ],
   "source": [
    "%%handle\n",
    "D['f']"
   ]
  },
  {
   "cell_type": "code",
   "execution_count": 297,
   "id": "2d45aa1c-df5f-4f02-9069-1ca002b67fcf",
   "metadata": {},
   "outputs": [
    {
     "data": {
      "text/plain": [
       "True"
      ]
     },
     "execution_count": 297,
     "metadata": {},
     "output_type": "execute_result"
    }
   ],
   "source": [
    "'a' in D"
   ]
  },
  {
   "cell_type": "code",
   "execution_count": 298,
   "id": "bf037c87",
   "metadata": {},
   "outputs": [
    {
     "data": {
      "text/plain": [
       "False"
      ]
     },
     "execution_count": 298,
     "metadata": {},
     "output_type": "execute_result"
    }
   ],
   "source": [
    "'f' in D"
   ]
  },
  {
   "cell_type": "code",
   "execution_count": 299,
   "id": "def4462e-3660-4b15-9f1f-9fef05ab54e1",
   "metadata": {},
   "outputs": [
    {
     "data": {
      "text/plain": [
       "dict_items([('a', 1), ('b', 2), ('c', 3)])"
      ]
     },
     "execution_count": 299,
     "metadata": {},
     "output_type": "execute_result"
    }
   ],
   "source": [
    "D.items()"
   ]
  },
  {
   "cell_type": "code",
   "execution_count": 300,
   "id": "ab928ab0-f59d-4492-a637-f11094280d39",
   "metadata": {},
   "outputs": [
    {
     "data": {
      "text/plain": [
       "[('a', 1), ('b', 2), ('c', 3)]"
      ]
     },
     "execution_count": 300,
     "metadata": {},
     "output_type": "execute_result"
    }
   ],
   "source": [
    "l = list(D.items()) # get all the key-value pairs as tuples\n",
    "l"
   ]
  },
  {
   "cell_type": "code",
   "execution_count": 301,
   "id": "c1b073d1-4e69-4040-8ca9-7e524748ffe7",
   "metadata": {},
   "outputs": [
    {
     "data": {
      "text/plain": [
       "[1, ('b', 2), ('c', 3)]"
      ]
     },
     "execution_count": 301,
     "metadata": {},
     "output_type": "execute_result"
    }
   ],
   "source": [
    "l[0] = 1\n",
    "l"
   ]
  },
  {
   "cell_type": "code",
   "execution_count": 302,
   "id": "30f0111c",
   "metadata": {
    "scrolled": true
   },
   "outputs": [
    {
     "data": {
      "text/plain": [
       "dict_keys(['a', 'b', 'c'])"
      ]
     },
     "execution_count": 302,
     "metadata": {},
     "output_type": "execute_result"
    }
   ],
   "source": [
    "D.keys()"
   ]
  },
  {
   "cell_type": "code",
   "execution_count": 303,
   "id": "97428792-3f52-4aa1-8c2a-3bc57ff612b3",
   "metadata": {
    "scrolled": true
   },
   "outputs": [
    {
     "data": {
      "text/plain": [
       "['a', 'b', 'c']"
      ]
     },
     "execution_count": 303,
     "metadata": {},
     "output_type": "execute_result"
    }
   ],
   "source": [
    "list(D.keys())"
   ]
  },
  {
   "cell_type": "code",
   "execution_count": 304,
   "id": "827f57bb",
   "metadata": {},
   "outputs": [
    {
     "data": {
      "text/plain": [
       "[1, 2, 3]"
      ]
     },
     "execution_count": 304,
     "metadata": {},
     "output_type": "execute_result"
    }
   ],
   "source": [
    "list(D.values())"
   ]
  },
  {
   "cell_type": "code",
   "execution_count": 305,
   "id": "f7f1bbc6",
   "metadata": {},
   "outputs": [
    {
     "name": "stdout",
     "output_type": "stream",
     "text": [
      "Values corresponding to key a is 1\n",
      "Values corresponding to key b is 2\n",
      "Values corresponding to key c is 3\n"
     ]
    }
   ],
   "source": [
    "for key, value in D.items():\n",
    "    print('Values corresponding to key', key, \"is\", value)"
   ]
  },
  {
   "cell_type": "markdown",
   "id": "d959f238",
   "metadata": {},
   "source": [
    "## Sets\n",
    "\n",
    "* Sets correspond to our notion of sets in math. They are collections of objects **without** duplicates.\n",
    "* As with dictionaries, set is also nonsequential collections."
   ]
  },
  {
   "cell_type": "markdown",
   "id": "2fdaf11c",
   "metadata": {},
   "source": [
    "### Creating a set"
   ]
  },
  {
   "cell_type": "code",
   "execution_count": 306,
   "id": "f28a899f",
   "metadata": {},
   "outputs": [
    {
     "data": {
      "text/plain": [
       "{1, 2, 3, 4}"
      ]
     },
     "execution_count": 306,
     "metadata": {},
     "output_type": "execute_result"
    }
   ],
   "source": [
    "S = {2, 3, 1, 4, 2, 1}\n",
    "S"
   ]
  },
  {
   "cell_type": "markdown",
   "id": "658cc65a",
   "metadata": {},
   "source": [
    "### Creating a set by starting with an empty set"
   ]
  },
  {
   "cell_type": "code",
   "execution_count": 307,
   "id": "3df180e3",
   "metadata": {},
   "outputs": [
    {
     "data": {
      "text/plain": [
       "dict"
      ]
     },
     "execution_count": 307,
     "metadata": {},
     "output_type": "execute_result"
    }
   ],
   "source": [
    "S = {}\n",
    "type(S)"
   ]
  },
  {
   "cell_type": "code",
   "execution_count": 309,
   "id": "f18aa924-332c-4843-9555-428f5fdeac9d",
   "metadata": {},
   "outputs": [
    {
     "data": {
      "text/plain": [
       "set()"
      ]
     },
     "execution_count": 309,
     "metadata": {},
     "output_type": "execute_result"
    }
   ],
   "source": [
    "S = set()\n",
    "S"
   ]
  },
  {
   "cell_type": "code",
   "execution_count": 310,
   "id": "5730586d",
   "metadata": {},
   "outputs": [
    {
     "data": {
      "text/plain": [
       "{1, 2, 3, 4}"
      ]
     },
     "execution_count": 310,
     "metadata": {},
     "output_type": "execute_result"
    }
   ],
   "source": [
    "S.add(2)\n",
    "S.add(3)\n",
    "S.add(1)\n",
    "S.add(4)\n",
    "S"
   ]
  },
  {
   "cell_type": "code",
   "execution_count": 312,
   "id": "a2b9d850-9f16-42d9-825d-793c9b3ad50f",
   "metadata": {},
   "outputs": [
    {
     "data": {
      "text/plain": [
       "{1, 2, 3, 4}"
      ]
     },
     "execution_count": 312,
     "metadata": {},
     "output_type": "execute_result"
    }
   ],
   "source": [
    "S.add(1)\n",
    "S"
   ]
  },
  {
   "cell_type": "code",
   "execution_count": 313,
   "id": "fa750fb9",
   "metadata": {
    "scrolled": true
   },
   "outputs": [
    {
     "data": {
      "text/plain": [
       "{1, 2, 3, 4, 5, 6}"
      ]
     },
     "execution_count": 313,
     "metadata": {},
     "output_type": "execute_result"
    }
   ],
   "source": [
    "S.update({5, 6})\n",
    "S"
   ]
  },
  {
   "cell_type": "code",
   "execution_count": 314,
   "id": "5c5f7ef6-6d99-4a69-8db9-0be5dd1b401d",
   "metadata": {},
   "outputs": [
    {
     "data": {
      "text/plain": [
       "{5, 6}"
      ]
     },
     "execution_count": 314,
     "metadata": {},
     "output_type": "execute_result"
    }
   ],
   "source": [
    "{5, 6}"
   ]
  },
  {
   "cell_type": "code",
   "execution_count": 320,
   "id": "3c3a01b7",
   "metadata": {},
   "outputs": [
    {
     "ename": "KeyError",
     "evalue": "6",
     "output_type": "error",
     "traceback": [
      "\u001b[0;31m---------------------------------------------------------------------------\u001b[0m",
      "\u001b[0;31mKeyError\u001b[0m                                  Traceback (most recent call last)",
      "Cell \u001b[0;32mIn[320], line 1\u001b[0m\n\u001b[0;32m----> 1\u001b[0m S\u001b[38;5;241m.\u001b[39mremove(\u001b[38;5;241m6\u001b[39m)\n\u001b[1;32m      2\u001b[0m S\n",
      "\u001b[0;31mKeyError\u001b[0m: 6"
     ]
    }
   ],
   "source": [
    "S.remove(6)\n",
    "S"
   ]
  },
  {
   "cell_type": "markdown",
   "id": "5b3cc44e",
   "metadata": {},
   "source": [
    "### Set operation"
   ]
  },
  {
   "cell_type": "code",
   "execution_count": 321,
   "id": "18620fcd",
   "metadata": {},
   "outputs": [],
   "source": [
    "S1 = {2, 3, 1, 4, 2, 1}\n",
    "S2 = {2, 5, 6}"
   ]
  },
  {
   "cell_type": "code",
   "execution_count": 325,
   "id": "b644700e-7d01-4dd1-83e5-90db8a3cd4b6",
   "metadata": {},
   "outputs": [
    {
     "data": {
      "text/plain": [
       "{1, 2, 3, 4}"
      ]
     },
     "execution_count": 325,
     "metadata": {},
     "output_type": "execute_result"
    }
   ],
   "source": [
    "S1"
   ]
  },
  {
   "cell_type": "code",
   "execution_count": 322,
   "id": "c29cbe82",
   "metadata": {},
   "outputs": [
    {
     "data": {
      "text/plain": [
       "{2}"
      ]
     },
     "execution_count": 322,
     "metadata": {},
     "output_type": "execute_result"
    }
   ],
   "source": [
    "S1 & S2 # intersection"
   ]
  },
  {
   "cell_type": "code",
   "execution_count": 323,
   "id": "89890e96",
   "metadata": {},
   "outputs": [
    {
     "data": {
      "text/plain": [
       "{1, 2, 3, 4, 5, 6}"
      ]
     },
     "execution_count": 323,
     "metadata": {},
     "output_type": "execute_result"
    }
   ],
   "source": [
    "S1 | S2 # union"
   ]
  },
  {
   "cell_type": "code",
   "execution_count": 324,
   "id": "c610efc2",
   "metadata": {},
   "outputs": [
    {
     "data": {
      "text/plain": [
       "{1, 3, 4}"
      ]
     },
     "execution_count": 324,
     "metadata": {},
     "output_type": "execute_result"
    }
   ],
   "source": [
    "S1 - S2 # difference"
   ]
  },
  {
   "cell_type": "code",
   "execution_count": 326,
   "id": "c36dba5e",
   "metadata": {},
   "outputs": [
    {
     "data": {
      "text/plain": [
       "False"
      ]
     },
     "execution_count": 326,
     "metadata": {},
     "output_type": "execute_result"
    }
   ],
   "source": [
    "S1 > S2 # superset?"
   ]
  },
  {
   "cell_type": "code",
   "execution_count": 327,
   "id": "c86edf1d-9e81-4287-94cb-21dd768d9a34",
   "metadata": {},
   "outputs": [
    {
     "data": {
      "text/plain": [
       "True"
      ]
     },
     "execution_count": 327,
     "metadata": {},
     "output_type": "execute_result"
    }
   ],
   "source": [
    "S3 = {1, 2}\n",
    "S1 > S3"
   ]
  },
  {
   "cell_type": "markdown",
   "id": "7ee7d389",
   "metadata": {},
   "source": [
    "### Why sets?"
   ]
  },
  {
   "cell_type": "markdown",
   "id": "bd95d5f6",
   "metadata": {},
   "source": [
    "#### Filtering out duplicates out of other collections."
   ]
  },
  {
   "cell_type": "code",
   "execution_count": 328,
   "id": "12da1420",
   "metadata": {},
   "outputs": [
    {
     "data": {
      "text/plain": [
       "[1, 2, 1, 3, 2, 4, 5]"
      ]
     },
     "execution_count": 328,
     "metadata": {},
     "output_type": "execute_result"
    }
   ],
   "source": [
    "L = [1, 2, 1, 3, 2, 4, 5]\n",
    "L"
   ]
  },
  {
   "cell_type": "code",
   "execution_count": 329,
   "id": "0037ba0e-c908-43db-9463-ca126d6d8732",
   "metadata": {},
   "outputs": [
    {
     "data": {
      "text/plain": [
       "[1, 2, 3, 4, 5]"
      ]
     },
     "execution_count": 329,
     "metadata": {},
     "output_type": "execute_result"
    }
   ],
   "source": [
    "L = list(set(L))\n",
    "L"
   ]
  },
  {
   "cell_type": "markdown",
   "id": "e34217e9",
   "metadata": {},
   "source": [
    "#### Isolate differences in lists, strings, and other iterable objects"
   ]
  },
  {
   "cell_type": "code",
   "execution_count": 330,
   "id": "221caa37",
   "metadata": {},
   "outputs": [
    {
     "data": {
      "text/plain": [
       "{3, 7}"
      ]
     },
     "execution_count": 330,
     "metadata": {},
     "output_type": "execute_result"
    }
   ],
   "source": [
    "set([1, 3, 5, 7]) - set([1, 2, 4, 5, 6])"
   ]
  },
  {
   "cell_type": "markdown",
   "id": "831b6ad0",
   "metadata": {},
   "source": [
    "#### Real examples"
   ]
  },
  {
   "cell_type": "code",
   "execution_count": 331,
   "id": "56f13581",
   "metadata": {},
   "outputs": [],
   "source": [
    "engineers = {'Bob', 'Sue', 'Ann', 'Vic'}\n",
    "managers = {'Tom', 'Sue'}"
   ]
  },
  {
   "cell_type": "code",
   "execution_count": 332,
   "id": "b8b225f6",
   "metadata": {},
   "outputs": [
    {
     "data": {
      "text/plain": [
       "True"
      ]
     },
     "execution_count": 332,
     "metadata": {},
     "output_type": "execute_result"
    }
   ],
   "source": [
    "'Bob' in engineers # Is bob an engineer?"
   ]
  },
  {
   "cell_type": "code",
   "execution_count": 333,
   "id": "3c96fdd2",
   "metadata": {},
   "outputs": [
    {
     "data": {
      "text/plain": [
       "{'Sue'}"
      ]
     },
     "execution_count": 333,
     "metadata": {},
     "output_type": "execute_result"
    }
   ],
   "source": [
    "engineers & managers # Both engineers and managers"
   ]
  },
  {
   "cell_type": "markdown",
   "id": "91ed2f74",
   "metadata": {},
   "source": [
    "How to find engineers who are not managers?"
   ]
  },
  {
   "cell_type": "code",
   "execution_count": 334,
   "id": "0484f6b2-885a-4926-a82f-459a694d91bb",
   "metadata": {},
   "outputs": [
    {
     "data": {
      "text/plain": [
       "{'Ann', 'Bob', 'Vic'}"
      ]
     },
     "execution_count": 334,
     "metadata": {},
     "output_type": "execute_result"
    }
   ],
   "source": [
    "engineers - managers"
   ]
  },
  {
   "cell_type": "markdown",
   "id": "afe9208a",
   "metadata": {},
   "source": [
    "## Mutable and Immutable\n",
    "\n",
    "Before giving the difinition, let's first do some experiments"
   ]
  },
  {
   "cell_type": "code",
   "execution_count": 335,
   "id": "e468e458",
   "metadata": {},
   "outputs": [
    {
     "data": {
      "text/plain": [
       "'Python'"
      ]
     },
     "execution_count": 335,
     "metadata": {},
     "output_type": "execute_result"
    }
   ],
   "source": [
    "S = 'Python' # string\n",
    "S"
   ]
  },
  {
   "cell_type": "code",
   "execution_count": 336,
   "id": "86362ce9-7e95-426b-983d-13292742a02c",
   "metadata": {},
   "outputs": [
    {
     "name": "stdout",
     "output_type": "stream",
     "text": [
      "\u001b[1;31mSyntaxError : \u001b[1;31;47minvalid syntax (<string>, line 1)\u001b[0m\n"
     ]
    }
   ],
   "source": [
    "%%handle\n",
    "S[2] = \"h\""
   ]
  },
  {
   "cell_type": "code",
   "execution_count": 337,
   "id": "ff0a6018",
   "metadata": {},
   "outputs": [],
   "source": [
    "S = S + 'hello'"
   ]
  },
  {
   "cell_type": "code",
   "execution_count": 338,
   "id": "5e85be5e-624c-4b7d-952d-23efb1a9dbfd",
   "metadata": {},
   "outputs": [
    {
     "data": {
      "text/plain": [
       "'Pythonhello'"
      ]
     },
     "execution_count": 338,
     "metadata": {},
     "output_type": "execute_result"
    }
   ],
   "source": [
    "S"
   ]
  },
  {
   "cell_type": "code",
   "execution_count": 339,
   "id": "7dbfdd08",
   "metadata": {},
   "outputs": [
    {
     "data": {
      "text/plain": [
       "[1, 2, 5, 4]"
      ]
     },
     "execution_count": 339,
     "metadata": {},
     "output_type": "execute_result"
    }
   ],
   "source": [
    "L = [1, 2, 3, 4] # list\n",
    "L[2] = 5\n",
    "L"
   ]
  },
  {
   "cell_type": "code",
   "execution_count": 340,
   "id": "a24d53b7",
   "metadata": {},
   "outputs": [
    {
     "data": {
      "text/plain": [
       "[1, 2, 5, 4, 5]"
      ]
     },
     "execution_count": 340,
     "metadata": {},
     "output_type": "execute_result"
    }
   ],
   "source": [
    "L.append(5)\n",
    "L"
   ]
  },
  {
   "cell_type": "code",
   "execution_count": 341,
   "id": "7c816c89",
   "metadata": {},
   "outputs": [
    {
     "data": {
      "text/plain": [
       "(1, 2, 3, 4)"
      ]
     },
     "execution_count": 341,
     "metadata": {},
     "output_type": "execute_result"
    }
   ],
   "source": [
    "T = (1, 2, 3, 4) # Tuple\n",
    "T + (6, 7)\n",
    "T"
   ]
  },
  {
   "cell_type": "code",
   "execution_count": 342,
   "id": "44bd99d6",
   "metadata": {},
   "outputs": [
    {
     "name": "stdout",
     "output_type": "stream",
     "text": [
      "\u001b[1;31mSyntaxError : \u001b[1;31;47minvalid syntax (<string>, line 1)\u001b[0m\n"
     ]
    }
   ],
   "source": [
    "%%handle\n",
    "T[2] = 5"
   ]
  },
  {
   "cell_type": "code",
   "execution_count": 343,
   "id": "0d2cd01f",
   "metadata": {},
   "outputs": [
    {
     "data": {
      "text/plain": [
       "{'a': 3, 'b': 2, 'c': 3, 'd': 4}"
      ]
     },
     "execution_count": 343,
     "metadata": {},
     "output_type": "execute_result"
    }
   ],
   "source": [
    "D = {'a': 1, 'b':2, 'c':3} # dictionary\n",
    "D['d'] = 4\n",
    "D['a'] = 3\n",
    "D"
   ]
  },
  {
   "cell_type": "code",
   "execution_count": 344,
   "id": "d9cee630",
   "metadata": {
    "scrolled": true
   },
   "outputs": [
    {
     "data": {
      "text/plain": [
       "{1, 2, 3, 4, 5}"
      ]
     },
     "execution_count": 344,
     "metadata": {},
     "output_type": "execute_result"
    }
   ],
   "source": [
    "S1 = {1, 2, 3, 4}\n",
    "S1.add(5)\n",
    "S1"
   ]
  },
  {
   "cell_type": "markdown",
   "id": "dfcf5bb4",
   "metadata": {},
   "source": [
    "As we see from the above examples, The value of an object may or may not be changed. \n",
    "\n",
    "If the value can be changed, we say that the object is **mutable**.\n",
    "\n",
    "If it cannot be changed, we say that the object is **immutable**.\n",
    "\n",
    "* **mutable**: lists, dictionaries, sets\n",
    "* **immutable**: numbers, strings, tuples"
   ]
  },
  {
   "cell_type": "markdown",
   "id": "034cf46c",
   "metadata": {},
   "source": [
    "For immutable objects, all the operation produce a new object as its results, but the original objects are never changed"
   ]
  },
  {
   "cell_type": "code",
   "execution_count": null,
   "id": "72935459",
   "metadata": {},
   "outputs": [],
   "source": [
    "S = 'xyz'\n",
    "S + 'abc'\n",
    "S"
   ]
  },
  {
   "cell_type": "markdown",
   "id": "d7baa63e",
   "metadata": {},
   "source": [
    "Immutable objects can not be changed in place after they are created, but you can always build a new one and assign it to the same name."
   ]
  },
  {
   "cell_type": "code",
   "execution_count": null,
   "id": "a84646c4",
   "metadata": {},
   "outputs": [],
   "source": [
    "S = 'xyzabc'\n",
    "S"
   ]
  },
  {
   "attachments": {},
   "cell_type": "markdown",
   "id": "6be2e21e-9b41-49e6-aaf7-1c2b877a4801",
   "metadata": {},
   "source": [
    "## Summary\n",
    "\n",
    "| Non-Collection | Collection  |\n",
    "|----------------|-------------|\n",
    "| Numbers        | Strings     |\n",
    "|                | Lists       |\n",
    "|                | Tuples      |\n",
    "|                | Dictionaries|\n",
    "|                | Sets        |\n",
    "\n",
    "|Unordered       | Ordered   |\n",
    "|----------------|-------------|\n",
    "| Dictionaries   | Strings     |\n",
    "|  Sets          | Lists       |\n",
    "|                | Tuples      |\n",
    "\n",
    "| Immutable      | Mutable   |\n",
    "|----------------|-------------|\n",
    "| Numbers        | Lists       |\n",
    "| Strings        | Dictionaries|\n",
    "| Tuples         | Sets        |"
   ]
  }
 ],
 "metadata": {
  "kernelspec": {
   "display_name": "Python 3 (ipykernel)",
   "language": "python",
   "name": "python3"
  },
  "language_info": {
   "codemirror_mode": {
    "name": "ipython",
    "version": 3
   },
   "file_extension": ".py",
   "mimetype": "text/x-python",
   "name": "python",
   "nbconvert_exporter": "python",
   "pygments_lexer": "ipython3",
   "version": "3.12.4"
  }
 },
 "nbformat": 4,
 "nbformat_minor": 5
}
