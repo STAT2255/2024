{
 "cells": [
  {
   "cell_type": "markdown",
   "id": "a03433d9",
   "metadata": {},
   "source": [
    "# Statistical Inference\n",
    "\n",
    "- Statistics is a science about collecting, summarizing and making inference from data.\n",
    "- Statistical inference involves drawing conclusions about populations from samples.\n",
    "\n",
    "Here, we will focus on two of the most common population parameters:\n",
    "\n",
    "* Population mean $\\mu$:\n",
    "  - average height of all American;\n",
    "  - average salary of all Connecticut residents, and etc.\n",
    "* Population proportion $p$:\n",
    "  - Proportion of American who support Harris;\n",
    "  - Proportion of people who have taken COVID19 vaccine."
   ]
  },
  {
   "cell_type": "markdown",
   "id": "22803be1",
   "metadata": {},
   "source": [
    "# Hypothesis Testing\n",
    "\n",
    "- Sometimes, we may have some preconceived ideas regarding to the unknown population parameters.\n",
    "- The sample data we collect can help us decide the plausibility of these ideas and this is accomplished by **Hypothesis Testing**. \n",
    "\n",
    "\n",
    "Hypothesis testing involves drawing inferences about two contrasting propositions (each called a hypothesis) relating to the value of one or more population parameters.\n",
    "\n",
    "* $H_0$ **Null hypothesis**: describes an existing theory or status quo\n",
    "* $H_1$ (or $H_a$) **Alternative hypothesis**: Usually is our research interest (a challenge or alternative to accepted view).\n",
    "\n",
    "**Note**: Using sample data, we either:\n",
    "* Reject $H_0$ and conclude the sample data is in favor of $H_1$, or\n",
    "* Fail to reject $H_0$\n",
    "  - Fail to reject $H_0$ does not mean $H_0$ is true.\n",
    "  - It only mean there is no sufficient evidence to disprove it with the data we have collect."
   ]
  },
  {
   "cell_type": "markdown",
   "id": "d4e4b524-7589-477b-8091-625a38780621",
   "metadata": {},
   "source": [
    "## How to test?\n",
    "\n",
    "1. **Set up hypotheses**: Statistically, we cannot “prove” that $H_0$ is true. We can only fail to reject it. So, what we want to test (our research of interest) is usually set as alternative hypothesis ($H_1$).\n",
    "\n",
    "\n",
    "2. To conduct a Hypothesis Test,\n",
    "   - we initially assume that $H_0$ is true.\n",
    "   - Then, we calculate the chance of observing the sample data under this assumption.\n",
    "   - This gives us an idea of whether or not our assumption ($H_0$ is true) is \"reasonable\";\n",
    "   - it leads us to a decision whether or not reject the null hypothesis.\n",
    "\n",
    "## Intuition (A Legal Analogy for Hypothesis Testing)\n",
    "\n",
    "The idea of hypothesis testing follows close to the idea of proof by contradiction. Here, we use a legal analogy to explain the hypothesis testing:\n",
    "\n",
    "In the U.S. legal system, a defendant is innocent until proven guilty.\n",
    "\n",
    "  *  $H_0$: Innocent\n",
    "  *  $H_1$: Guilty\n",
    "\n",
    "1. So, we start by assuming the defendant is innocent ($H_0$).\n",
    "2. The sample data we collect can be seen as the evidence.\n",
    "   * Under the assumption of innocent ($H_0$), what is the chance of getting the evidence (sample data) that we have in hand.\n",
    "   * If the chance is small, then, this means our assumption of innocent is questionable and our evidence is in favor of the alternative guilty ($H_1$).\n",
    "   * If the chance is large, then, this means our data does not provide enough evidence to rule the defendant is guilty. "
   ]
  },
  {
   "cell_type": "markdown",
   "id": "cb386fbb-99bc-4496-9970-63703e415986",
   "metadata": {},
   "source": [
    "## Type of tests:\n",
    "\n",
    "### One Sample tests\n",
    "\n",
    "Primary interest is on one single population:\n",
    "* 1-sample t test\n",
    "* 1-sample proportion test\n",
    "\n",
    "### Two Sample tests\n",
    "\n",
    "Primary interest is to make comparison between two population:\n",
    "* 2-sample t test\n",
    "* paired t test\n",
    "\n",
    "For the above tests, we are going to use the ```stats``` submodule from library ```statsmodels``` and ```scipy```."
   ]
  },
  {
   "cell_type": "code",
   "execution_count": 1,
   "id": "19c86433",
   "metadata": {},
   "outputs": [],
   "source": [
    "import scipy.stats as scs\n",
    "import statsmodels.stats.api as sms"
   ]
  },
  {
   "cell_type": "markdown",
   "id": "2fe5c1c8",
   "metadata": {},
   "source": [
    "## One sample tests\n",
    "\n",
    "### 1-sample t test\n",
    "\n",
    "For one sample test for population mean, the hypotheses in general has the following form:\n",
    "$$H_0: \\mu = \\mu_0.$$\n",
    "$$H_1: \\mu > \\mu_0, \\mu < \\mu_0, \\text{ or } \\mu \\ne \\mu_0.$$\n",
    "\n",
    "where $\\mu_0$ is the preconceived idea you have ahead of time.\n",
    "\n",
    "We start with the simplest case:\n",
    "* Sample are independent.\n",
    "* We have a large sample size ($\\ge 30$).\n",
    "\n",
    "Under this senario, the appropriate test is 1-sample t test. The function you want to use is ```scs.ttest_1samp```.\n",
    "\n",
    "Example:\n",
    "\n",
    "According to the Food and Nutrition Board of the National Academy of Sciences, the recommended daily allowance (RDA) of calcium for adults is 800 milligrams. You have the data of the daily calcium intake (in mg.) for a sample of people with poverty level incomes. <u>The researchers believe that the mean daily calcium intake for poverty level income people is **below** the recommended 800 mg</u>. Conduct a hypothesis test to test this claim.\n",
    "\n",
    "$$H_0: \\mu = 800.$$\n",
    "$$H_1: \\mu < 800.$$"
   ]
  },
  {
   "cell_type": "code",
   "execution_count": 2,
   "id": "c2d286ce",
   "metadata": {},
   "outputs": [
    {
     "data": {
      "text/plain": [
       "(40, 1)"
      ]
     },
     "execution_count": 2,
     "metadata": {},
     "output_type": "execute_result"
    }
   ],
   "source": [
    "import pandas as pd\n",
    "calcium = pd.read_csv(\"data/calcium.csv\")\n",
    "calcium.shape"
   ]
  },
  {
   "cell_type": "code",
   "execution_count": 3,
   "id": "b8e9bd61-c82f-4416-9338-b1deb1a96663",
   "metadata": {},
   "outputs": [
    {
     "data": {
      "text/html": [
       "<div>\n",
       "<style scoped>\n",
       "    .dataframe tbody tr th:only-of-type {\n",
       "        vertical-align: middle;\n",
       "    }\n",
       "\n",
       "    .dataframe tbody tr th {\n",
       "        vertical-align: top;\n",
       "    }\n",
       "\n",
       "    .dataframe thead th {\n",
       "        text-align: right;\n",
       "    }\n",
       "</style>\n",
       "<table border=\"1\" class=\"dataframe\">\n",
       "  <thead>\n",
       "    <tr style=\"text-align: right;\">\n",
       "      <th></th>\n",
       "      <th>Calcium</th>\n",
       "    </tr>\n",
       "  </thead>\n",
       "  <tbody>\n",
       "    <tr>\n",
       "      <th>0</th>\n",
       "      <td>870</td>\n",
       "    </tr>\n",
       "    <tr>\n",
       "      <th>1</th>\n",
       "      <td>791</td>\n",
       "    </tr>\n",
       "    <tr>\n",
       "      <th>2</th>\n",
       "      <td>677</td>\n",
       "    </tr>\n",
       "    <tr>\n",
       "      <th>3</th>\n",
       "      <td>748</td>\n",
       "    </tr>\n",
       "    <tr>\n",
       "      <th>4</th>\n",
       "      <td>699</td>\n",
       "    </tr>\n",
       "  </tbody>\n",
       "</table>\n",
       "</div>"
      ],
      "text/plain": [
       "   Calcium\n",
       "0      870\n",
       "1      791\n",
       "2      677\n",
       "3      748\n",
       "4      699"
      ]
     },
     "execution_count": 3,
     "metadata": {},
     "output_type": "execute_result"
    }
   ],
   "source": [
    "calcium.head()"
   ]
  },
  {
   "cell_type": "code",
   "execution_count": null,
   "id": "9942afbf",
   "metadata": {},
   "outputs": [],
   "source": [
    "help(scs.ttest_1samp)"
   ]
  },
  {
   "cell_type": "code",
   "execution_count": 7,
   "id": "f1049100-75c4-4061-955b-bbf8be59ff00",
   "metadata": {},
   "outputs": [
    {
     "data": {
      "text/plain": [
       "TtestResult(statistic=array([-3.99532412]), pvalue=array([0.00013886]), df=array([39]))"
      ]
     },
     "execution_count": 7,
     "metadata": {},
     "output_type": "execute_result"
    }
   ],
   "source": [
    "a = scs.ttest_1samp(calcium, popmean=800, alternative='less')\n",
    "# popmean is mu_0.\n",
    "# Possible values for alternative: 'two-sided'; 'greater'; 'less'.\n",
    "a"
   ]
  },
  {
   "cell_type": "code",
   "execution_count": 6,
   "id": "03ba0b38",
   "metadata": {},
   "outputs": [
    {
     "data": {
      "text/plain": [
       "scipy.stats._stats_py.TtestResult"
      ]
     },
     "execution_count": 6,
     "metadata": {},
     "output_type": "execute_result"
    }
   ],
   "source": [
    "type(a)"
   ]
  },
  {
   "cell_type": "code",
   "execution_count": 8,
   "id": "cc901c10",
   "metadata": {},
   "outputs": [
    {
     "data": {
      "text/plain": [
       "['__add__',\n",
       " '__class__',\n",
       " '__class_getitem__',\n",
       " '__contains__',\n",
       " '__delattr__',\n",
       " '__dict__',\n",
       " '__dir__',\n",
       " '__doc__',\n",
       " '__eq__',\n",
       " '__format__',\n",
       " '__ge__',\n",
       " '__getattribute__',\n",
       " '__getitem__',\n",
       " '__getnewargs__',\n",
       " '__getnewargs_ex__',\n",
       " '__getstate__',\n",
       " '__gt__',\n",
       " '__hash__',\n",
       " '__init__',\n",
       " '__init_subclass__',\n",
       " '__iter__',\n",
       " '__le__',\n",
       " '__len__',\n",
       " '__lt__',\n",
       " '__module__',\n",
       " '__mul__',\n",
       " '__ne__',\n",
       " '__new__',\n",
       " '__reduce__',\n",
       " '__reduce_ex__',\n",
       " '__repr__',\n",
       " '__rmul__',\n",
       " '__setattr__',\n",
       " '__sizeof__',\n",
       " '__str__',\n",
       " '__subclasshook__',\n",
       " '_alternative',\n",
       " '_asdict',\n",
       " '_estimate',\n",
       " '_extra_fields',\n",
       " '_fields',\n",
       " '_standard_error',\n",
       " 'confidence_interval',\n",
       " 'count',\n",
       " 'df',\n",
       " 'index',\n",
       " 'pvalue',\n",
       " 'statistic']"
      ]
     },
     "execution_count": 8,
     "metadata": {},
     "output_type": "execute_result"
    }
   ],
   "source": [
    "dir(a)"
   ]
  },
  {
   "cell_type": "code",
   "execution_count": null,
   "id": "ed5bbb4a",
   "metadata": {},
   "outputs": [
    {
     "data": {
      "text/plain": [
       "-3.9953241227660783"
      ]
     },
     "execution_count": 10,
     "metadata": {},
     "output_type": "execute_result"
    }
   ],
   "source": [
    "a.statistic[0]"
   ]
  },
  {
   "cell_type": "code",
   "execution_count": 11,
   "id": "cb2250ca",
   "metadata": {},
   "outputs": [
    {
     "data": {
      "text/plain": [
       "TtestResult(statistic=array([-3.99532412]), pvalue=array([0.00013886]), df=array([39]))"
      ]
     },
     "execution_count": 11,
     "metadata": {},
     "output_type": "execute_result"
    }
   ],
   "source": [
    "scs.ttest_1samp(calcium, popmean=800, alternative='less')"
   ]
  },
  {
   "cell_type": "code",
   "execution_count": 12,
   "id": "7f6b628d",
   "metadata": {},
   "outputs": [
    {
     "name": "stdout",
     "output_type": "stream",
     "text": [
      "The test statistics is -3.9953, and the p value is 0.0001.\n"
     ]
    }
   ],
   "source": [
    "t_score, p_value = scs.ttest_1samp(calcium, popmean=800, alternative='less')\n",
    "print('The test statistics is {}, and the p value is {}.'.format(t_score.round(4)[0], p_value.round(4)[0]))"
   ]
  },
  {
   "cell_type": "code",
   "execution_count": 13,
   "id": "62ddfbb5",
   "metadata": {},
   "outputs": [
    {
     "data": {
      "text/plain": [
       "array([-3.99532412])"
      ]
     },
     "execution_count": 13,
     "metadata": {},
     "output_type": "execute_result"
    }
   ],
   "source": [
    "t_score"
   ]
  },
  {
   "cell_type": "markdown",
   "id": "f2e68a87",
   "metadata": {},
   "source": [
    "### Making decision\n",
    "\n",
    "Now, we need to make a decision whether or not to reject the null hypothesis. The decision depends on the p-value and significance level ($\\alpha$). \n",
    "\n",
    "* The p-value is the probability of obtaining a test statistic value equal to or more extreme than observed when the null hypothesis is true.\n",
    "* The significance level is usually specified ahead of time and common values are: 0.1, 0.05, 0.01.\n",
    "\n",
    "In the end\n",
    "* we reject the null hypothesis, and in favor of the alternative hypothesis if p-value< $\\alpha$.\n",
    "* we fail to reject the null hypothesis if p-value $\\ge\\alpha$. **Remember**, this is not saying $H_0$ is correct.\n",
    "\n",
    "In this case, using $\\alpha = 0.05$, \n",
    "1. We will reject the null hypothesis.\n",
    "2. Conclude that the mean daily calcium intake for poverty level income people is below the recommended level. "
   ]
  },
  {
   "cell_type": "markdown",
   "id": "97eb6e2b",
   "metadata": {},
   "source": [
    "### small sample case\n",
    "\n",
    "- When the sample size is large, we do not need to pose any assumption on the distribution of our data.\n",
    "- As long as they are independent, the t test will be valid by the **Central Limit Theorem**.\n",
    "- However, it maybe the case that our sample is smaller than 30.\n",
    "- Under this case, it is required to check the normality assumption before conducting the t test. \n",
    "\n",
    "### check normality assumption\n",
    "\n",
    "To check whether or not our data are from a normal distribution, we can simply plot the data to see"
   ]
  },
  {
   "cell_type": "markdown",
   "id": "5174454a",
   "metadata": {},
   "source": [
    "### histogram"
   ]
  },
  {
   "cell_type": "code",
   "execution_count": 14,
   "id": "395258a7",
   "metadata": {},
   "outputs": [
    {
     "data": {
      "text/plain": [
       "<Axes: ylabel='Count'>"
      ]
     },
     "execution_count": 14,
     "metadata": {},
     "output_type": "execute_result"
    },
    {
     "data": {
      "image/png": "[encoded data removed]",
      "text/plain": [
       "<Figure size 640x480 with 1 Axes>"
      ]
     },
     "metadata": {},
     "output_type": "display_data"
    }
   ],
   "source": [
    "data = [58,  67,  63,  65,  59,  57,  51,  64,  59,  54, 65,  56,  59,  58,  62,  64,  55,  59,  61, 55]\n",
    "import seaborn as sns\n",
    "sns.histplot(data, kde=True)"
   ]
  },
  {
   "cell_type": "markdown",
   "id": "48d1a28a",
   "metadata": {},
   "source": [
    "### quantile-quantile plot (qq plot)"
   ]
  },
  {
   "cell_type": "code",
   "execution_count": 15,
   "id": "36f698b6",
   "metadata": {},
   "outputs": [
    {
     "data": {
      "image/png": "[encoded data removed]",
      "text/plain": [
       "<Figure size 640x480 with 1 Axes>"
      ]
     },
     "metadata": {},
     "output_type": "display_data"
    }
   ],
   "source": [
    "import matplotlib.pyplot as plt\n",
    "import statsmodels.api as sm\n",
    "import numpy as np\n",
    "fig = sm.qqplot(np.array(data))\n",
    "#fig.set_size_inches(10, 8)"
   ]
  },
  {
   "cell_type": "markdown",
   "id": "94d88140",
   "metadata": {},
   "source": [
    "### shapiro wilk test\n",
    "\n",
    "The above checkings for normality assumption by visualization are relative subjective. To make it formal, we can use shapiro wilk test to test the normality assumption.\n",
    "\n",
    "$$H_0: \\text{The data is from normal distribution}$$\n",
    "$$H_1: \\text{The data is not from normal distribution}$$"
   ]
  },
  {
   "cell_type": "code",
   "execution_count": 16,
   "id": "2d3029ca",
   "metadata": {},
   "outputs": [
    {
     "data": {
      "text/plain": [
       "ShapiroResult(statistic=0.9724048595730944, pvalue=0.8046379114177866)"
      ]
     },
     "execution_count": 16,
     "metadata": {},
     "output_type": "execute_result"
    }
   ],
   "source": [
    "scs.shapiro(data)"
   ]
  },
  {
   "cell_type": "code",
   "execution_count": 17,
   "id": "4d89d8c3",
   "metadata": {},
   "outputs": [
    {
     "data": {
      "text/plain": [
       "ShapiroResult(statistic=0.9696178252402867, pvalue=0.34999651297891066)"
      ]
     },
     "execution_count": 17,
     "metadata": {},
     "output_type": "execute_result"
    }
   ],
   "source": [
    "scs.shapiro(calcium)"
   ]
  },
  {
   "cell_type": "markdown",
   "id": "e7f9b5ed",
   "metadata": {},
   "source": [
    "Use $\\alpha = 0.05$, we can say the normality assumption is appropriate for this data."
   ]
  },
  {
   "cell_type": "markdown",
   "id": "1a665107",
   "metadata": {},
   "source": [
    "## 1-sample proportion test\n",
    "\n",
    "For one sample test for populationproportion, the hypotheses in general has the following form:\n",
    "$$H_0: p = p_0.$$\n",
    "$$H_1: p > p_0; p < p_0; \\text{ or } p \\ne p_0.$$\n",
    "\n",
    "where $p_0$ is the preconceived idea you have ahead of time.\n",
    "\n",
    "We start with the simplest case:\n",
    "\n",
    "* Sample are independent.\n",
    "* $np_0(1-p_0) \\ge 5$\n",
    "\n",
    "Under this senario, the appropriate test is 1-sample proportion test. The function you want to use is ```sms.proportions_ztest```.\n",
    "\n",
    "Example:\n",
    "\n",
    "A recent survey claimed that 45% of college students named \"Pretty Little Liars\" as their favorite of the two shows.  Fans of \"Breaking Bad\" believed that percentage was inflated (<u>that is, these fans believe that the proportion of college students who would say \"Pretty Little Liars\" was their favorite show is actually **less that** 45%</u>). They decided to take a survey of 100 college students.  Each student was asked the question: “Did you prefer ‘Pretty Little Liars’ over \"Breaking Bad\" during the years 2012-2013?\"  Each person could answer either Yes or No. \n",
    "\n",
    "$$H_0: p = 0.45.$$\n",
    "$$H_1: p < 0.45.$$"
   ]
  },
  {
   "cell_type": "code",
   "execution_count": null,
   "id": "f0683463",
   "metadata": {},
   "outputs": [],
   "source": [
    "import pandas as pd\n",
    "tv = pd.read_csv('data/tv.csv')"
   ]
  },
  {
   "cell_type": "code",
   "execution_count": null,
   "id": "da863bf5",
   "metadata": {},
   "outputs": [],
   "source": [
    "tv.head()"
   ]
  },
  {
   "cell_type": "code",
   "execution_count": null,
   "id": "f155e515",
   "metadata": {},
   "outputs": [],
   "source": [
    "help(sms.proportions_ztest)"
   ]
  },
  {
   "cell_type": "code",
   "execution_count": null,
   "id": "fd657d11-4924-4377-aef3-5ba0164d30d6",
   "metadata": {},
   "outputs": [],
   "source": [
    "tv.groupby(\"ANSWER\").size()"
   ]
  },
  {
   "cell_type": "code",
   "execution_count": null,
   "id": "814c3aa4-d660-476e-879c-dce34dc28ca3",
   "metadata": {},
   "outputs": [],
   "source": [
    "a = pd.crosstab(index = tv.ANSWER, columns='count', margins=True)\n",
    "a"
   ]
  },
  {
   "cell_type": "code",
   "execution_count": null,
   "id": "fc4e1918-2c4f-4c42-91b6-fc001a68fbc1",
   "metadata": {},
   "outputs": [],
   "source": [
    "a.loc['YES', 'count'], a.iloc[1, 0], a.loc['All', 'count'],  a.iloc[2, 0]"
   ]
  },
  {
   "cell_type": "code",
   "execution_count": null,
   "id": "2696dbc5",
   "metadata": {},
   "outputs": [],
   "source": [
    "sms.proportions_ztest(count = a.loc['YES', 'count'], nobs = a.loc['All', 'count'], value = 0.45, alternative='smaller', prop_var=0.45)"
   ]
  },
  {
   "cell_type": "code",
   "execution_count": null,
   "id": "2c40c8ec-5bf0-4e47-9116-5cd528330e5b",
   "metadata": {},
   "outputs": [],
   "source": [
    "sms.proportions_ztest(count = 36, nobs = 100, value = 0.45, alternative='smaller', prop_var=0.45)"
   ]
  },
  {
   "cell_type": "code",
   "execution_count": null,
   "id": "dff0e00e-6cd9-487e-a3e2-74d0392fa31f",
   "metadata": {},
   "outputs": [],
   "source": [
    "z_score, p_value = sms.proportions_ztest(count = 36, nobs = 100, value = 0.45, alternative='smaller', prop_var=0.45)\n",
    "print('The test statistics is {}, and the p value is {}.'.format(z_score.round(4), p_value.round(4)))"
   ]
  },
  {
   "cell_type": "markdown",
   "id": "ab391619",
   "metadata": {},
   "source": [
    "In this case, using $\\alpha = 0.05$, \n",
    "\n",
    "1. We will reject the null hypothesis.\n",
    "2. Conclude that the percentage from the survey is inflated."
   ]
  },
  {
   "cell_type": "markdown",
   "id": "9fb93723",
   "metadata": {},
   "source": [
    "## Two sample tests\n",
    "\n",
    "For a two sample test for population means, the hypotheses in general has the following form:\n",
    "$$H_0: \\mu_1 = \\mu_2.$$\n",
    "$$H_1: \\mu_1 > \\mu_2; \\mu_1 < \\mu_2; \\mu_1 \\ne \\mu_2.$$\n",
    "\n",
    "where $\\mu_1$ and $\\mu_2$ stand for means of populations 1 and 2.\n",
    "\n",
    "\n",
    "When\n",
    "\n",
    "* Two populations are independent.\n",
    "* Samples are from normal distribution (can be relaxed if sample size $\\ge$ 30).\n",
    "\n",
    "Under this senario, the appropriate test is 2-sample t test. The function you want to use is ```sms.ttest_ind```.\n",
    "\n",
    "Example:\n",
    "\n",
    "Suppose you suspect that the engineering students will have a higher average SAT math score than business students, and you would like to do a test of hypothesis to check if your suspicions are confirmed.\n",
    "\n",
    "$$H_0: \\mu_1 = \\mu_2.$$\n",
    "$$H_1: \\mu_1 > \\mu_2.$$"
   ]
  },
  {
   "cell_type": "code",
   "execution_count": null,
   "id": "ccb5dc05",
   "metadata": {},
   "outputs": [],
   "source": [
    "sat = pd.read_csv(\"data/mathsat.csv\")"
   ]
  },
  {
   "cell_type": "code",
   "execution_count": null,
   "id": "eb3ce70b",
   "metadata": {},
   "outputs": [],
   "source": [
    "sat.head()"
   ]
  },
  {
   "cell_type": "code",
   "execution_count": null,
   "id": "5c29ed11",
   "metadata": {},
   "outputs": [],
   "source": [
    "sat.shape # small sample size"
   ]
  },
  {
   "cell_type": "markdown",
   "id": "c7083758",
   "metadata": {},
   "source": [
    "### normality check"
   ]
  },
  {
   "cell_type": "code",
   "execution_count": null,
   "id": "068bf824",
   "metadata": {},
   "outputs": [],
   "source": [
    "scs.shapiro(sat.Engineering)"
   ]
  },
  {
   "cell_type": "code",
   "execution_count": null,
   "id": "fcc05b56-5612-44e4-8cea-3235e6a6562c",
   "metadata": {},
   "outputs": [],
   "source": [
    "scs.shapiro(sat.Business.dropna())"
   ]
  },
  {
   "cell_type": "code",
   "execution_count": null,
   "id": "7e44676f",
   "metadata": {},
   "outputs": [],
   "source": [
    "sat.Business.dropna()"
   ]
  },
  {
   "cell_type": "code",
   "execution_count": null,
   "id": "e57f92ee",
   "metadata": {},
   "outputs": [],
   "source": [
    "t_score, p_value, degree_fr = sms.ttest_ind(sat.Engineering, sat.Business.dropna(),\n",
    "                                            alternative='larger', usevar = 'unequal')\n",
    "\n",
    "print('The test statistics is {}, and the p value is {}.'.format(t_score.round(4), p_value.round(4)))"
   ]
  },
  {
   "cell_type": "markdown",
   "id": "b7787583",
   "metadata": {},
   "source": [
    "### Decision\n",
    "\n",
    "In this case, using $\\alpha = 0.05$, \n",
    "\n",
    "1. We fail reject the null hypothesis.\n",
    "2. Conclude that there is no enough evidence to support the claim that engineering students will have a higher average SAT math score. "
   ]
  },
  {
   "cell_type": "markdown",
   "id": "23c42287",
   "metadata": {},
   "source": [
    "## two sample test for dependent population\n",
    "\n",
    "Sometime, we want to compare two populations that are dependent. For example, the performance of a student before and after some study session; reaction time for left and right hand, and etc. \n",
    "\n",
    "In this case, the appropriate test is the paired t-test. The hypotheses take the general form:\n",
    "\n",
    "$$H_0: \\mu_1 = \\mu_2.$$\n",
    "$$H_1: \\mu_1 > \\mu_2; \\mu_1 < \\mu_2; \\mu_1 \\ne \\mu_2.$$\n",
    "\n",
    "Because of the unique feature of the data (data comes in pair), conducting the paired t test is equivalent to test:\n",
    "\n",
    "$$H_0: d = 0$$\n",
    "$$H_1: d>0; d<0; d\\ne0.$$\n",
    "where $d = \\mu_1 - \\mu_2$. Notice that the different is independent. So, we have a 1-sample problem and this test can be done using 1-sample t test.\n",
    "\n",
    "Example:\n",
    "\n",
    "Many students take a course which is advertised to boost scores on the LSAT.  <u>The agency that teaches the course claims the course is an **effective** way to raise scores on the LSAT</u>.  To test this claim, a group of students are given the LSAT and their scores are recorded.  They then attend the course for 5 weeks and retake the exam.  Their scores are recorded again.  \n",
    "\n",
    "$$H_0: \\mu_1 = \\mu_2 \\text{ or } d = 0$$\n",
    "$$H_1: \\mu_1 < \\mu_2\\text{ or } d < 0.$$"
   ]
  },
  {
   "cell_type": "code",
   "execution_count": null,
   "id": "e255e0f0",
   "metadata": {},
   "outputs": [],
   "source": [
    "lsat = pd.read_csv('data/lsat.csv')"
   ]
  },
  {
   "cell_type": "code",
   "execution_count": null,
   "id": "f039cc22",
   "metadata": {},
   "outputs": [],
   "source": [
    "lsat.head()"
   ]
  },
  {
   "cell_type": "code",
   "execution_count": null,
   "id": "8e52d84f",
   "metadata": {},
   "outputs": [],
   "source": [
    "diff = lsat.PRESCORE - lsat.POSTSCORE\n",
    "diff"
   ]
  },
  {
   "cell_type": "code",
   "execution_count": null,
   "id": "46027714",
   "metadata": {},
   "outputs": [],
   "source": [
    "scs.shapiro(diff)"
   ]
  },
  {
   "cell_type": "code",
   "execution_count": null,
   "id": "851199e1",
   "metadata": {},
   "outputs": [],
   "source": [
    "t_score, p_value = scs.ttest_1samp(diff, popmean=0, alternative='less')\n",
    "print('The test statistics is {}, and the p value is {}.'.format(t_score.round(4), p_value.round(4)))"
   ]
  },
  {
   "cell_type": "markdown",
   "id": "b6e9518d",
   "metadata": {},
   "source": [
    "### Decision\n",
    "\n",
    "In this case, using $\\alpha = 0.05$, \n",
    "\n",
    "1. We reject the null hypothesis.\n",
    "2. Conclude that the course is effective."
   ]
  }
 ],
 "metadata": {
  "kernelspec": {
   "display_name": "stat2255",
   "language": "python",
   "name": "python3"
  },
  "language_info": {
   "codemirror_mode": {
    "name": "ipython",
    "version": 3
   },
   "file_extension": ".py",
   "mimetype": "text/x-python",
   "name": "python",
   "nbconvert_exporter": "python",
   "pygments_lexer": "ipython3",
   "version": "3.12.4"
  }
 },
 "nbformat": 4,
 "nbformat_minor": 5
}
