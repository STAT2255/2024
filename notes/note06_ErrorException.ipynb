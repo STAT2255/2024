{
 "cells": [
  {
   "attachments": {},
   "cell_type": "markdown",
   "metadata": {},
   "source": [
    "# Exceptions\n",
    "\n",
    "> Errors detected during execution are called exceptions. Exception jump out of arbitrarily large chunk of a pragram."
   ]
  },
  {
   "cell_type": "code",
   "execution_count": null,
   "metadata": {},
   "outputs": [],
   "source": [
    "1 / 0"
   ]
  },
  {
   "cell_type": "markdown",
   "metadata": {},
   "source": [
    "## ```raise``` statement\n",
    "\n",
    "* In your code, you can use ```raise``` statement to trigger an exception  manually.\n",
    "\n",
    "  ```python\n",
    "  raise Type_of_Error(\"Message you want to print\")\n",
    "  ```\n",
    "\n",
    "* User-triggered exceptions are caught the same way as those Python raises."
   ]
  },
  {
   "cell_type": "code",
   "execution_count": null,
   "metadata": {},
   "outputs": [],
   "source": [
    "def deposit(d_amount):\n",
    "    if d_amount < 0:\n",
    "        raise ValueError(\"Can not deposit negative money!\")\n",
    "        \n",
    "deposit(-10)"
   ]
  },
  {
   "cell_type": "markdown",
   "metadata": {},
   "source": [
    "## Type of Exceptions\n",
    "Link to: [exception-hierarchy](https://docs.python.org/3/library/exceptions.html#exception-hierarchy)\n",
    "\n",
    "As you see from the above link, those built-in exceptions are all classes. So, what we called after the ```raise``` statements are actually instances of one of the Exception classes. \n"
   ]
  },
  {
   "cell_type": "code",
   "execution_count": null,
   "metadata": {},
   "outputs": [],
   "source": [
    "print(IndexError)"
   ]
  },
  {
   "cell_type": "code",
   "execution_count": null,
   "metadata": {},
   "outputs": [],
   "source": [
    "x = IndexError(\"message\") # Initializing an instance of IndexError class called x, the same as we learn before.\n",
    "x.args                  # It has attrubute args, which is the argument you specified when create the instance"
   ]
  },
  {
   "cell_type": "markdown",
   "metadata": {},
   "source": [
    "## Define your own exceptions class:"
   ]
  },
  {
   "cell_type": "code",
   "execution_count": 4,
   "metadata": {},
   "outputs": [],
   "source": [
    "class My_deposit_Error(Exception):\n",
    "    pass"
   ]
  },
  {
   "cell_type": "code",
   "execution_count": null,
   "metadata": {},
   "outputs": [],
   "source": [
    "def deposit(d_amount):\n",
    "    if d_amount < 0:\n",
    "        raise Exception(\"Can not deposit negative money!\")\n",
    "deposit(-1)"
   ]
  },
  {
   "cell_type": "code",
   "execution_count": null,
   "metadata": {},
   "outputs": [],
   "source": [
    "def deposit(d_amount):\n",
    "    if d_amount < 0:\n",
    "        raise My_deposit_Error(\"Can not deposit negative money!\")\n",
    "deposit(-1)"
   ]
  },
  {
   "attachments": {},
   "cell_type": "markdown",
   "metadata": {},
   "source": [
    "# Default way of handling exception in Python\n",
    "\n",
    "* If not specified, Python's default exception handling is: terminates the running program and prints a standard error message.\n",
    "* The message consists of a stack trace and the name of and details about the exception that was raised.\n",
    "* The stack trace lists all lines active when the exception occurred, from **oldest** to **newest**."
   ]
  },
  {
   "cell_type": "code",
   "execution_count": null,
   "metadata": {},
   "outputs": [],
   "source": [
    "def foo(s):\n",
    "    return 10 / int(s)\n",
    "\n",
    "def bar(s):\n",
    "    return foo(s) * 2\n",
    "\n",
    "def fooo():\n",
    "    bar('1.0')\n",
    "\n",
    "fooo()\n",
    "print(\"end\")"
   ]
  },
  {
   "cell_type": "markdown",
   "metadata": {},
   "source": [
    "* Notice the last ```print(\"end\")``` was not run."
   ]
  },
  {
   "cell_type": "markdown",
   "metadata": {},
   "source": [
    "# Catching Exception\n",
    "\n",
    "For large program, you do not want to terminate the whole pragram due to an error. In this case, what we can do is to catch them.\n",
    "\n",
    "* In factories, it is inevitable to have some sort of **incidents**.\n",
    "  * Usually, there will be some **contingency plans** which tells us how to handle those incidents if happens.\n",
    "  * At the end, we are back to normal.\n",
    "* In our program, if something go wrong, you have **exceptions (like incidents)**.\n",
    "* If you do not want the entire program to be terminated because of them, you \"catch\" those exceptions and go to **exception hanlders (like contigency plans)** that specify what to do if exceptions happen."
   ]
  },
  {
   "cell_type": "code",
   "execution_count": null,
   "metadata": {},
   "outputs": [],
   "source": [
    "def fetcher(L, i):\n",
    "    return L[i]\n",
    "\n",
    "L = [1, 2, 3]\n",
    "# What may cause an exception?\n",
    "fetcher(L, 5)"
   ]
  },
  {
   "cell_type": "code",
   "execution_count": null,
   "metadata": {},
   "outputs": [],
   "source": [
    "def catcher(i):\n",
    "    fetcher(L, i)\n",
    "    print(\"Rest of the codes...\")\n",
    "catcher(4)"
   ]
  },
  {
   "cell_type": "code",
   "execution_count": 15,
   "metadata": {},
   "outputs": [],
   "source": [
    "def catcher(i):\n",
    "    try:\n",
    "        fetcher(L, i)\n",
    "        print(\"In try\")\n",
    "    except IndexError:\n",
    "        print(\"Index Error was catched!\")\n",
    "    print(\"Rest of the codes\")"
   ]
  },
  {
   "cell_type": "code",
   "execution_count": null,
   "metadata": {
    "scrolled": true
   },
   "outputs": [],
   "source": [
    "catcher(1)"
   ]
  },
  {
   "cell_type": "markdown",
   "metadata": {},
   "source": [
    "Notice that after exception is handled, Python resume the program after the ```try```."
   ]
  },
  {
   "cell_type": "markdown",
   "metadata": {},
   "source": [
    "## General syntax of try/catch"
   ]
  },
  {
   "cell_type": "markdown",
   "metadata": {},
   "source": [
    "```python\n",
    "try:\n",
    "    statements # Run this main action first\n",
    "except name1:\n",
    "    statements # Run if name1 is raised during try block\n",
    "except (name2, name3):\n",
    "    statements # Run if any of these exceptions occur\n",
    "except name4 as var:\n",
    "    statements # Run if name4 is raised, assign instance raised to var\n",
    "except:\n",
    "    statements\n",
    "rest of codes\n",
    "```\n",
    "\n",
    "1. Enter into the block nested under the ```try``` statement.\n",
    "2. If an exception occurs while ```try``` block is running, Python jumps to the first ```except``` clause that matches the raised exception and runs the statements under the it.\n",
    "3. empty except clause (with no exception name) matches all (or all other) exceptions."
   ]
  },
  {
   "cell_type": "code",
   "execution_count": null,
   "metadata": {},
   "outputs": [],
   "source": [
    "L = [1, 2, 3, 4]\n",
    "try:\n",
    "    fetcher(L, 9)\n",
    "except NameError:\n",
    "    print(\"got NameError\")\n",
    "except IndexError:\n",
    "    print(\"got IndexError\")\n",
    "except KeyError:\n",
    "    print(\"Got KeyError\")\n",
    "except (AttributeError, TypeError, SyntaxError):\n",
    "    print(\"Got AttributeError, TypeError, or SyntaxError\")\n",
    "except:\n",
    "    print(\"Got other types of error\")\n",
    "print(\"Resume here!\")"
   ]
  },
  {
   "cell_type": "markdown",
   "metadata": {},
   "source": [
    "## except/as\n",
    "\n",
    "- Remember we talked above that each exception are essentially a class.\n",
    "- The ```except``` clause may specify a variable after the exception name.\n",
    "- The variable is bound to an exception object (instance) with the arguments stored in ```instance.args``` attribute.\n",
    "- For more information, read [this](https://docs.python.org/3/tutorial/errors.html#exceptions)."
   ]
  },
  {
   "cell_type": "markdown",
   "metadata": {},
   "source": [
    "## use customized exception"
   ]
  },
  {
   "cell_type": "code",
   "execution_count": 26,
   "metadata": {},
   "outputs": [],
   "source": [
    "class My_deposit_Error(Exception):\n",
    "    def __init__(self, d_amount):\n",
    "        self.amount = d_amount\n",
    "\n",
    "def deposit(d_amount):\n",
    "    if d_amount < 0:\n",
    "        raise My_deposit_Error(\"Trying to deposit {}!\".format(d_amount))"
   ]
  },
  {
   "cell_type": "code",
   "execution_count": null,
   "metadata": {},
   "outputs": [],
   "source": [
    "deposit(-1)"
   ]
  },
  {
   "cell_type": "code",
   "execution_count": null,
   "metadata": {},
   "outputs": [],
   "source": [
    "try:\n",
    "    deposit(-1)\n",
    "except My_deposit_Error as e:\n",
    "    print(\"Trying to deposit {}!\".format(e.amount))"
   ]
  },
  {
   "cell_type": "markdown",
   "metadata": {},
   "source": [
    "## try/except/else\n",
    "\n",
    "- Sometimes, it is possible that the code block under ```try``` was run and no exception was raised.\n",
    "- There is no direct way to tell whether the flow of control has proceeded past a try statement because no exception was raised.\n",
    "- Because of this, we can add ```else``` statement so that if no exception was raised, the block under ```else``` will be run."
   ]
  },
  {
   "cell_type": "code",
   "execution_count": null,
   "metadata": {},
   "outputs": [],
   "source": [
    "L = [1, 2, 3, 4]\n",
    "try:\n",
    "    fetcher(L, 20)\n",
    "except NameError:\n",
    "    print(\"got NameError\")\n",
    "except IndexError:\n",
    "    print(\"got IndexError\")\n",
    "except KeyError:\n",
    "    print(\"Got KeyError\")\n",
    "except (AttributeError, TypeError, SyntaxError):\n",
    "    print(\"Got AttributeError, TypeError, SyntaxError\")\n",
    "except:\n",
    "    print(\"Got other types of error\")\n",
    "else:\n",
    "    print(\"No exception was raised\")"
   ]
  },
  {
   "cell_type": "markdown",
   "metadata": {},
   "source": [
    "## try/finally\n",
    "\n",
    "* Another flavor of the try statement is a specialization that has to do with finalization actions.\n",
    "* If a ```finally``` clause is included in a try:\n",
    "  * An exception occurred in the main action and was handled.\n",
    "  * An exception occurred in the main action and was not handled.\n",
    "  * No exceptions occurred in the main action.\n",
    "```python\n",
    "try:\n",
    "    statements # Run this action first\n",
    "[except:\n",
    "    statements # optional except handler]\n",
    "finally:\n",
    "    statements # Always run this code on the way out\n",
    "```"
   ]
  },
  {
   "cell_type": "code",
   "execution_count": null,
   "metadata": {
    "scrolled": true
   },
   "outputs": [],
   "source": [
    "L = [1, 2, 3]\n",
    "try:\n",
    "    fetcher(L, 1)\n",
    "except IndexError:\n",
    "    print(\"got IndexError\")\n",
    "finally:\n",
    "    print(\"Finally\")"
   ]
  },
  {
   "cell_type": "code",
   "execution_count": null,
   "metadata": {},
   "outputs": [],
   "source": [
    "try:\n",
    "    fetcher(L, 2)\n",
    "finally:\n",
    "    print(\"Finally\")\n",
    "print(\"other codes\")"
   ]
  },
  {
   "cell_type": "code",
   "execution_count": null,
   "metadata": {},
   "outputs": [],
   "source": [
    "try:\n",
    "    fetcher(L, 10)\n",
    "finally:\n",
    "    print(\"Finally\")\n",
    "print(\"other codes\")"
   ]
  },
  {
   "cell_type": "markdown",
   "metadata": {},
   "source": [
    "## Final general syntax\n",
    "\n",
    "\n",
    "### Format 1\n",
    "```python\n",
    "try: \n",
    "    statements\n",
    "except [type [as value]]: \n",
    "    statements\n",
    "[except [type [as value]]:\n",
    "    statements]*\n",
    "[else:\n",
    "    statements] # there must be at least one except if an else appears\n",
    "[finally:\n",
    "statements]\n",
    "```\n",
    "\n",
    "### Format 2\n",
    "```python\n",
    "try: \n",
    "    statements\n",
    "finally:\n",
    "    statements\n",
    "```"
   ]
  }
 ],
 "metadata": {
  "kernelspec": {
   "display_name": "Python 3 (ipykernel)",
   "language": "python",
   "name": "python3"
  },
  "language_info": {
   "codemirror_mode": {
    "name": "ipython",
    "version": 3
   },
   "file_extension": ".py",
   "mimetype": "text/x-python",
   "name": "python",
   "nbconvert_exporter": "python",
   "pygments_lexer": "ipython3",
   "version": "3.12.4"
  }
 },
 "nbformat": 4,
 "nbformat_minor": 4
}
