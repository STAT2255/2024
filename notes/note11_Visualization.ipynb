{
 "cells": [
  {
   "cell_type": "markdown",
   "metadata": {},
   "source": [
    "# matplotlib\n",
    "\n",
    "- `matplotlib` is a desktop plotting package designed for creating (mostly twodimensional) publication-quality plots.\n",
    "- The project was started by John Hunter in 2002 to enable a MATLAB-like plotting interface in Python."
   ]
  },
  {
   "cell_type": "code",
   "execution_count": null,
   "metadata": {},
   "outputs": [],
   "source": [
    "import matplotlib.pyplot as plt\n",
    "import numpy as np"
   ]
  },
  {
   "cell_type": "markdown",
   "metadata": {},
   "source": [
    "## single plot using ```pyplot``` submodule"
   ]
  },
  {
   "cell_type": "code",
   "execution_count": null,
   "metadata": {},
   "outputs": [],
   "source": [
    "x = [1, 2, 3, 4, 5, 6, 7, 8, 9]\n",
    "y = [i**2 for i in x]\n",
    "y"
   ]
  },
  {
   "cell_type": "code",
   "execution_count": null,
   "metadata": {},
   "outputs": [],
   "source": [
    "plt.plot(x, y)"
   ]
  },
  {
   "cell_type": "code",
   "execution_count": null,
   "metadata": {},
   "outputs": [],
   "source": [
    "x = np.arange(1, 10, 1)\n",
    "y = x**2\n",
    "plt.figure(figsize=(8, 4))\n",
    "plt.plot(x, y)"
   ]
  },
  {
   "cell_type": "markdown",
   "metadata": {},
   "source": [
    "### Colors, Markers, and Line Styles\n",
    "\n",
    "Use argument ```linestyle```, ```color```, and ```Markers``` to set different linestyles color and markers"
   ]
  },
  {
   "cell_type": "code",
   "execution_count": null,
   "metadata": {},
   "outputs": [],
   "source": [
    "plt.plot(x, y, linestyle = '--', color = 'g', marker = 'o') # green dashed line with circle marker"
   ]
  },
  {
   "cell_type": "code",
   "execution_count": null,
   "metadata": {},
   "outputs": [],
   "source": [
    "plt.plot(x, y, linestyle = '-.', color = 'c', marker = 'v') # cyan dash-dot line with triangle_down marker"
   ]
  },
  {
   "cell_type": "code",
   "execution_count": null,
   "metadata": {},
   "outputs": [],
   "source": [
    "# help(plt.plot)"
   ]
  },
  {
   "cell_type": "markdown",
   "metadata": {},
   "source": [
    "### add titile and x,y labels, grid"
   ]
  },
  {
   "cell_type": "code",
   "execution_count": null,
   "metadata": {},
   "outputs": [],
   "source": [
    "plt.plot(x, y, linestyle = '--', color = 'r', marker = 'o')\n",
    "plt.title(\"simple plot\")\n",
    "plt.xlabel(\"x label\")\n",
    "plt.ylabel(\"y label\")\n",
    "plt.grid(True)"
   ]
  },
  {
   "cell_type": "markdown",
   "metadata": {},
   "source": [
    "### add legend"
   ]
  },
  {
   "cell_type": "code",
   "execution_count": null,
   "metadata": {},
   "outputs": [],
   "source": [
    "plt.figure(figsize=[8, 4])\n",
    "y1 = x**3\n",
    "plt.plot(x, y, linestyle = '--', color = 'g', marker = 'o', label = 'y, square')\n",
    "plt.plot(x, y1, linestyle = '-', color = 'r', marker = 'v', label = 'y1, cube')\n",
    "plt.title(\"simple plot\")\n",
    "plt.xlabel(\"x label\")\n",
    "plt.ylabel(\"y label\")\n",
    "plt.grid(True)\n",
    "# plt.legend(loc=6)"
   ]
  },
  {
   "cell_type": "code",
   "execution_count": null,
   "metadata": {
    "scrolled": true
   },
   "outputs": [],
   "source": [
    "# help(plt.legend)"
   ]
  },
  {
   "cell_type": "markdown",
   "metadata": {},
   "source": [
    "## multiple plots using ```subplots``` submodule\n",
    "\n",
    "- Everything in Python is an object, and therefore, so is a Matplotlib figure.\n",
    "- In fact, a Matplotlib figure is made up of several objects of different data types.\n",
    "\n",
    "There are three main parts to a Matplotlib figure:\n",
    "\n",
    "* **Figure**:\n",
    "  - This is the whole region of space that’s created when you create any figure.\n",
    "  - The Figure object is the overall object that contains everything else.\n",
    "* **Axes**:\n",
    "  - An Axes object is the object that contains the x-axis and y-axis for a 2D plot.\n",
    "  - Each Axes object corresponds to a plot or a graph.\n",
    "  - You can have more than one Axes object in a Figure, as you’ll see later on in this note.\n",
    "* **Axis**:\n",
    "  - An Axis object contains one of the axes, the x-axis or the y-axis for a 2D plot.\n",
    "\n",
    "![fig1](figures/fig1.png) \n",
    "![fig](figures/fig.webp)\n",
    "\n",
    "The second graph shows 4 Axes objects within same Figure object and they are called **subplots**."
   ]
  },
  {
   "cell_type": "markdown",
   "metadata": {},
   "source": [
    "- Using the **subplot** submodule, we will create Figure and Axes objects and call each object’s methods.\n",
    "- This is the object-oriented programming approach."
   ]
  },
  {
   "cell_type": "code",
   "execution_count": null,
   "metadata": {
    "scrolled": true
   },
   "outputs": [],
   "source": [
    "# help(plt.subplot)"
   ]
  },
  {
   "cell_type": "code",
   "execution_count": null,
   "metadata": {},
   "outputs": [],
   "source": [
    "fig, ax = plt.subplots()"
   ]
  },
  {
   "cell_type": "code",
   "execution_count": null,
   "metadata": {},
   "outputs": [],
   "source": [
    "ax.plot(x, y, linestyle = '--', color = 'g', marker = 'o', label = 'y')\n",
    "ax.plot(x, y1, linestyle = '--', color = 'r', marker = 'v', label = 'y1')\n",
    "ax.set_title(\"simple plot\")\n",
    "ax.set_xlabel(\"x label\")\n",
    "ax.set_ylabel(\"y label\")\n",
    "ax.grid(True)\n",
    "ax.legend()\n",
    "fig"
   ]
  },
  {
   "cell_type": "markdown",
   "metadata": {},
   "source": [
    "### x,y limit\n"
   ]
  },
  {
   "cell_type": "code",
   "execution_count": null,
   "metadata": {},
   "outputs": [],
   "source": [
    "ax.set_xlim([0, 12])\n",
    "ax.set_ylim([0, 1000])\n",
    "fig"
   ]
  },
  {
   "cell_type": "markdown",
   "metadata": {},
   "source": [
    "### x,y ticks and ticklabels\n"
   ]
  },
  {
   "cell_type": "code",
   "execution_count": null,
   "metadata": {},
   "outputs": [],
   "source": [
    "ax.set_xticks([1,3,5,7,9,11])\n",
    "ax.set_xticklabels(['one', 'three', 'five', 'seven', 'nine', 'eleven'])\n",
    "fig"
   ]
  },
  {
   "cell_type": "markdown",
   "metadata": {},
   "source": [
    "Save the figure"
   ]
  },
  {
   "cell_type": "code",
   "execution_count": null,
   "metadata": {},
   "outputs": [],
   "source": [
    "fig, ax = plt.subplots()\n",
    "ax.plot(x, y, linestyle = '--', color = 'g', marker = 'o', label = 'y')\n",
    "ax.plot(x, y1, linestyle = '--', color = 'r', marker = 'v', label = 'y1')\n",
    "ax.set_title(\"simple plot\")\n",
    "ax.set_xlabel(\"x label\")\n",
    "ax.set_ylabel(\"y label\")\n",
    "ax.set_xlim([0, 12])\n",
    "ax.set_ylim([0, 1000])\n",
    "ax.set_xticks([1,3,5,7,9,11])\n",
    "ax.set_xticklabels(['one', 'three', 'five', 'seven', 'nine', 'eleven'])\n",
    "ax.grid(True)\n",
    "ax.legend()\n",
    "fig.savefig('example.png', dpi=400, bbox_inches='tight', facecolor=\"white\")"
   ]
  },
  {
   "cell_type": "code",
   "execution_count": null,
   "metadata": {},
   "outputs": [],
   "source": [
    "fig, axs = plt.subplots(nrows=2, ncols=2, figsize = (8, 5))\n",
    "# plot 1\n",
    "axs[0,0].plot(x,y, linestyle = '--', color = 'g', marker = 'o', label = 'y')\n",
    "axs[0,0].set_xlabel(\"x label\")\n",
    "axs[0,0].set_ylabel(\"y label\")\n",
    "axs[0,0].set_title(\"plot1\")"
   ]
  },
  {
   "cell_type": "code",
   "execution_count": null,
   "metadata": {},
   "outputs": [],
   "source": [
    "# histogram\n",
    "axs[1,1].hist(np.random.randn(500))\n",
    "axs[1,1].set_xlabel(\"x label\")\n",
    "axs[1,1].set_ylabel(\"y label\")\n",
    "axs[1,1].set_title(\"histogram\")\n",
    "fig"
   ]
  },
  {
   "cell_type": "code",
   "execution_count": null,
   "metadata": {},
   "outputs": [],
   "source": [
    "# boxplot\n",
    "axs[0,1].boxplot(y1)\n",
    "axs[0,1].set_xlabel(\"x label\")\n",
    "axs[0,1].set_ylabel(\"y label\")\n",
    "axs[0,1].set_title(\"boxplot\")\n",
    "fig"
   ]
  },
  {
   "cell_type": "code",
   "execution_count": null,
   "metadata": {},
   "outputs": [],
   "source": [
    "# barplot\n",
    "axs[1,0].bar(['a', 'b', 'c', 'd', 'e', 'f', 'g', 'h', 'i'], y)\n",
    "axs[1,0].set_xlabel(\"x label\")\n",
    "axs[1,0].set_ylabel(\"y label\")\n",
    "axs[1,0].set_title(\"bar plot\")\n",
    "fig"
   ]
  },
  {
   "cell_type": "code",
   "execution_count": null,
   "metadata": {},
   "outputs": [],
   "source": [
    "fig, axs = plt.subplots(1, 2, figsize = (10, 5))\n",
    "# plot 1\n",
    "axs1 = axs[0]\n",
    "axs1.plot(x, y, linestyle = '--', color = 'g', marker = 'o', label = 'y')\n",
    "axs1.set_xlabel(\"x\")\n",
    "axs1.set_ylabel(\"y\")\n",
    "axs1.set_title(\"x square\")\n",
    "# plot 2\n",
    "axs2 = axs[1]\n",
    "axs2.plot(x, y1, linestyle = '--', color = 'r', marker = 'v', label = 'y1')\n",
    "axs2.set_xlabel(\"x\")\n",
    "axs2.set_ylabel(\"y1\")\n",
    "axs2.set_title(\"x cube\")"
   ]
  },
  {
   "cell_type": "markdown",
   "metadata": {},
   "source": [
    "Use the `sharey` option to link the y-axis."
   ]
  },
  {
   "cell_type": "code",
   "execution_count": null,
   "metadata": {},
   "outputs": [],
   "source": [
    "fig, axs = plt.subplots(1, 2, figsize = (6, 5), sharey=True)\n",
    "# plot 1\n",
    "axs1 = axs[0]\n",
    "axs1.plot(x, y, linestyle = '--', color = 'g', marker = 'o', label = 'y')\n",
    "axs1.set_xlabel(\"x\")\n",
    "axs1.set_ylabel(\"y\")\n",
    "axs1.set_title(\"x square\")\n",
    "# plot 2\n",
    "axs2 = axs[1]\n",
    "axs2.plot(x, y1, linestyle = '--', color = 'r', marker = 'v', label = 'y1')\n",
    "axs2.set_xlabel(\"x\")\n",
    "axs2.set_ylabel(\"y1\")\n",
    "axs2.set_title(\"x cube\")\n",
    "fig.legend()"
   ]
  },
  {
   "cell_type": "code",
   "execution_count": null,
   "metadata": {},
   "outputs": [],
   "source": [
    "#help(plt.savefig)"
   ]
  },
  {
   "cell_type": "markdown",
   "metadata": {},
   "source": [
    "# pandas"
   ]
  },
  {
   "cell_type": "code",
   "execution_count": null,
   "metadata": {},
   "outputs": [],
   "source": [
    "import pandas as pd\n",
    "df = pd.read_csv(\"data/table.csv\", index_col=\"ID\")\n",
    "df.head()"
   ]
  },
  {
   "cell_type": "markdown",
   "metadata": {},
   "source": [
    "## lineplot"
   ]
  },
  {
   "cell_type": "code",
   "execution_count": null,
   "metadata": {},
   "outputs": [],
   "source": [
    "df['Height'].plot() # The Series object’s index is passed to matplotlib for plotting on the x-axis"
   ]
  },
  {
   "cell_type": "code",
   "execution_count": null,
   "metadata": {},
   "outputs": [],
   "source": [
    "df[['Height', 'Weight', 'Math']].plot(kind='hist')"
   ]
  },
  {
   "cell_type": "code",
   "execution_count": null,
   "metadata": {},
   "outputs": [],
   "source": [
    "df[['Height', 'Weight', 'Math']].plot() # The Series object’s index is passed to matplotlib for plotting on the x-axis"
   ]
  },
  {
   "cell_type": "markdown",
   "metadata": {},
   "source": [
    "### additional arguments\n",
    "\n",
    "![additional arguments](figures/lineplot_arg.png)"
   ]
  },
  {
   "cell_type": "markdown",
   "metadata": {},
   "source": [
    "## barplot\n",
    "\n",
    "For categorical data, one common visualization is barplot.\n",
    "\n",
    "barplot can be generated using ```df.plot.bar()``` method (horizontal version can be generated using ```df.plot.barh()```."
   ]
  },
  {
   "cell_type": "code",
   "execution_count": null,
   "metadata": {},
   "outputs": [],
   "source": [
    "df.groupby('School').size()"
   ]
  },
  {
   "cell_type": "code",
   "execution_count": null,
   "metadata": {},
   "outputs": [],
   "source": [
    "fig, axs = plt.subplots(2, 2, figsize = (8, 6))\n",
    "# School\n",
    "df.groupby([\"School\"]).size().plot(ax = axs[0,0], rot=0, kind='bar')\n",
    "axs[0,0].set_title(\"Bar plot for School\")\n",
    "# Class\n",
    "df.groupby([\"Class\"]).size().plot.bar(ax = axs[0,1])\n",
    "axs[0,1].set_title(\"Bar plot for Class\")\n",
    "# Gender\n",
    "df.groupby([\"Gender\"]).size().plot.barh(ax = axs[1, 0])\n",
    "axs[1,0].set_title(\"Bar plot for Gender\")\n",
    "# Physics\n",
    "df.groupby([\"Physics\"]).size().plot.bar(ax = axs[1, 1], rot = 90)\n",
    "axs[1,1].set_title(\"Bar plot for Physics\")\n",
    "\n",
    "plt.subplots_adjust(wspace = 0.4, hspace=0.4)"
   ]
  },
  {
   "cell_type": "code",
   "execution_count": null,
   "metadata": {},
   "outputs": [],
   "source": [
    "class_gender = pd.crosstab(columns = df[\"Class\"], index=df[\"Gender\"])\n",
    "class_gender"
   ]
  },
  {
   "cell_type": "code",
   "execution_count": null,
   "metadata": {},
   "outputs": [],
   "source": [
    "class_gender.plot.bar(rot=0)"
   ]
  },
  {
   "cell_type": "code",
   "execution_count": null,
   "metadata": {},
   "outputs": [],
   "source": [
    "class_gender.plot.bar(stacked=True)"
   ]
  },
  {
   "cell_type": "markdown",
   "metadata": {},
   "source": [
    "## Histogram and Density Plots\n",
    "\n",
    "For numeric data, histogram allows us to see the distribution (center shape, skewness) of the data.\n",
    "\n",
    "histogram can be generated using ```df.plot.hist()``` method .\n"
   ]
  },
  {
   "cell_type": "code",
   "execution_count": null,
   "metadata": {},
   "outputs": [],
   "source": [
    "df[\"Math\"].plot.hist(bins = 10, figsize=(10, 6))"
   ]
  },
  {
   "cell_type": "code",
   "execution_count": null,
   "metadata": {},
   "outputs": [],
   "source": [
    "df[\"Math\"].plot.density()"
   ]
  },
  {
   "cell_type": "markdown",
   "metadata": {},
   "source": [
    "## Scatter  Plots\n",
    "\n",
    "When dealing with 2 variables, scatter plot allow us to examine if there is any correlation between them.\n",
    "\n",
    "Scatter can be generated using ```df.plot.scatter(x = col1, y = col2)``` method."
   ]
  },
  {
   "cell_type": "code",
   "execution_count": null,
   "metadata": {},
   "outputs": [],
   "source": [
    "df.plot.scatter(x=\"Weight\", y=\"Height\", figsize=(10,8))"
   ]
  },
  {
   "cell_type": "markdown",
   "metadata": {},
   "source": [
    "# seaborn"
   ]
  },
  {
   "cell_type": "code",
   "execution_count": null,
   "metadata": {},
   "outputs": [],
   "source": [
    "import seaborn as sns"
   ]
  },
  {
   "cell_type": "markdown",
   "metadata": {},
   "source": [
    "## histogram and density plot"
   ]
  },
  {
   "cell_type": "code",
   "execution_count": null,
   "metadata": {},
   "outputs": [],
   "source": [
    "#help(sns.histplot)"
   ]
  },
  {
   "cell_type": "code",
   "execution_count": null,
   "metadata": {},
   "outputs": [],
   "source": [
    "plt.figure(figsize = (10, 8))\n",
    "sns.histplot(df['Math'], bins=10, kde = True) # kde stands for kernel density estimate line"
   ]
  },
  {
   "cell_type": "markdown",
   "metadata": {},
   "source": [
    "## scatter plot with regression line"
   ]
  },
  {
   "cell_type": "code",
   "execution_count": null,
   "metadata": {},
   "outputs": [],
   "source": [
    "#help(sns.regplot)"
   ]
  },
  {
   "cell_type": "code",
   "execution_count": null,
   "metadata": {},
   "outputs": [],
   "source": [
    "plt.figure(figsize = (10, 8))\n",
    "sns.regplot(x='Weight', y='Height', data=df)"
   ]
  },
  {
   "cell_type": "markdown",
   "metadata": {},
   "source": [
    "## Facet Grids and Categorical Data\n"
   ]
  },
  {
   "cell_type": "code",
   "execution_count": null,
   "metadata": {
    "scrolled": true
   },
   "outputs": [],
   "source": [
    "help(sns.catplot)"
   ]
  },
  {
   "cell_type": "markdown",
   "metadata": {},
   "source": [
    "### barplot"
   ]
  },
  {
   "cell_type": "code",
   "execution_count": null,
   "metadata": {},
   "outputs": [],
   "source": [
    "sns.catplot(x='Class', hue='Gender', col='Physics', kind='count', data=df, height = 10)"
   ]
  },
  {
   "cell_type": "code",
   "execution_count": null,
   "metadata": {},
   "outputs": [],
   "source": [
    "sns.catplot(x='Class', hue='Gender', col='Physics', kind='count', data=df, height = 10, col_wrap=3)"
   ]
  },
  {
   "cell_type": "markdown",
   "metadata": {},
   "source": [
    "### boxplot"
   ]
  },
  {
   "cell_type": "code",
   "execution_count": null,
   "metadata": {},
   "outputs": [],
   "source": [
    "sns.catplot(x='Gender', y='Math', col='School', data=df, kind='box', height = 10)"
   ]
  },
  {
   "cell_type": "markdown",
   "metadata": {},
   "source": [
    "### histogram"
   ]
  },
  {
   "cell_type": "code",
   "execution_count": null,
   "metadata": {},
   "outputs": [],
   "source": [
    "df.groupby(['School', 'Gender']).size()"
   ]
  },
  {
   "cell_type": "code",
   "execution_count": null,
   "metadata": {},
   "outputs": [],
   "source": [
    "g = sns.FacetGrid(df, col=\"School\",  row=\"Gender\", height = 4) # split"
   ]
  },
  {
   "cell_type": "code",
   "execution_count": null,
   "metadata": {},
   "outputs": [],
   "source": [
    "g = sns.FacetGrid(df, col=\"School\",  row=\"Gender\", height = 4) # split\n",
    "g.map_dataframe(sns.histplot, x=\"Height\", bins = 5)"
   ]
  }
 ],
 "metadata": {
  "kernelspec": {
   "display_name": "stat2255",
   "language": "python",
   "name": "python3"
  },
  "language_info": {
   "codemirror_mode": {
    "name": "ipython",
    "version": 3
   },
   "file_extension": ".py",
   "mimetype": "text/x-python",
   "name": "python",
   "nbconvert_exporter": "python",
   "pygments_lexer": "ipython3",
   "version": "3.12.4"
  }
 },
 "nbformat": 4,
 "nbformat_minor": 4
}
