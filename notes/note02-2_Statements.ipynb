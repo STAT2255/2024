{
 "cells": [
  {
   "cell_type": "code",
   "execution_count": 1,
   "metadata": {
    "jupyter": {
     "source_hidden": true
    }
   },
   "outputs": [],
   "source": [
    "# Some configuations\n",
    "# This cell defines a magic command to ensure that the script doesn't stop due\n",
    "# to any error arising in that cell.\n",
    "from IPython.core.magic import register_cell_magic\n",
    "@register_cell_magic('handle')\n",
    "def handle(line, cell):\n",
    "    try:\n",
    "#         exec(cell)  # doesn't return the cell output though\n",
    "        return eval(cell)\n",
    "    except Exception as exc:\n",
    "        print(f\"\\033[1;31m{exc.__class__.__name__} : \\033[1;31;47m{exc}\\033[0m\")\n",
    "        # raise # if you want the full trace-back in the notebook"
   ]
  },
  {
   "attachments": {},
   "cell_type": "markdown",
   "metadata": {},
   "source": [
    "# Overall Picture \n",
    "```\n",
    "Programs                           \n",
    " └──Modules                                                     \n",
    "     └──Statements                                \n",
    "         └──Expressions\n",
    "```\n",
    "\n",
    "- Programs \"do things with stuffs\".\n",
    "- **Statements** are the ways you specify what sort of things a program does.\n",
    "- They use and direct expressions to process the objects we studied in the preceding chapters\n",
    "\n",
    "```\n",
    "Statements\n",
    "       ├──Assignment Statements\n",
    "       ├──Prints\n",
    "       ├──Control Flows\n",
    "       └──Function\n",
    "```        \n",
    "\n",
    "## Assignment Statements\n",
    "\n",
    "* Assignment Statements is done by using the equality sign `=`.\n",
    "* The target (variable) of an assignment on the left of the equals sign, and the object to be assigned on the right.\n",
    "* A variable (i.e., name), like `a`, is created when your code first assigns it a value. Future assignments change the value of the already created name."
   ]
  },
  {
   "cell_type": "code",
   "execution_count": 2,
   "metadata": {},
   "outputs": [],
   "source": [
    "a = 3 + 3"
   ]
  },
  {
   "attachments": {},
   "cell_type": "markdown",
   "metadata": {},
   "source": [
    "### Reference\n",
    "\n",
    "The assignment statements create \"links\" to **objects**(numeric, `3`) and store them in vairables (`a`). These links are called **references**.\n",
    "\n",
    "* Each time you generate a new value by running an expression, Python creates a new **object** (i.e., a chunk of memory) to represent that value.\n",
    "* **Variables** can be thought as the names for objects\n",
    "* **Reference** is the link that point to the physical address of the object stored in memory.\n",
    "\n",
    "![reference](figures/reference.png)"
   ]
  },
  {
   "cell_type": "code",
   "execution_count": null,
   "metadata": {},
   "outputs": [],
   "source": [
    "a"
   ]
  },
  {
   "cell_type": "code",
   "execution_count": null,
   "metadata": {},
   "outputs": [],
   "source": [
    "hex(id(a)) # address that used to store `a`"
   ]
  },
  {
   "cell_type": "markdown",
   "metadata": {},
   "source": [
    "> Variables have **no** types. Types live with objects. "
   ]
  },
  {
   "cell_type": "code",
   "execution_count": null,
   "metadata": {},
   "outputs": [],
   "source": [
    "a = 3\n",
    "print(type(a))\n",
    "a = 'spam'\n",
    "print(type(a))\n",
    "a = 1.23\n",
    "print(type(a))"
   ]
  },
  {
   "cell_type": "markdown",
   "metadata": {},
   "source": [
    "* In the above example, variable `a` was assigned to different values multiple times, e.g. start out as an integer, then a string, and finally a floating-point number.\n",
    "* In the above example, it is not the type of `a` that was changed (actually, variable has not type).\n",
    "* What really happened is `a` references (points) to different objects."
   ]
  },
  {
   "cell_type": "markdown",
   "metadata": {},
   "source": [
    "### Shared reference\n"
   ]
  },
  {
   "cell_type": "code",
   "execution_count": 4,
   "metadata": {},
   "outputs": [],
   "source": [
    "a = 3\n",
    "b = a"
   ]
  },
  {
   "cell_type": "code",
   "execution_count": null,
   "metadata": {},
   "outputs": [],
   "source": [
    "hex(id(a))"
   ]
  },
  {
   "cell_type": "code",
   "execution_count": null,
   "metadata": {},
   "outputs": [],
   "source": [
    "hex(id(b))"
   ]
  },
  {
   "cell_type": "code",
   "execution_count": null,
   "metadata": {},
   "outputs": [],
   "source": [
    "a = 9\n",
    "b = a\n",
    "a"
   ]
  },
  {
   "cell_type": "code",
   "execution_count": 20,
   "metadata": {},
   "outputs": [],
   "source": [
    "a = 0"
   ]
  },
  {
   "cell_type": "code",
   "execution_count": null,
   "metadata": {},
   "outputs": [],
   "source": [
    "a, b"
   ]
  },
  {
   "cell_type": "code",
   "execution_count": null,
   "metadata": {},
   "outputs": [],
   "source": [
    "a = [1, 2]\n",
    "b = a\n",
    "a, b"
   ]
  },
  {
   "cell_type": "code",
   "execution_count": null,
   "metadata": {},
   "outputs": [],
   "source": [
    "a[0] = 100\n",
    "a, b"
   ]
  },
  {
   "cell_type": "markdown",
   "metadata": {},
   "source": [
    "In the above example\n",
    "* Create variable `a` and reference to integer 3.\n",
    "* `a` first eveluated to the object (3) it references to, then `b` is assigned to that object.\n",
    "![reference](figures/share_reference.png)"
   ]
  },
  {
   "cell_type": "code",
   "execution_count": 11,
   "metadata": {},
   "outputs": [],
   "source": [
    "a = 3\n",
    "b = a\n",
    "a = a + 2"
   ]
  },
  {
   "cell_type": "code",
   "execution_count": null,
   "metadata": {},
   "outputs": [],
   "source": [
    "hex(id(a))"
   ]
  },
  {
   "cell_type": "code",
   "execution_count": null,
   "metadata": {},
   "outputs": [],
   "source": [
    "hex(id(b))"
   ]
  },
  {
   "cell_type": "markdown",
   "metadata": {},
   "source": [
    "### Shared References and In-Place Changes\n",
    "\n",
    "Remember that items in mutable objects (e.g. lists, dictionaries, sets) can be changed. This can be tricky when work with shared reference"
   ]
  },
  {
   "cell_type": "code",
   "execution_count": 1,
   "metadata": {},
   "outputs": [],
   "source": [
    "a = [1, 2, 3]\n",
    "b = a\n",
    "a[0] = 5\n",
    "# what will `b` eveluate to?"
   ]
  },
  {
   "cell_type": "code",
   "execution_count": null,
   "metadata": {},
   "outputs": [],
   "source": [
    "b"
   ]
  },
  {
   "cell_type": "markdown",
   "metadata": {},
   "source": [
    "Again, the reason is we did not change `a` itself. What's changed is a component of the object (list) that `a` references to."
   ]
  },
  {
   "cell_type": "markdown",
   "metadata": {},
   "source": [
    "### Shared References and Equality"
   ]
  },
  {
   "cell_type": "code",
   "execution_count": 3,
   "metadata": {},
   "outputs": [],
   "source": [
    "L = [1, 2, 3]\n",
    "M = [1, 2, 3]"
   ]
  },
  {
   "cell_type": "code",
   "execution_count": null,
   "metadata": {},
   "outputs": [],
   "source": [
    "L == M"
   ]
  },
  {
   "cell_type": "code",
   "execution_count": null,
   "metadata": {},
   "outputs": [],
   "source": [
    "L is M"
   ]
  },
  {
   "cell_type": "code",
   "execution_count": null,
   "metadata": {},
   "outputs": [],
   "source": [
    "a = b = [1, 2]\n",
    "a == b\n",
    "a is b"
   ]
  },
  {
   "cell_type": "markdown",
   "metadata": {},
   "source": [
    "* The`==` operator, tests whether the two referenced objects have the same **values**.\n",
    "* The `is` operator, instead tests for object identity.\n",
    "  * It returns True only if both names point to the exact same object.\n",
    "  * It is a much stronger form of equality testing and is rarely applied in most programs"
   ]
  },
  {
   "cell_type": "code",
   "execution_count": null,
   "metadata": {},
   "outputs": [],
   "source": [
    "hex(id(L))"
   ]
  },
  {
   "cell_type": "code",
   "execution_count": null,
   "metadata": {},
   "outputs": [],
   "source": [
    "hex(id(M))"
   ]
  },
  {
   "cell_type": "code",
   "execution_count": null,
   "metadata": {},
   "outputs": [],
   "source": [
    "L = [1, 2, 3]\n",
    "M = L\n",
    "L is M"
   ]
  },
  {
   "cell_type": "markdown",
   "metadata": {},
   "source": [
    "### Assignment Statement Forms"
   ]
  },
  {
   "cell_type": "code",
   "execution_count": null,
   "metadata": {},
   "outputs": [],
   "source": [
    "spam = 'Spam' # Basic form\n",
    "spam, ham = 'yum', 'YUM' # Tuple assignment (positional)\n",
    "ham"
   ]
  },
  {
   "cell_type": "code",
   "execution_count": null,
   "metadata": {},
   "outputs": [],
   "source": [
    "a, b, c, d = 'spam' # Sequence assignment, generalized\n",
    "hex(id(a)), hex(id(b))"
   ]
  },
  {
   "cell_type": "code",
   "execution_count": 40,
   "metadata": {},
   "outputs": [],
   "source": [
    "spam = 'Spam' # Basic form\n",
    "spam, ham = 'yum', 'YUM' # Tuple assignment (positional)\n",
    "[spam, ham] = ['yum', 'YUM'] # List assignment (positional)\n",
    "a, b, c, d = 'spam' # Sequence assignment, generalized\n",
    "spam = ham = 'lunch' # Multiple-target assignment\n",
    "spam = 1\n",
    "spam += 42 # Augmented assignment (equivalent to spams = spams + 42)\n",
    "spam = spam + 42"
   ]
  },
  {
   "cell_type": "markdown",
   "metadata": {},
   "source": [
    "### Variable Name Rules\n",
    "\n",
    "* Variable names must start with an underscore or letter, which can be followed by any number of letters, digits, or underscores.\n",
    "* Case sensitive.\n",
    "* Avoid using same name that have special meaning in Python language (e.g. \"False\", \"and\", etc)."
   ]
  },
  {
   "cell_type": "markdown",
   "metadata": {},
   "source": [
    "## Prints\n",
    "\n",
    "`print([object, ...][, sep=' '][, end='\\n'][, file=sys.stdout][, flush=False])`\n",
    "* `sep` is string inserted between each object's text.\n",
    "* `end` is string added at the end of the printed text.\n",
    "* print statement return \"None\" type."
   ]
  },
  {
   "cell_type": "code",
   "execution_count": null,
   "metadata": {},
   "outputs": [],
   "source": [
    "x = 'spam'\n",
    "y = 123\n",
    "z = ['eggs']\n",
    "print(x)"
   ]
  },
  {
   "cell_type": "code",
   "execution_count": null,
   "metadata": {},
   "outputs": [],
   "source": [
    "print(x, y, z)"
   ]
  },
  {
   "cell_type": "code",
   "execution_count": null,
   "metadata": {},
   "outputs": [],
   "source": [
    "print(x, y, z, sep = \":\", end = \"!\")"
   ]
  },
  {
   "cell_type": "code",
   "execution_count": null,
   "metadata": {},
   "outputs": [],
   "source": [
    "a = print(x, y, z, sep = \":\", end = \"!\")"
   ]
  },
  {
   "cell_type": "code",
   "execution_count": null,
   "metadata": {},
   "outputs": [],
   "source": [
    "print(a)"
   ]
  },
  {
   "attachments": {},
   "cell_type": "markdown",
   "metadata": {},
   "source": [
    "## Control Flows\n",
    "\n",
    "- When we have multiple statements, by default, Python runs statements in a file or nested block in order from first to last as a\n",
    "sequence.\n",
    "- If we want to change the order, we can use **control flow**. \n",
    "  - Control flow refers to the commands in a language that affect the order in which operations are executed.\n",
    "  - Control flows is also statement, but they usually consists of compound statements.\n",
    "\n",
    "### `if` Statements\n",
    "<!-- 1. `if` test\n",
    "2. `elif` tests (optional)\n",
    "3. `else` (optinal) -->\n",
    "\n",
    "```python\n",
    "if test1(Boolean):   # if test\n",
    "    statement1 \n",
    "elif test2(Boolean): # Optional elifs\n",
    "    statement2\n",
    "else:       # final else   \n",
    "    statement3\n",
    "```\n",
    "- Because of the `if` statement, our codes are not run in sequence.\n",
    "- Which statement to run depends which test is eveluated to True.\n",
    "- If none of them is True, then we run the statement associated to `else`."
   ]
  },
  {
   "cell_type": "code",
   "execution_count": null,
   "metadata": {},
   "outputs": [],
   "source": [
    "a = -0\n",
    "if a < 0:\n",
    "    print(\"a is negative.\")\n",
    "elif a > 0:\n",
    "    print(\"a is positive.\")\n",
    "else:\n",
    "    print(\"a is 0.\")"
   ]
  },
  {
   "cell_type": "markdown",
   "metadata": {},
   "source": [
    "* Any nonzero number or nonempty object is True.\n",
    "* Zero numbers, empty objects, and the special object \"None\" are considered False."
   ]
  },
  {
   "cell_type": "code",
   "execution_count": null,
   "metadata": {},
   "outputs": [],
   "source": [
    "if 1:\n",
    "    print(\"True\")\n",
    "else:\n",
    "    print(\"False\")\n",
    "    "
   ]
  },
  {
   "cell_type": "code",
   "execution_count": null,
   "metadata": {},
   "outputs": [],
   "source": [
    "if []:\n",
    "    print(\"True\")\n",
    "else:\n",
    "    print(\"False\")"
   ]
  },
  {
   "attachments": {},
   "cell_type": "markdown",
   "metadata": {},
   "source": [
    "### Compound statements\n",
    "- Compound statements are statements that have other statements nested inside them.\n",
    "- Compound statements follow\n",
    "the same general pattern of a header line terminated in a colon, followed by a nested block of code usually indented underneath the header line, like this:\n",
    "```\n",
    "Header line:\n",
    "    Nested statement block\n",
    "```\n",
    "- For indentation, you can choose \"spaces\" or \"tab\".\n",
    "- Once you make the decision, you should use it consistently.\n",
    "- It is **not** recommanded to mix these two.\n",
    "- If your codes contain multiple blocks, Python detects block boundaries automatically, by line indentation. \n",
    "- All statements indented the same distance to the right belong to the same block of code."
   ]
  },
  {
   "cell_type": "code",
   "execution_count": null,
   "metadata": {},
   "outputs": [],
   "source": [
    "x = 1 # top-level block not indented.\n",
    "if x > 0:\n",
    "    y = -2 # second-level block\n",
    "    if y > 1:\n",
    "        print('block2') # third-level block\n",
    "    print('block1') # second-level block\n",
    "print('block0') # top-level block"
   ]
  },
  {
   "cell_type": "markdown",
   "metadata": {},
   "source": [
    "![block_boundary](figures/block_boundary.png)"
   ]
  },
  {
   "attachments": {},
   "cell_type": "markdown",
   "metadata": {},
   "source": [
    "### `while` and `for` Loops\n",
    "When we want statements that repeat an action over and over, `while` and `for` loops can be useful.\n",
    "* The `while` statement, provides a way to code general loops.\n",
    "* the `for` statement, is designed for stepping through the items in a sequence or other iterable object and running a block of code for each.\n",
    "\n",
    "### `while` Loops\n",
    "\n",
    "* `while` loops repeatedly executes a block of (normally indented) statements as long as a test at the top keeps evaluating to a true value.\n",
    "* When the test becomes false, control passes to the statement that follows the `while` block.\n",
    "\n",
    "```python\n",
    "while test (Boolean):\n",
    "    statements\n",
    "```"
   ]
  },
  {
   "cell_type": "code",
   "execution_count": null,
   "metadata": {},
   "outputs": [],
   "source": [
    "x = 5\n",
    "while x > 0:\n",
    "    print(x)\n",
    "    x -= 1"
   ]
  },
  {
   "attachments": {},
   "cell_type": "markdown",
   "metadata": {},
   "source": [
    "### `for` Loops\n",
    "\n",
    "* The `for` loop is a generic iterator in Python: it can step through the items in any ordered sequence or other iterable object, e.g. strings, lists, tuples.\n",
    "\n",
    "* When Python runs a `for` loop, it assigns the items in the iterable object to the target one by one and executes the loop body `for` each item.\n",
    "```python\n",
    "for item in collection:\n",
    "    statements (involving or not involving item) \n",
    "```"
   ]
  },
  {
   "cell_type": "code",
   "execution_count": null,
   "metadata": {},
   "outputs": [],
   "source": [
    "for x in [\"spam\", \"eggs\", \"ham\"]:\n",
    "    print(x, end=' ')"
   ]
  },
  {
   "cell_type": "code",
   "execution_count": null,
   "metadata": {},
   "outputs": [],
   "source": [
    "sum = 0\n",
    "for x in range(15):\n",
    "    sum = sum + x\n",
    "sum"
   ]
  },
  {
   "cell_type": "code",
   "execution_count": null,
   "metadata": {},
   "outputs": [],
   "source": [
    "T = [(1, 2), (3, 4), (5, 6)]\n",
    "for i in T: \n",
    "    print(i)"
   ]
  },
  {
   "cell_type": "code",
   "execution_count": null,
   "metadata": {},
   "outputs": [],
   "source": [
    "T = [(1, 2), (3, 4), (5, 6)]\n",
    "for (a, b) in T: \n",
    "    print(a + b)"
   ]
  },
  {
   "cell_type": "code",
   "execution_count": null,
   "metadata": {},
   "outputs": [],
   "source": [
    "D = {'a': 1, 'b': 2, 'c': 3}\n",
    "for (key, values) in D.items():\n",
    "    print(key, \"=>\", values)"
   ]
  },
  {
   "cell_type": "code",
   "execution_count": null,
   "metadata": {},
   "outputs": [],
   "source": [
    "D1 = {'b': 2, 'a': 1, 'c': 3}\n",
    "print(D == D1, D is D1)\n",
    "for (key, values) in D1.items():\n",
    "    print(key, \"=>\", values)"
   ]
  },
  {
   "cell_type": "markdown",
   "metadata": {},
   "source": [
    "### `break`, `continue`, and `pass`\n",
    "* `break`: Cause immediate exist from the closest enclosing loop. (skip the loop after).\n",
    "* `continue`: Jumps to the top of the closest enclosing loop (to the loop’s header line).\n",
    "* `pass`: Does nothing at all: it’s an empty statement placeholder (we will talk about this later)."
   ]
  },
  {
   "cell_type": "code",
   "execution_count": null,
   "metadata": {},
   "outputs": [],
   "source": [
    "n = 9\n",
    "while n > 0:\n",
    "    if 10 % n == 0:\n",
    "        print(\"Largest divisor of 10 is\", n)\n",
    "        break\n",
    "    n -= 1\n",
    "n"
   ]
  },
  {
   "cell_type": "code",
   "execution_count": null,
   "metadata": {},
   "outputs": [],
   "source": [
    "for i in range(3):\n",
    "    print(i)\n",
    "    for j in range(5):\n",
    "        print(j, end=' ')\n",
    "        if j > 2: \n",
    "            print(' ')\n",
    "            break"
   ]
  },
  {
   "cell_type": "code",
   "execution_count": null,
   "metadata": {},
   "outputs": [],
   "source": [
    "for i in range(-10, 11):\n",
    "    if i % 2 == 0:\n",
    "        continue\n",
    "    print(i)"
   ]
  },
  {
   "cell_type": "code",
   "execution_count": null,
   "metadata": {},
   "outputs": [],
   "source": [
    "L = [2, 3, 1, 1, 1]\n",
    "L\n",
    "# How can you add 0.5 to every item in list L?"
   ]
  },
  {
   "cell_type": "code",
   "execution_count": null,
   "metadata": {},
   "outputs": [],
   "source": [
    "for i in range(len(L)):\n",
    "    L[i] += 0.5\n",
    "L"
   ]
  },
  {
   "cell_type": "code",
   "execution_count": null,
   "metadata": {},
   "outputs": [],
   "source": [
    "L = [2, 3, 1, 1, 1]\n",
    "for i, v in enumerate(L):\n",
    "    L[i] += 0.5\n",
    "L"
   ]
  },
  {
   "cell_type": "markdown",
   "metadata": {},
   "source": [
    "## Functions\n",
    "A device that groups a set of statements so they can be run more than once in a program.\n",
    "\n",
    "```python\n",
    "def func(arg1, arg2, ..., argn):\n",
    "    # Do stuffs with args\n",
    "    # Eventually, return a value:\n",
    "    return # Something\n",
    "```\n",
    "\n",
    "* `def` creates an object (function) and assigns it to a name, think about this as \"=\" when we create a variable.\n",
    "* `return` sends a result object back to the caller.\n",
    "* To set a default value for arg, use \"argn=default_value\".\n",
    "* If no `return`, function return \"None\"."
   ]
  },
  {
   "cell_type": "code",
   "execution_count": 16,
   "metadata": {},
   "outputs": [],
   "source": [
    "# define a function\n",
    "def factorial_func(x):\n",
    "    fact_value = 1\n",
    "    for i in range(1, x+1):\n",
    "        fact_value *= i\n",
    "    return fact_value"
   ]
  },
  {
   "cell_type": "code",
   "execution_count": null,
   "metadata": {},
   "outputs": [],
   "source": [
    "# call the function with argument\n",
    "factorial_func(4)"
   ]
  },
  {
   "cell_type": "markdown",
   "metadata": {},
   "source": [
    "* When we define a function, we create an object (function) that stored somewhere in our system, which is referenced by the name (factorial_func).\n",
    "* Calling the function is an expression that tells Python to run the body of the function.\n",
    "* Variables that defined in function are only visible to codes inside the function."
   ]
  },
  {
   "cell_type": "code",
   "execution_count": null,
   "metadata": {},
   "outputs": [],
   "source": [
    "x = 100\n",
    "\n",
    "def print_func():\n",
    "    # x = 88\n",
    "    print(x)\n",
    "    \n",
    "print_func()\n",
    "print(x)"
   ]
  },
  {
   "attachments": {},
   "cell_type": "markdown",
   "metadata": {},
   "source": [
    "### Argument Matching Basics\n",
    "\n",
    "A function may have multiple arguments."
   ]
  },
  {
   "cell_type": "code",
   "execution_count": 30,
   "metadata": {},
   "outputs": [],
   "source": [
    "def sum_func(a, b, c, d):\n",
    "    print(\"a =>\", a)\n",
    "    print(\"b =>\", b)\n",
    "    print(\"c =>\", c)\n",
    "    print(\"d =>\", d)"
   ]
  },
  {
   "attachments": {},
   "cell_type": "markdown",
   "metadata": {},
   "source": [
    "#### Positionals: matched from left to right"
   ]
  },
  {
   "cell_type": "code",
   "execution_count": null,
   "metadata": {},
   "outputs": [],
   "source": [
    "sum_func(1, 2, 3, 4)"
   ]
  },
  {
   "cell_type": "markdown",
   "metadata": {},
   "source": [
    "#### Keywords: matched by argument name"
   ]
  },
  {
   "cell_type": "code",
   "execution_count": null,
   "metadata": {},
   "outputs": [],
   "source": [
    "sum_func(d = 1, b = 2, c = 3, a = 4)"
   ]
  },
  {
   "cell_type": "markdown",
   "metadata": {},
   "source": [
    "#### Mixed two (positional must be in front of keywords)"
   ]
  },
  {
   "cell_type": "code",
   "execution_count": null,
   "metadata": {},
   "outputs": [],
   "source": [
    "sum_func(1, 2, d = 3, c = 4)"
   ]
  },
  {
   "cell_type": "code",
   "execution_count": null,
   "metadata": {},
   "outputs": [],
   "source": [
    "# %%handle\n",
    "sum_func(1, 2)"
   ]
  },
  {
   "cell_type": "code",
   "execution_count": null,
   "metadata": {},
   "outputs": [],
   "source": [
    "# %%handle\n",
    "sum_func(1, b = 2, 3, 4)"
   ]
  },
  {
   "cell_type": "markdown",
   "metadata": {},
   "source": [
    "#### With default values"
   ]
  },
  {
   "cell_type": "code",
   "execution_count": 37,
   "metadata": {},
   "outputs": [],
   "source": [
    "def sum_func1(a, b, c = 10, d = 100):\n",
    "    print(\"a =>\", a)\n",
    "    print(\"b =>\", b)\n",
    "    print(\"c =>\", c)\n",
    "    print(\"d =>\", d)"
   ]
  },
  {
   "cell_type": "code",
   "execution_count": null,
   "metadata": {},
   "outputs": [],
   "source": [
    "sum_func1(1, 2)"
   ]
  },
  {
   "cell_type": "code",
   "execution_count": null,
   "metadata": {},
   "outputs": [],
   "source": [
    "sum_func1(1, 2, c = 1)"
   ]
  },
  {
   "cell_type": "code",
   "execution_count": null,
   "metadata": {},
   "outputs": [],
   "source": [
    "sum_func1(1, 2, 1)"
   ]
  },
  {
   "cell_type": "markdown",
   "metadata": {},
   "source": [
    "### Anonymous Functions: lambda\n",
    "\n",
    "Besides the `def` statement, Python also provides an expression form that generates function objects.\n",
    "```python\n",
    "lambda argument1, argument2,... argumentN : expression using arguments\n",
    "```\n",
    "\n",
    "- `lambda` is designed for coding simple functions.\n",
    "- `def` handles larger tasks.\n",
    "- The `if`, `while` statements that we used in `def` will not work for `lambda`."
   ]
  },
  {
   "cell_type": "code",
   "execution_count": 42,
   "metadata": {},
   "outputs": [],
   "source": [
    "def f(x, y, z):\n",
    "    s = x + y + z\n",
    "    return s"
   ]
  },
  {
   "cell_type": "code",
   "execution_count": 43,
   "metadata": {},
   "outputs": [],
   "source": [
    "f = lambda x, y, z: x + y + z"
   ]
  },
  {
   "cell_type": "code",
   "execution_count": null,
   "metadata": {},
   "outputs": [],
   "source": [
    "f(1, 2, 3)"
   ]
  },
  {
   "cell_type": "markdown",
   "metadata": {},
   "source": [
    "lambda's expression can be useful when you need to embed executable code inline at the place it is to be used"
   ]
  },
  {
   "cell_type": "code",
   "execution_count": null,
   "metadata": {},
   "outputs": [],
   "source": [
    "# Inline function definition\n",
    "L = [lambda x: x ** 2, lambda x: x ** 3, lambda x: x ** 4] \n",
    "# L is a list of three callable functions\n",
    "for f in L:\n",
    "    print(f(2)) "
   ]
  },
  {
   "cell_type": "code",
   "execution_count": null,
   "metadata": {},
   "outputs": [],
   "source": [
    "L[0](7)"
   ]
  },
  {
   "cell_type": "code",
   "execution_count": null,
   "metadata": {},
   "outputs": [],
   "source": [
    "def f1(x): return x ** 2\n",
    "def f2(x): return x ** 3 \n",
    "def f3(x): return x ** 4\n",
    "L = [f1, f2, f3] \n",
    "for f in L:\n",
    "    print(f(2)) # Prints 4, 8, 16\n",
    "print(L[0](3))"
   ]
  },
  {
   "cell_type": "markdown",
   "metadata": {},
   "source": [
    "### recursive Function\n",
    "recursive functions are functions that call themselves either directly or indirectly in order to loop."
   ]
  },
  {
   "cell_type": "code",
   "execution_count": 48,
   "metadata": {},
   "outputs": [],
   "source": [
    "def mysum(L):\n",
    "    if not L:\n",
    "        return 0\n",
    "    else:\n",
    "        return L[0] + mysum(L[1:])"
   ]
  },
  {
   "cell_type": "code",
   "execution_count": null,
   "metadata": {},
   "outputs": [],
   "source": [
    "L = list(range(5))\n",
    "mysum(L)"
   ]
  },
  {
   "cell_type": "code",
   "execution_count": 50,
   "metadata": {},
   "outputs": [],
   "source": [
    "def mysum(L):\n",
    "    print(L)\n",
    "    if not L:\n",
    "        return 0\n",
    "    else:\n",
    "        return L[0] + mysum(L[1:])"
   ]
  },
  {
   "cell_type": "code",
   "execution_count": null,
   "metadata": {},
   "outputs": [],
   "source": [
    "mysum(L)"
   ]
  }
 ],
 "metadata": {
  "kernelspec": {
   "display_name": "Python 3 (ipykernel)",
   "language": "python",
   "name": "python3"
  },
  "language_info": {
   "codemirror_mode": {
    "name": "ipython",
    "version": 3
   },
   "file_extension": ".py",
   "mimetype": "text/x-python",
   "name": "python",
   "nbconvert_exporter": "python",
   "pygments_lexer": "ipython3",
   "version": "3.12.4"
  }
 },
 "nbformat": 4,
 "nbformat_minor": 4
}
