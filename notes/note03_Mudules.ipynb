{
 "cells": [
  {
   "cell_type": "code",
   "execution_count": null,
   "id": "bc5138a7-8a31-424e-9faa-ead4744457d6",
   "metadata": {
    "jupyter": {
     "source_hidden": true
    }
   },
   "outputs": [],
   "source": [
    "# Some configuations\n",
    "# This cell defines a magic command to ensure that the script doesn't stop due\n",
    "# to any error arising in that cell.\n",
    "from IPython.core.magic import register_cell_magic\n",
    "@register_cell_magic('handle')\n",
    "def handle(line, cell):\n",
    "    try:\n",
    "#         exec(cell)  # doesn't return the cell output though\n",
    "        return eval(cell)\n",
    "    except Exception as exc:\n",
    "        print(f\"\\033[1;31m{exc.__class__.__name__} : \\033[1;31;47m{exc}\\033[0m\")\n",
    "        # raise # if you want the full trace-back in the notebook"
   ]
  },
  {
   "attachments": {},
   "cell_type": "markdown",
   "id": "ae85bfb2-9b4d-4798-91de-773b64169f1e",
   "metadata": {},
   "source": [
    "# Modules\n",
    "\n",
    "Module refers to a .py file that consists of program codes and data which can be reused later. \n",
    "\n",
    "* The name of a module is the name of the file without .py extension.\n",
    "* Each module contains its own namespace (names of variables and function defined inside).\n",
    "* Modules can import other modules to access their variables and functions (add them to the current global name space).\n",
    "\n",
    "## Why Modules?\n",
    "\n",
    "* Code reuse: Save codes we have written before and use it in the future.\n",
    "* Minimizing name clashes.\n",
    "* Sharing with others.\n",
    "\n",
    "## How imports work\n",
    "\n",
    "* **Find**: Python search the module file in the paths shown below, from first to last.\n",
    "* **Run**: Once it finds the module file, it runs all the statements in the file from top to bottom."
   ]
  },
  {
   "cell_type": "code",
   "execution_count": null,
   "id": "d8366218",
   "metadata": {},
   "outputs": [],
   "source": [
    "import sys\n",
    "sys.path"
   ]
  },
  {
   "cell_type": "code",
   "execution_count": null,
   "id": "d9c728e1-2a53-4d54-90a2-60325f7ba25b",
   "metadata": {},
   "outputs": [],
   "source": [
    "import os\n",
    "os.listdir(\"./\")"
   ]
  },
  {
   "cell_type": "markdown",
   "id": "5c5b421a",
   "metadata": {},
   "source": [
    "## Variations of import"
   ]
  },
  {
   "cell_type": "markdown",
   "id": "3adcd9bf",
   "metadata": {},
   "source": [
    "### `import`\n",
    "\n",
    "```python\n",
    "import ModuleName\n",
    "```\n",
    "\n",
    "- This imports all the variables defined in ModuleName.\n",
    "- To access those variables names (e.g. `a` defined in ModuleName), we need to call:\n",
    "\n",
    "```python\n",
    "ModuleName.a\n",
    "```"
   ]
  },
  {
   "cell_type": "code",
   "execution_count": null,
   "id": "02114596",
   "metadata": {},
   "outputs": [],
   "source": [
    "import my_function"
   ]
  },
  {
   "cell_type": "code",
   "execution_count": null,
   "id": "2e18d7e4-d75d-42d0-ac6a-61132a428389",
   "metadata": {},
   "outputs": [],
   "source": [
    "my_function.pi"
   ]
  },
  {
   "cell_type": "markdown",
   "id": "4845f8d3",
   "metadata": {},
   "source": [
    "Tired of typing the module names if they are too long? You can use:\n",
    "\n",
    "```python\n",
    "import ModuleName as M\n",
    "```\n",
    "\n",
    "Then, you can call variables (e.g. \"a\") define in ModuleName by M.a"
   ]
  },
  {
   "cell_type": "code",
   "execution_count": null,
   "id": "bd9aea3d",
   "metadata": {},
   "outputs": [],
   "source": [
    "import my_function as mfnc\n",
    "mfnc.pi"
   ]
  },
  {
   "cell_type": "markdown",
   "id": "5ae5c93d",
   "metadata": {},
   "source": [
    "### from \n",
    "\n",
    "* Import selected variables(separated by \",\") from module.\n",
    "* The imported variables are directly added to the current namespace. Not need to add \"ModuleName.\" in the front. "
   ]
  },
  {
   "cell_type": "code",
   "execution_count": null,
   "id": "a44312d2",
   "metadata": {},
   "outputs": [],
   "source": [
    "from my_function import func1, pi"
   ]
  },
  {
   "cell_type": "code",
   "execution_count": null,
   "id": "20977721",
   "metadata": {},
   "outputs": [],
   "source": [
    "func1(5)"
   ]
  },
  {
   "cell_type": "code",
   "execution_count": null,
   "id": "5b46357c",
   "metadata": {},
   "outputs": [],
   "source": [
    "pi"
   ]
  },
  {
   "cell_type": "markdown",
   "id": "20aad711",
   "metadata": {},
   "source": [
    "Use * to import all the variables."
   ]
  },
  {
   "cell_type": "code",
   "execution_count": null,
   "id": "9fac088b",
   "metadata": {},
   "outputs": [],
   "source": [
    "from my_function import *"
   ]
  },
  {
   "cell_type": "code",
   "execution_count": null,
   "id": "097a3d19",
   "metadata": {},
   "outputs": [],
   "source": [
    "func2(5)"
   ]
  },
  {
   "cell_type": "markdown",
   "id": "2e5b9134",
   "metadata": {},
   "source": [
    "- Using from statement is more convenient since we do not need to type the package name everytime.\n",
    "- However, the catch is it may cause name clashes.\n",
    "- For example, if variable `func1` is defined in both `moduleA` and `modelB`. Then, you run \n",
    "```python\n",
    "from moduleA import func1\n",
    "from moduleB import func1\n",
    "```\n",
    "If you call `func1` now, it is going to be the one defined in `moduleB` since it is the most recent one."
   ]
  },
  {
   "cell_type": "markdown",
   "id": "740a5ce3",
   "metadata": {},
   "source": [
    "## install Modules (packages)\n",
    "```shell\n",
    "conda install PackageName\n",
    "```\n",
    "or\n",
    "```shell\n",
    "pip install PackageName\n",
    "```"
   ]
  }
 ],
 "metadata": {
  "kernelspec": {
   "display_name": "Python 3 (ipykernel)",
   "language": "python",
   "name": "python3"
  },
  "language_info": {
   "codemirror_mode": {
    "name": "ipython",
    "version": 3
   },
   "file_extension": ".py",
   "mimetype": "text/x-python",
   "name": "python",
   "nbconvert_exporter": "python",
   "pygments_lexer": "ipython3",
   "version": "3.12.4"
  }
 },
 "nbformat": 4,
 "nbformat_minor": 5
}
