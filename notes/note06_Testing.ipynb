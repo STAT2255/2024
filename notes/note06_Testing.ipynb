{
 "cells": [
  {
   "cell_type": "code",
   "execution_count": 42,
   "metadata": {
    "jupyter": {
     "source_hidden": true
    }
   },
   "outputs": [],
   "source": [
    "# Some configuations\n",
    "# This cell defines a magic command to ensure that the script doesn't stop due\n",
    "# to any error arising in that cell.\n",
    "from IPython.core.magic import register_cell_magic\n",
    "@register_cell_magic('handle')\n",
    "def handle(line, cell):\n",
    "    try:\n",
    "#         exec(cell)  # doesn't return the cell output though\n",
    "        return eval(cell)\n",
    "    except Exception as exc:\n",
    "        print(f\"\\033[1;31m{exc.__class__.__name__} : \\033[1;31;47m{exc}\\033[0m\")\n",
    "        # raise # if you want the full trace-back in the notebook"
   ]
  },
  {
   "cell_type": "markdown",
   "metadata": {},
   "source": [
    "# Why testing?\n",
    "\n",
    "> Testing your code means writing more code that checks that the behavior\n",
    "matches your expectations.\n",
    "\n",
    "Towards the goal of writing correct code, we use tests to determine two things:\n",
    "1. **Does it work?** That is, does the code do what it's supposed to do?\n",
    "2. **Does it still work?** Can you be confident that the changes you made haven't caused other part of the code to break?"
   ]
  },
  {
   "cell_type": "markdown",
   "metadata": {},
   "source": [
    "# Writting simple testings\n",
    "\n",
    "* You have some idea of what code is supposed to do. \n",
    "* You run the code.\n",
    "* Did it do what you expected? How about some other inputs? \n",
    "* In the simplest case, you could simply add some code to the bottom of the module."
   ]
  },
  {
   "cell_type": "code",
   "execution_count": 43,
   "metadata": {},
   "outputs": [],
   "source": [
    "def my_mean(L):\n",
    "    return sum(L) / len(L)"
   ]
  },
  {
   "cell_type": "code",
   "execution_count": null,
   "metadata": {},
   "outputs": [],
   "source": [
    "print(my_mean([1, 2, 3]))"
   ]
  },
  {
   "cell_type": "code",
   "execution_count": null,
   "metadata": {},
   "outputs": [],
   "source": [
    "%%handle\n",
    "print(my_mean([]))"
   ]
  },
  {
   "cell_type": "markdown",
   "metadata": {},
   "source": [
    "## Simple testing using ```assert```"
   ]
  },
  {
   "cell_type": "code",
   "execution_count": 46,
   "metadata": {},
   "outputs": [],
   "source": [
    "L1 = [1, 1, 1, 1, 100]\n",
    "L2 = [1, 2, 3, 4, 5]\n",
    "L3 = list(range(1, 101))"
   ]
  },
  {
   "cell_type": "code",
   "execution_count": null,
   "metadata": {},
   "outputs": [],
   "source": [
    "print(my_mean(L1))\n",
    "print(my_mean(L2))\n",
    "print(my_mean(L3))"
   ]
  },
  {
   "cell_type": "code",
   "execution_count": null,
   "metadata": {},
   "outputs": [],
   "source": [
    "assert(my_mean(L1) == 20.8)\n",
    "assert(my_mean(L2) == 3)\n",
    "assert(my_mean(L3) == 50.5)\n",
    "print(\"other codes\")"
   ]
  },
  {
   "cell_type": "code",
   "execution_count": 49,
   "metadata": {},
   "outputs": [],
   "source": [
    "class Power:\n",
    "    def __init__(self, x):\n",
    "        self.x = x\n",
    "    def Pow_function(self, n):\n",
    "        return self.x ** n\n",
    "x1 = Power(2)\n",
    "x2 = Power(3)\n",
    "x3 = Power(5)"
   ]
  },
  {
   "cell_type": "code",
   "execution_count": 50,
   "metadata": {},
   "outputs": [],
   "source": [
    "assert(x1.Pow_function(5) == 32)\n",
    "assert(x2.Pow_function(3) == 27)\n",
    "assert(x3.Pow_function(2) == 25)"
   ]
  },
  {
   "cell_type": "markdown",
   "metadata": {},
   "source": [
    "Assertions are much better than just printing because you don't have to manually check to see\n",
    "that it printed what you expected it to print."
   ]
  },
  {
   "cell_type": "markdown",
   "metadata": {},
   "source": [
    "# Unit Testing with ```unittest```"
   ]
  },
  {
   "cell_type": "markdown",
   "metadata": {},
   "source": [
    "- unit tests are supposed to test a specific behavior of a specific function.\n",
    "- This means you will have many tests and you will run them all, every time you change the code.\n",
    "- To make the process go smoothly, there is a standard package called\n",
    "**unittest** for writing unit tests in Python.\n",
    "  - The package provides a standard way to write the tests,\n",
    "  -  the ability to run the tests all together,\n",
    "  -   and the ability to see the results of the tests in a clear format."
   ]
  },
  {
   "cell_type": "markdown",
   "metadata": {},
   "source": [
    "* To use the unittest package, you will want to import the package.\n",
    "* The actual tests will be methods in a class that extends the unittest.TestCase class.\n",
    "* Every test method must start with the word **test**. If it doesn't start with **test**, then it will not run. \n",
    "* Tests are run by calling the function\n",
    "  ```python\n",
    "   unittest.main(argv=['first-arg-is-ignored'], exit=False)\n",
    "   ```\n",
    "* The argument `argv=['first-arg-is-ignored']` is used to mimic running a script from the command line.\n",
    "* The argument `exit=False` is used to ensure that the program does not stop with failures in tests."
   ]
  },
  {
   "cell_type": "code",
   "execution_count": 66,
   "metadata": {},
   "outputs": [],
   "source": [
    "from note06_classes import Account, Phone"
   ]
  },
  {
   "cell_type": "code",
   "execution_count": 53,
   "metadata": {},
   "outputs": [],
   "source": [
    "import uuid\n",
    "import unittest\n",
    "class TestMyCode(unittest.TestCase):\n",
    "    def testPhoneColor(self):\n",
    "        user_phone1 = Phone(\"user1\", \"black\", 6.1)\n",
    "        user_phone2 = Phone(\"user2\", \"red\", 5.0)\n",
    "        self.assertEqual(user_phone1.color, 'black')\n",
    "        self.assertEqual(user_phone2.color, 'red')\n",
    "    def testPhoneComparator(self):\n",
    "        user_phone1 = Phone(\"user1\", \"black\", 6.1)\n",
    "        user_phone2 = Phone(\"user2\", \"red\", 5.0)\n",
    "        self.assertEqual(user_phone1 > user_phone2, True)\n",
    "        self.assertEqual(user_phone1 == user_phone2, False)\n",
    "        self.assertEqual(user_phone1 != user_phone2, True)\n",
    "    def testPhoneDownload(self):\n",
    "        user_phone1 = Phone(\"user1\", \"black\", 6.1)\n",
    "        user_phone2 = Phone(\"user2\", \"red\", 5.0)\n",
    "        self.assertEqual(user_phone1.apps, [])\n",
    "        user_phone1.Download_app(\"Twitter\")\n",
    "        user_phone1.Download_app(\"Youtube\")\n",
    "        user_phone2.Download_app(\"Facebook\")\n",
    "        self.assertEqual(user_phone1.apps, [\"Twitter\", \"Youtube\"])\n",
    "        self.assertEqual(user_phone2.apps, [\"Facebook\"])\n",
    "    def testPhoneUninstall(self):\n",
    "        user_phone1 = Phone(\"user1\", \"black\", 6.1)\n",
    "        user_phone2 = Phone(\"user2\", \"red\", 5.0)\n",
    "        user_phone1.Download_app(\"Twitter\")\n",
    "        user_phone1.Download_app(\"Youtube\")\n",
    "        user_phone1.Uninstall_app(\"Youtube\")\n",
    "        self.assertEqual(user_phone1.apps, [\"Twitter\"])\n",
    "    def testAccountget_amount_held(self):\n",
    "        account1 = Account(1000, 500, 0.1)\n",
    "        self.assertEqual(account1.get_amount_held(), 1000)\n",
    "    def testAccountwithdraw(self):\n",
    "        account1 = Account(1000, 500, 0.1)\n",
    "        account1.withdraw(300)\n",
    "        account1.withdraw(300)\n",
    "        self.assertEqual(account1.get_amount_held(), 400)\n",
    "        with self.assertRaises(ValueError):\n",
    "            account1.withdraw(500)\n",
    "    def testAccountis_in_good_standing(self):\n",
    "        account1 = Account(1000, 500, 0.1)\n",
    "        account1.withdraw(300)\n",
    "        account1.withdraw(300)\n",
    "        self.assertEqual(account1.is_in_good_standing(), False)\n",
    "    def testAccountdeposit(self):\n",
    "        account1 = Account(1000, 500, 0.1)\n",
    "        account1.deposit(300)\n",
    "        self.assertEqual(account1.get_amount_held(), 130000000)\n",
    "    def testAccountclose(self):\n",
    "        account1 = Account(1000, 500, 0.1)\n",
    "        account1.withdraw(300)\n",
    "        account1.deposit(200)\n",
    "        self.assertEqual(account1.close_account(), 9000 + 700 * account1.get_interest_rate())"
   ]
  },
  {
   "cell_type": "code",
   "execution_count": null,
   "metadata": {
    "scrolled": true
   },
   "outputs": [],
   "source": [
    "unittest.main(argv=['first-arg-is-ignored'], exit=False)\n",
    "print(\"rest codes\")"
   ]
  },
  {
   "cell_type": "markdown",
   "metadata": {},
   "source": [
    "- The `__name__ == '__main__'` checks if the file is run as the main script.\n",
    "- It allows you to put code in a file that is only executed when it the main script.\n",
    "- If the file is imported as a module in another script, the code in the block of `__name__ == '__main__'` will not run."
   ]
  },
  {
   "cell_type": "code",
   "execution_count": null,
   "metadata": {
    "scrolled": true
   },
   "outputs": [],
   "source": [
    "if __name__ == '__main__':\n",
    "    argv = ['first-arg-is-ignored']\n",
    "    unittest.main(argv=argv, exit=False)"
   ]
  },
  {
   "attachments": {},
   "cell_type": "markdown",
   "metadata": {},
   "source": [
    "# Test-Driven Development\n",
    "\n",
    "Test-Driven Development (TDD) is based on the simple idea that you\n",
    "can write the tests before you write the code.\n",
    "\n",
    "* Decide how you want to be able to use some function. What should the parameters be? What should it return?\n",
    "*  Write only the code that you need. If there is code that doesn't support some desired behavior with tests, then you don't need to write it."
   ]
  },
  {
   "cell_type": "markdown",
   "metadata": {},
   "source": [
    "The TDD mantra is Red-Green-Refactor. It refers to three phases of the testing process.\n",
    "1. Red: The tests fail. They are better!\n",
    "2. Green: You get the tests to pass by changing the code.\n",
    "3. Refactor: You clean up the code, removing duplication."
   ]
  },
  {
   "cell_type": "markdown",
   "metadata": {},
   "source": [
    "Here is a simple example of refactored code:\n",
    "\n",
    "Original Code with Minor Duplication:\n",
    "```python\n",
    "avg1 = sum(L1)/len(L1)\n",
    "avg2 = sum(L2)/len(L2)\n",
    "```\n",
    "There should be some default behavior for empty lists.\n",
    "The code is updated before refactoring:\n",
    "```python\n",
    "if len(L1) == 0:\n",
    "    avg1 = 0\n",
    "else:\n",
    "    avg1 = sum(L1) / len(L1)\n",
    "if len(L2) == 0:\n",
    "    avg2 = 0\n",
    "else:\n",
    "    avg2 = sum(L2) / len(L2)\n",
    "```\n",
    "Refactored Code:\n",
    "```python\n",
    "def avg(L):\n",
    "    if len(L) == 0:\n",
    "        return 0\n",
    "    else:\n",
    "        return sum(L) / len(L)\n",
    "avg1 = avg(L1)\n",
    "avg2 = avg(L2)\n",
    "```"
   ]
  }
 ],
 "metadata": {
  "kernelspec": {
   "display_name": "Python 3 (ipykernel)",
   "language": "python",
   "name": "python3"
  },
  "language_info": {
   "codemirror_mode": {
    "name": "ipython",
    "version": 3
   },
   "file_extension": ".py",
   "mimetype": "text/x-python",
   "name": "python",
   "nbconvert_exporter": "python",
   "pygments_lexer": "ipython3",
   "version": "3.12.4"
  }
 },
 "nbformat": 4,
 "nbformat_minor": 4
}
