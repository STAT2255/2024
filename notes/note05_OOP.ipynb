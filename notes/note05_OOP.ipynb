{
 "cells": [
  {
   "cell_type": "code",
   "execution_count": 77,
   "id": "859518dd",
   "metadata": {},
   "outputs": [],
   "source": [
    "# Some configuations\n",
    "# This cell defines a magic command to ensure that the script doesn't stop due\n",
    "# to any error arising in that cell.\n",
    "from IPython.core.magic import register_cell_magic\n",
    "@register_cell_magic('handle')\n",
    "def handle(line, cell):\n",
    "    try:\n",
    "#         exec(cell)  # doesn't return the cell output though\n",
    "        return eval(cell)\n",
    "    except Exception as exc:\n",
    "        print(f\"\\033[1;31m{exc.__class__.__name__} : \\033[1;31;47m{exc}\\033[0m\")\n",
    "        # raise # if you want the full trace-back in the notebook"
   ]
  },
  {
   "attachments": {},
   "cell_type": "markdown",
   "id": "58634ed0-6506-4a49-8e71-29094a5b53dd",
   "metadata": {},
   "source": [
    "# Object-oriented Programming\n",
    "\n",
    "> Object-oriented Programming refers to the programming paradigm that is built around objects.\n",
    "\n",
    "* Passing objects around our scripts.\n",
    "* Objects are used in expressions.\n",
    "* Calling functions associated with objects.\n",
    "* ....\n",
    "\n",
    "## object and class (type)\n",
    "\n",
    "* Each object is an instance of a certain class (type). \n",
    "* Class is like a blueprint that define and can be used to created objects.\n",
    "  * Specifying object's attributes, operation (functions) they can perform.\n",
    "  * Each of us is an instance of human.\n",
    "* What we can do with object depends on its class."
   ]
  },
  {
   "cell_type": "code",
   "execution_count": null,
   "id": "24d8ac7e",
   "metadata": {},
   "outputs": [],
   "source": [
    "my_string = \"hello\"\n",
    "print(type(my_string))"
   ]
  },
  {
   "cell_type": "markdown",
   "id": "28f40615",
   "metadata": {},
   "source": [
    "In the above, the variable name **my_string** is used to reference the object \"hello\", which is an instance of str."
   ]
  },
  {
   "cell_type": "code",
   "execution_count": null,
   "id": "33fe087a",
   "metadata": {},
   "outputs": [],
   "source": [
    "isinstance(my_string, str)"
   ]
  },
  {
   "cell_type": "code",
   "execution_count": null,
   "id": "b4190fff",
   "metadata": {},
   "outputs": [],
   "source": [
    "dir('dd')"
   ]
  },
  {
   "attachments": {},
   "cell_type": "markdown",
   "id": "852539e6-4f84-40ac-8cbd-1cd86d0259e2",
   "metadata": {},
   "source": [
    "## Why do we care?\n",
    "\n",
    "> We do things with stuffs\n",
    "\n",
    "Because we would like to create new stuffs (class) other than just those built-ins.\n",
    "\n",
    "## Some features\n",
    "\n",
    "* Abstraction: Only show the necessary details to the user.\n",
    "* Encapsulation: Binding attricutes and methods together; privite and public.\n",
    "* Hierarchy: \n",
    "    * Inheritance (is a):\n",
    "      - Passing properties from a parent (super) class to a child (sub) class.\n",
    "      - Parent class (super) is the base class that has all the basic properties and methods,\n",
    "      - Child (sub) class will have all the same properties and methods of the parent in addition to their own properties or methods.\n",
    "    * Composition (has a):\n",
    "      - Class can contain objects generated from other classes.\n",
    "* Polymorphism: Same method can be called on different objects.\n",
    "\n",
    "## Let's design a phone class!\n",
    "\n",
    "\n",
    "First, when we talk about a phone, what come to our mind?\n",
    "\n",
    "* It is a electronic device that has some attributes: color, size, brand ....\n",
    "* It has some functionalities: call someone, text someone, play music ...\n",
    "\n",
    "The things above are like the blueprints that describe how a phone is supposed to be. When we design the class, we are designing the blueprint. Then, the blueprint can be used to generate instances (objects) of the class. \n",
    "\n",
    "![Phone](figures/blue_print.webp)\n",
    "\n",
    "Now, for simplicity, let's say we want a phone to have:\n",
    "\n",
    "* **Properties:** user_name, color, size, password, apps that have been installed.\n",
    "* **Functions:**  show user name, download apps, uninstall apps, set password."
   ]
  },
  {
   "cell_type": "code",
   "execution_count": 45,
   "id": "5ad6a46d",
   "metadata": {},
   "outputs": [],
   "source": [
    "class Phone:\n",
    "    def __init__(self, user_name, color, size):\n",
    "        self.user_name = user_name\n",
    "        self.color = color\n",
    "        self.size = size\n",
    "        self.apps = []\n",
    "        self._password = None\n",
    "    def show_user_name(self):\n",
    "        print(\"The User name is\", self.user_name)\n",
    "    def Download_app(self, app_name):\n",
    "        self.apps.append(app_name)\n",
    "    def Uninstall_app(self, app_name):\n",
    "        self.app.remove(app_name)\n",
    "    def set_password(self, old_password = None, new_password = None):\n",
    "        if self._password == old_password:\n",
    "            self._password = new_password\n",
    "        else:\n",
    "            print(\"Old Password not match!\")"
   ]
  },
  {
   "cell_type": "code",
   "execution_count": 46,
   "id": "48f9d40d",
   "metadata": {},
   "outputs": [],
   "source": [
    "Ben_phone = Phone(\"Ben\", \"black\", 6.1) # generate an instance"
   ]
  },
  {
   "cell_type": "code",
   "execution_count": null,
   "id": "359a9eb7-86ac-4288-aa24-8765569b6252",
   "metadata": {},
   "outputs": [],
   "source": [
    "Phone"
   ]
  },
  {
   "cell_type": "code",
   "execution_count": null,
   "id": "d4e8caae-7d12-41bc-8701-58a0154e76cc",
   "metadata": {},
   "outputs": [],
   "source": [
    "Ben_phone"
   ]
  },
  {
   "cell_type": "code",
   "execution_count": null,
   "id": "6f5c8c03-28e8-4a80-94dd-01e9dfdfcf2e",
   "metadata": {},
   "outputs": [],
   "source": [
    "isinstance(Ben_phone, Phone)"
   ]
  },
  {
   "cell_type": "code",
   "execution_count": null,
   "id": "58dc0204",
   "metadata": {},
   "outputs": [],
   "source": [
    "Ben_phone.color"
   ]
  },
  {
   "cell_type": "code",
   "execution_count": null,
   "id": "e5576cc4",
   "metadata": {},
   "outputs": [],
   "source": [
    "Ben_phone.size"
   ]
  },
  {
   "cell_type": "code",
   "execution_count": 52,
   "id": "049eb563",
   "metadata": {},
   "outputs": [],
   "source": [
    "Ben_phone.set_password(new_password=123)"
   ]
  },
  {
   "cell_type": "code",
   "execution_count": null,
   "id": "12c33b4d-9f9d-48e6-812e-e3beb1e8af0c",
   "metadata": {},
   "outputs": [],
   "source": [
    "Ben_phone._password"
   ]
  },
  {
   "cell_type": "code",
   "execution_count": 54,
   "id": "484fb825-a630-4b6d-a907-ac36b51891f6",
   "metadata": {},
   "outputs": [],
   "source": [
    "Ben_phone.set_password(old_password=123, new_password=456)"
   ]
  },
  {
   "cell_type": "code",
   "execution_count": null,
   "id": "66f7f3a1-78bd-4c74-8c13-72cc4df336c0",
   "metadata": {},
   "outputs": [],
   "source": [
    "Ben_phone._password"
   ]
  },
  {
   "cell_type": "code",
   "execution_count": null,
   "id": "1f5287a0-7cfc-4aa4-9269-8f4fe0f954f6",
   "metadata": {},
   "outputs": [],
   "source": [
    "dir(Phone)"
   ]
  },
  {
   "attachments": {},
   "cell_type": "markdown",
   "id": "fabef6ce-3ee4-4f48-8747-76477a505560",
   "metadata": {},
   "source": [
    "## A closer look\n",
    "\n",
    "### General form\n",
    "\n",
    "```python\n",
    "class name:\n",
    "    def __init__(self, arg1, arg2,..., argn):\n",
    "        self.attr = value\n",
    "    def method(self,...):\n",
    "        do something\n",
    "```\n",
    "* The class is defined similar as function. It start with header using `class`.\n",
    "* Variables that defined in class are called attributes and the function defined in class are called methods.\n",
    "* The `__init__` function is a constructor method that specifies what arguments are needed when generate an instance of the class. Think about this as a configuration that specifies the details about how to create an instance.\n",
    "* The constructor (`__init__`) method is automatically run when you call the class to generate an instance.\n",
    "* The `self` is just an placeholder which will be replaced by the name of the instance. \n",
    "\n",
    "Attributes can be called by using `object_name.attribute`. This is similar to the things we saw in import modules. Because only the objects that belongs to that class have those attributes, we need to specify it. Notice the `self` is replace by the object name."
   ]
  },
  {
   "cell_type": "code",
   "execution_count": null,
   "id": "f3a7f4b5",
   "metadata": {},
   "outputs": [],
   "source": [
    "Ben_phone.color "
   ]
  },
  {
   "cell_type": "markdown",
   "id": "e54e28c7",
   "metadata": {},
   "source": [
    "Method can be called using\n",
    "```python\n",
    "Class_name.method_name(object_name, arg1, ..., argn)\n",
    "object_name.method_name(arg1, ..., argn))\n",
    "```"
   ]
  },
  {
   "cell_type": "code",
   "execution_count": null,
   "id": "704278dc",
   "metadata": {},
   "outputs": [],
   "source": [
    "Phone.show_user_name(Ben_phone)"
   ]
  },
  {
   "cell_type": "code",
   "execution_count": null,
   "id": "6c7dbf1b",
   "metadata": {},
   "outputs": [],
   "source": [
    "Ben_phone.show_user_name()"
   ]
  },
  {
   "cell_type": "markdown",
   "id": "e74a95be",
   "metadata": {},
   "source": [
    "## Features revisit\n",
    "\n",
    "Now, let's go back to see how the four features are implemented in this **Phone** class."
   ]
  },
  {
   "cell_type": "markdown",
   "id": "79c6c941",
   "metadata": {},
   "source": [
    "### Abstraction\n",
    "\n",
    "- After we made the instance **Ben_phone**, we can call the function **set_password**.\n",
    "- For users who will use this function, the only things they need to provide are the old_password and new_password;\n",
    "- they do not need to know how exactly the procedure is done."
   ]
  },
  {
   "cell_type": "markdown",
   "id": "83239044",
   "metadata": {},
   "source": [
    "### Encapsulation\n",
    "\n",
    "We have binded the attributes and methods together with the single object.\n",
    "\n",
    "- Also, notice the variable **self._password** that start with underscore.\n",
    "- When designing a class, you want to partition attributes into **public** and **private**.\n",
    "- Those private attributes or methods start with underscore and are things the users should not call.\n",
    "- They exist just because they serve a role in certain functions."
   ]
  },
  {
   "cell_type": "markdown",
   "id": "39b6b724",
   "metadata": {},
   "source": [
    "### Inheritance\n",
    "\n",
    "\n",
    "When we talk about things, we talk abut them at different levels of generality. For example, we can talk about a specific basketball player, say Stephen Curry, or we can talk about professional basketball players, or all basketball players, or people, or living features. \n",
    "\n",
    "```\n",
    "       ├──living features\n",
    "         ├──people\n",
    "           ├──all basketball players\n",
    "             ├──professional basketball players\n",
    "               └──Stephen Curry\n",
    "```\n",
    "\n",
    "The above describe the **is a** relationship.\n",
    "- The class on the top is called the parent (super) class and the one below is called child (sub) class.\n",
    "- All the attrtibutes and methods that available to the parent (super) class should also exist in the child (sub) class.\n",
    "- So, if we already defined a parent (super) class, and we want to define the child (sub), for the attributes and methods that exist in parent (super) class, we do not need to define again.\n",
    "- We can just pass them to the child class. This is called **Inheritance**.\n",
    "\n",
    "\n",
    "```python\n",
    "class superclass_name:\n",
    "    def __init__(self, arg1, arg2,..., argn):\n",
    "        self.attr1 = value1\n",
    "        self.attr2 = value2\n",
    "    def method1(self,...):\n",
    "        do something\n",
    "    def method2(self,...):\n",
    "        do something\n",
    "\n",
    "\n",
    "class subclass_name(superclass_name):\n",
    "    def __init__(self, arg1, arg2,...,argn):\n",
    "        super().__init__(arg1, arg2,...,argn)                # Inherit all the attributes from super class.\n",
    "        self.attr1 = value3                                  # Replace attributes\n",
    "    def method2(self,...):                                   # Override method2\n",
    "        do something\n",
    "    def method3(self,...):                                   # Create new method\n",
    "        do something\n",
    "```\n",
    "\n",
    "Now, suppose you want to create an new class **IPhone**. As we all know, IPhone **is a** Phone. IPhone should have all the attributes and methods that are available to **Phone**. In addition, we can add more attributes and methods that are unique to IPhone.\n",
    "\n"
   ]
  },
  {
   "cell_type": "markdown",
   "id": "376fddf9-95da-4b52-b1c2-d6c3e14054b5",
   "metadata": {},
   "source": [
    "```python\n",
    "class Phone:\n",
    "    def __init__(self, user_name, color, size):\n",
    "        self.user_name = user_name\n",
    "        self.color = color\n",
    "        self.size = size\n",
    "        self.apps = []\n",
    "        self._password = None\n",
    "    def show_user_name(self):\n",
    "        print(\"The User name is\", self.user_name)\n",
    "    def Download_app(self, app_name):\n",
    "        self.apps.append(app_name)\n",
    "    def Uninstall_app(self, app_name):\n",
    "        self.app.remove(app_name)\n",
    "    def set_password(self, old_password = None, new_password = None):\n",
    "        if self._password == old_password:\n",
    "            self._password = new_password\n",
    "        else:\n",
    "            print(\"Old Password not match!\")\n",
    "```"
   ]
  },
  {
   "cell_type": "code",
   "execution_count": 60,
   "id": "9e14653f",
   "metadata": {},
   "outputs": [],
   "source": [
    "class IPhone(Phone):\n",
    "    def __init__(self, user_name, color, size, model):\n",
    "        super().__init__(user_name, color, size)\n",
    "        self.apps = [\"FaceTime\", \"Safari\", \"App Store\", \"iTunes\"]\n",
    "        self.brand = \"Apple\"\n",
    "        self.model = model\n",
    "    def show_user_name(self):\n",
    "        print(\"The Apple user name is\", self.user_name)"
   ]
  },
  {
   "cell_type": "code",
   "execution_count": 61,
   "id": "48579fac",
   "metadata": {},
   "outputs": [],
   "source": [
    "Ben_IPhone = IPhone(\"Ben\", \"black\", 6.1, \"16 Pro Max\")"
   ]
  },
  {
   "cell_type": "code",
   "execution_count": null,
   "id": "23ba456b",
   "metadata": {},
   "outputs": [],
   "source": [
    "Ben_IPhone.apps"
   ]
  },
  {
   "cell_type": "code",
   "execution_count": 63,
   "id": "740b2e85-6fda-4361-ace4-d7bd9ad84e86",
   "metadata": {},
   "outputs": [],
   "source": [
    "Ben_IPhone.Download_app('Angry bird')"
   ]
  },
  {
   "cell_type": "code",
   "execution_count": null,
   "id": "dc555f0e",
   "metadata": {},
   "outputs": [],
   "source": [
    "Ben_IPhone.apps"
   ]
  },
  {
   "cell_type": "code",
   "execution_count": 68,
   "id": "e8497176-7ab0-4e50-a2f9-c6982e9977a0",
   "metadata": {},
   "outputs": [],
   "source": [
    "Ben_phone.Download_app('Angry bird')"
   ]
  },
  {
   "cell_type": "code",
   "execution_count": null,
   "id": "7e877374-f71b-4a33-95ad-b76742e9b421",
   "metadata": {},
   "outputs": [],
   "source": [
    "Ben_phone.apps"
   ]
  },
  {
   "cell_type": "code",
   "execution_count": null,
   "id": "242aaea2",
   "metadata": {},
   "outputs": [],
   "source": [
    "Ben_IPhone.show_user_name()"
   ]
  },
  {
   "cell_type": "code",
   "execution_count": null,
   "id": "ed53f359",
   "metadata": {
    "scrolled": true
   },
   "outputs": [],
   "source": [
    "Ben_phone.show_user_name()"
   ]
  },
  {
   "cell_type": "code",
   "execution_count": null,
   "id": "7c8f6c9c",
   "metadata": {},
   "outputs": [],
   "source": [
    "Ben_IPhone.show_user_name()"
   ]
  },
  {
   "cell_type": "code",
   "execution_count": 72,
   "id": "64e40118",
   "metadata": {},
   "outputs": [],
   "source": [
    "Ben_IPhone.set_password(new_password=1234)"
   ]
  },
  {
   "cell_type": "markdown",
   "id": "8bd9962e",
   "metadata": {},
   "source": [
    "### Composition\n",
    "\n",
    "Composition describe **has a** relationship.\n",
    "- Essentially, a class has an instance of another class.\n",
    "- In our Phone example, to make it more complicated, we can define chip class, battery class, etc.\n",
    "\n",
    "```python\n",
    "class Phone:\n",
    "    def __init__(self, user_name, color, size):\n",
    "        self.user_name = user_name\n",
    "        self.chip = chip()\n",
    "        self.battery = battery()\n",
    "        ....\n",
    "```\n",
    "\n",
    "So we say\n",
    "* A Phone has a chip.\n",
    "* A Phone has a battery."
   ]
  },
  {
   "cell_type": "markdown",
   "id": "a69a05aa",
   "metadata": {},
   "source": [
    "### Polymorphism\n",
    "\n",
    "Polymorphism is the meaning of an operation depends on the objects being operated upon. "
   ]
  },
  {
   "cell_type": "code",
   "execution_count": null,
   "id": "f5e650be",
   "metadata": {},
   "outputs": [],
   "source": [
    "\"xyz\" + \"abc\""
   ]
  },
  {
   "cell_type": "code",
   "execution_count": null,
   "id": "d6ca658a",
   "metadata": {},
   "outputs": [],
   "source": [
    "str.__add__(\"xyz\", \"abc\")"
   ]
  },
  {
   "cell_type": "code",
   "execution_count": null,
   "id": "6ae62d2c",
   "metadata": {},
   "outputs": [],
   "source": [
    "1 + 2"
   ]
  },
  {
   "cell_type": "code",
   "execution_count": 76,
   "id": "0c28cffb-8f24-4ced-8c50-7840c28fbf38",
   "metadata": {},
   "outputs": [],
   "source": [
    "Phone1 = Phone(\"phone1\", \"black\", 6.1)\n",
    "Phone2 = Phone(\"phone1\", \"black\", 6.1)\n",
    "Phone3 = Phone(\"phone1\", \"black\", 6.4)\n",
    "Phone4 = Phone(\"phone1\", \"black\", 5)"
   ]
  },
  {
   "cell_type": "code",
   "execution_count": null,
   "id": "2a76d410-57db-4d79-b93f-31588056b8f7",
   "metadata": {},
   "outputs": [],
   "source": [
    "print(Phone1)"
   ]
  },
  {
   "cell_type": "code",
   "execution_count": null,
   "id": "48b55692-8b82-4382-8578-ca56d149ecd0",
   "metadata": {},
   "outputs": [],
   "source": [
    "%%handle\n",
    "Phone1 > Phone4"
   ]
  },
  {
   "cell_type": "markdown",
   "id": "41dec965",
   "metadata": {},
   "source": [
    "### Operator Overloading\n",
    "\n",
    "Before giving example, let's first talk about **Operator Overloading**.\n",
    "\n",
    "> *Operator overloading* simply means intercepting built-in operations in a class’s\n",
    "methods\n",
    "\n",
    "There are some built-in operations in Python, such as \"+\", \"-\", \"<\", \"==\", \"print\". When you want to use these operations in the class you defined, you can use the operator overloading method."
   ]
  },
  {
   "cell_type": "markdown",
   "id": "b5dd3573",
   "metadata": {},
   "source": [
    "![Common operator overloading methods](figures/operator_overloading_methods.png)"
   ]
  },
  {
   "cell_type": "markdown",
   "id": "ba304e2c",
   "metadata": {},
   "source": [
    "Now, back to the Phone example, if we want to \n",
    "* Use the comparators \">\", \"<\", \">=\", \"<=\", \"==\", \"!=\" to compare the size of Phone. \n",
    "* The print function."
   ]
  },
  {
   "cell_type": "code",
   "execution_count": 80,
   "id": "4fc9f599",
   "metadata": {},
   "outputs": [],
   "source": [
    "class Phone:\n",
    "    def __init__(self, user_name, color, size):\n",
    "        self.user_name = user_name\n",
    "        self.color = color\n",
    "        self.size = size\n",
    "        self.apps = []\n",
    "        self._password = None\n",
    "    def show_user_name(self):\n",
    "        print(\"The User name is\", self.user_name)\n",
    "    def Download_app(self, app_name):\n",
    "        self.apps.append(app_name)\n",
    "    def Uninstall_app(self, app_name):\n",
    "        self.app.remove(app_name)\n",
    "    def set_password(self, old_password = None, new_password = None):\n",
    "        if self._password == old_password:\n",
    "            self._password = new_password\n",
    "        else:\n",
    "            print(\"Old Password not match!\")\n",
    "    def __le__(self, a):\n",
    "        return self.size <= a.size\n",
    "    def __ge__(self, a):\n",
    "        return self.size >= a.size\n",
    "    def __eq__(self, a):\n",
    "        return self.size == a.size\n",
    "    def __ne__(self, a):\n",
    "        return self.size != a.size\n",
    "    def __lt__(self, a):\n",
    "        return self.size < a.size\n",
    "    def __gt__(self, a):\n",
    "        return self.size > a.size\n",
    "    def __str__(self):\n",
    "        return \"user_name => {}, color => {}\".format(self.user_name, self.color)"
   ]
  },
  {
   "cell_type": "markdown",
   "id": "d1a414c4",
   "metadata": {},
   "source": [
    "[formatted string literals](https://docs.python.org/3/tutorial/inputoutput.html#formatted-string-literals)"
   ]
  },
  {
   "cell_type": "code",
   "execution_count": null,
   "id": "be692f6a",
   "metadata": {
    "scrolled": true
   },
   "outputs": [],
   "source": [
    "Phone1 = Phone(\"phone1\", \"black\", 6.1)\n",
    "print(Phone1)"
   ]
  },
  {
   "cell_type": "code",
   "execution_count": 82,
   "id": "0270d04d",
   "metadata": {},
   "outputs": [],
   "source": [
    "Phone1 = Phone(\"phone1\", \"black\", 6.1)\n",
    "Phone2 = Phone(\"phone1\", \"black\", 6.1)\n",
    "Phone3 = Phone(\"phone1\", \"black\", 6.4)\n",
    "Phone4 = Phone(\"phone1\", \"black\", 5)"
   ]
  },
  {
   "cell_type": "code",
   "execution_count": null,
   "id": "cf00623a",
   "metadata": {},
   "outputs": [],
   "source": [
    "Phone1 > Phone2"
   ]
  },
  {
   "cell_type": "code",
   "execution_count": null,
   "id": "3c6e6e83",
   "metadata": {},
   "outputs": [],
   "source": [
    "Phone3 > Phone4"
   ]
  },
  {
   "cell_type": "code",
   "execution_count": null,
   "id": "6d99b2d5",
   "metadata": {},
   "outputs": [],
   "source": [
    "print(Phone1)"
   ]
  },
  {
   "cell_type": "markdown",
   "id": "992f838b",
   "metadata": {},
   "source": [
    "Now, let's get back to the idea of **Polymorphism**. \n",
    "- When we compare int class, it simply compare values of integers.\n",
    "- But when we compare our Phone, it compare their size.\n",
    "- Although it is the same method, it has different meanings, which depends on the object you are using and how you define the method in the object's class."
   ]
  },
  {
   "cell_type": "markdown",
   "id": "18119319",
   "metadata": {},
   "source": [
    "## More realistic? Sure"
   ]
  },
  {
   "cell_type": "markdown",
   "id": "fcf4df9a",
   "metadata": {},
   "source": [
    "Suppose you are asked by a bank to create a class for Account. When customer open an account, it generate an instance. \n",
    "\n",
    "To create an instance, we need to know:\n",
    "\n",
    "* initial_amount\n",
    "* minimum: minimum amount allowed. \n",
    "    * When openning a bank account, if the initial_amount is less than the minimum, raise error. \n",
    "* interest_rate\n",
    "\n",
    "Each object should have the following attributes:\n",
    "\n",
    "* id: 5 digits id of the account\n",
    "* minimum\n",
    "* amount_held: current amount left in the account.\n",
    "* good_standing: A Boolean that should be `False` when the current amount held in the account fell below the minimum.\n",
    "* min_ever_held: minimum amount ever held\n",
    "* interest_rate\n",
    "* is_active: A Boolean that indicates if the account is active\n",
    "\n",
    "\n",
    "Each object should have the following methods:\n",
    "\n",
    "* get_amount_held(self): return the current amount held.\n",
    "* get_minimum(self): return minimum to be held in the account\n",
    "* get_min_ever_held(self): return minimum amount ever held.\n",
    "* get_interest_rate(self): return the interest rate of the account.\n",
    "* is_in_good_standing(self): shows whether or not the account is in a good standing.\n",
    "* is_active(self): shows if an account is active.\n",
    "* withdraw(self, w_amount):\n",
    "    1. if the withdrawal amount is > than the amount held in the account , raise error\n",
    "    2. diminish the amount held in the account by the withdrawal amount\n",
    "    3. if after subtracting the withdrawal amount the held amount in the account is  less than minimum set the _good_standing member to False\n",
    "    4. Finally if the self._amount_held is < the minimum amount ever held adjust the _min_ever_held member\n",
    "* deposit(self, d_amount):\n",
    "    1. increase the amount held by the deposit amount\n",
    "    2. if after adding the deposit amount the amount held is > than the minimum amount to be held in the account set the good_standing member to True\n",
    "* close_account(self):\n",
    "    1. set is_active to False\n",
    "    2. Since we are closing the account we need to give the interest to the customer.\n",
    "       - The interest is paid on the minimum amount held.\n",
    "       - Return (amount_held + interest_rate*min_ever_held)\n",
    "\n",
    "We use the `uuid` package to generate account id."
   ]
  },
  {
   "cell_type": "code",
   "execution_count": null,
   "id": "edbeb34f",
   "metadata": {},
   "outputs": [],
   "source": [
    "import uuid\n",
    "uuid.uuid4()"
   ]
  },
  {
   "cell_type": "code",
   "execution_count": null,
   "id": "4ffac876",
   "metadata": {},
   "outputs": [],
   "source": [
    "str(uuid.uuid4())[:5]"
   ]
  },
  {
   "cell_type": "code",
   "execution_count": 91,
   "id": "cb770677",
   "metadata": {},
   "outputs": [],
   "source": [
    "import uuid\n",
    "class Account:\n",
    "    def __init__(self, initial_amount, minimum, interest_rate):\n",
    "        if (initial_amount < minimum):\n",
    "            raise ValueError(\"the initial amount must be >={}\".format(minimum))\n",
    "        self._id = str(uuid.uuid4())[:5]\n",
    "        self._minimum = minimum\n",
    "        self._amount_held = initial_amount\n",
    "        self._min_ever_held = initial_amount\n",
    "        self._interest_rate = interest_rate\n",
    "        self._good_standing = True\n",
    "        self._is_active = True\n",
    "    def get_id(self):\n",
    "        return self._id\n",
    "    def get_amount_held(self):\n",
    "        return self._amount_held\n",
    "    def get_minimum(self): \n",
    "        return self._minimum\n",
    "    def get_min_ever_held(self): \n",
    "        return self._min_ever_held\n",
    "    def get_interest_rate(self): \n",
    "        return self._interest_rate\n",
    "    def is_in_good_standing(self): \n",
    "        return self._good_standing\n",
    "    def is_active(self): \n",
    "        return self._is_active\n",
    "    def withdraw(self, w_amount):\n",
    "        # 1. compare the w_amount with amount_held\n",
    "        #.  if w_amount < amoung_held: go to step 2\n",
    "        if (w_amount > self._amount_held):\n",
    "            raise ValueError(\"can not withdraw more than what you have.\")\n",
    "        #.  else raise \"can not withdraw more than what you have\"\n",
    "        # 2. withdraw the money \n",
    "        self._amount_held = self._amount_held - w_amount\n",
    "        # 3. update _good_standing\n",
    "        if (self._amount_held < self._minimum):\n",
    "            self._good_standing = False\n",
    "        # 4. update _min_ever_held\n",
    "        if (self._amount_held < self._min_ever_held):\n",
    "            self._min_ever_held = self._amount_held\n",
    "    def deposit(self, d_amount):\n",
    "        # 1. update _amount_held\n",
    "        self._amount_held = self._amount_held + d_amount\n",
    "        # 2. update _good_standing\n",
    "        if (self._amount_held > self._minimum):\n",
    "            self._good_standing = True\n",
    "    def close_account(self):\n",
    "        self._is_active = False\n",
    "        return self._amount_held + self._min_ever_held * self._interest_rate "
   ]
  },
  {
   "cell_type": "code",
   "execution_count": 95,
   "id": "56e5bda7",
   "metadata": {},
   "outputs": [],
   "source": [
    "Ben_account = Account(1000, 100, 0.01)"
   ]
  },
  {
   "cell_type": "code",
   "execution_count": null,
   "id": "9d5a1dcd-20f5-415b-9cd5-819d69dd9f50",
   "metadata": {},
   "outputs": [],
   "source": [
    "Ben_account.get_id()"
   ]
  },
  {
   "cell_type": "code",
   "execution_count": null,
   "id": "f9d2ba56-35cd-44fc-8649-521bb668bffd",
   "metadata": {},
   "outputs": [],
   "source": [
    "Ben_account.get_amount_held()"
   ]
  },
  {
   "cell_type": "code",
   "execution_count": 102,
   "id": "aeb38b6c",
   "metadata": {},
   "outputs": [],
   "source": [
    "Ben_account.deposit(500)"
   ]
  },
  {
   "cell_type": "code",
   "execution_count": null,
   "id": "77e23f1a",
   "metadata": {},
   "outputs": [],
   "source": [
    "Ben_account.get_amount_held()"
   ]
  },
  {
   "cell_type": "code",
   "execution_count": null,
   "id": "7dab8c41-8a45-4071-b6d1-f4c14fae5bcd",
   "metadata": {},
   "outputs": [],
   "source": [
    "Ben_account.withdraw(1450)"
   ]
  },
  {
   "cell_type": "code",
   "execution_count": null,
   "id": "2c5da68d-dcb6-40bd-a53a-dc5cb9ed5b3f",
   "metadata": {},
   "outputs": [],
   "source": [
    "Ben_account.get_amount_held()"
   ]
  },
  {
   "cell_type": "code",
   "execution_count": null,
   "id": "170b3956-085f-4cc9-b624-473dcdf36439",
   "metadata": {},
   "outputs": [],
   "source": [
    "Ben_account.is_in_good_standing()"
   ]
  },
  {
   "cell_type": "code",
   "execution_count": 109,
   "id": "b9e1ebb2-d448-40bb-9ee9-6826f9030409",
   "metadata": {},
   "outputs": [],
   "source": [
    "Ben_account.deposit(200)"
   ]
  },
  {
   "cell_type": "markdown",
   "id": "33af97cc",
   "metadata": {},
   "source": [
    "As we all know, there are two common types of accounts: Checking and Saving account. Since they both belongs to account, they can be thought as a child class of the Account we have above. Besides the attributes and methods that already available, we have some unique features for Checking Account:\n",
    "\n",
    "* A checking account's minimum is 100.\n",
    "* Because of a rush in money laundering lawsuits against the bank, all of which involved frequent deposits to checking accounts, the bank limited deposits to checking accounts to only 5 times.\n",
    "\n",
    "The Checking Account class should have additional attrubutes:\n",
    "\n",
    "* max_num_deposits: the maximal number of allowed deposits\n",
    "* num_deposits: the number of deposits so far\n",
    "\n",
    "The Checking Account class should have additional methods:\n",
    "\n",
    "* deposit(self, d_amount): this method should be the same as its parent class. But since we have a limit on how many times you can deposit, \n",
    "    1. it should raise error if the number of deposits is >= than maximal number of deposits allowed.\n",
    "    2. increment the number of deposits by 1\n",
    "* get_num_deposits(self): return the number of deposits"
   ]
  },
  {
   "cell_type": "code",
   "execution_count": 110,
   "id": "62ac9627",
   "metadata": {},
   "outputs": [],
   "source": [
    "class CheckingAccount(Account):\n",
    "    def __init__(self, initial_amount, max_num_deposits=5, minimum=100, interest_rate=0.05):\n",
    "        super().__init__(initial_amount, minimum, interest_rate)\n",
    "        self._max_num_deposits = max_num_deposits\n",
    "        self._num_deposit = 0\n",
    "    def deposit(self, d_amount):\n",
    "        # 1.  check if self._num_deposit > self._max_num_deposits\n",
    "        #     raise error\n",
    "        if self._num_deposit > self._max_num_deposits:\n",
    "            raise ValueError(\"Can not deposit anymore\")\n",
    "        # 2. deposit\n",
    "        super().deposit(d_amount)\n",
    "        # update self._num_deposit\n",
    "        self._num_deposit += 1"
   ]
  }
 ],
 "metadata": {
  "kernelspec": {
   "display_name": "Python 3 (ipykernel)",
   "language": "python",
   "name": "python3"
  },
  "language_info": {
   "codemirror_mode": {
    "name": "ipython",
    "version": 3
   },
   "file_extension": ".py",
   "mimetype": "text/x-python",
   "name": "python",
   "nbconvert_exporter": "python",
   "pygments_lexer": "ipython3",
   "version": "3.12.4"
  }
 },
 "nbformat": 4,
 "nbformat_minor": 5
}
